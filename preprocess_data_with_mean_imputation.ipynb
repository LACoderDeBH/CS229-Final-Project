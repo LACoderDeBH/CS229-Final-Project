{
 "cells": [
  {
   "cell_type": "code",
   "execution_count": 1,
   "metadata": {},
   "outputs": [],
   "source": [
    "import csv\n",
    "import argparse\n",
    "import pandas as pd\n",
    "import numpy as np"
   ]
  },
  {
   "cell_type": "code",
   "execution_count": 39,
   "metadata": {},
   "outputs": [],
   "source": [
    "batting_data_path = 'bsb_ref.csv'\n",
    "# INFO:\n",
    "# 101,332 Players with up to 20 features each (exluding year, including team)\n",
    "# if metric not reported for player, set to 0.0 by default\n",
    "\n",
    "df = pd.read_csv(batting_data_path)\n",
    "df_recent_players = df[df.year_ID >= 1975] #48k players\n",
    "\n",
    "# find players with the highest number of years \n",
    "players = list(set(df_recent_players['name_common']))"
   ]
  },
  {
   "cell_type": "code",
   "execution_count": null,
   "metadata": {},
   "outputs": [
    {
     "name": "stdout",
     "output_type": "stream",
     "text": [
      "counter  0\n",
      "counter  100\n",
      "counter  200\n"
     ]
    }
   ],
   "source": [
    "from sklearn.preprocessing import Imputer\n",
    "import warnings\n",
    "warnings.filterwarnings(\"ignore\", category=DeprecationWarning)\n",
    "\n",
    "df_without_strings = df_recent_players.select_dtypes(include='float64')\n",
    "name_col = pd.Series.to_frame(df_recent_players['name_common'])\n",
    "\n",
    "df_without_strings = pd.concat([name_col, df_without_strings], axis=1)\n",
    "fixed_array = np.zeros((1, 41))\n",
    "\n",
    "for i, player in enumerate(players):\n",
    "    rows_per_player = df_recent_players[df_recent_players['name_common'] == player]\n",
    "    row_without_name = df_recent_players.select_dtypes(include='float64')\n",
    "    mean_imputer = Imputer(missing_values='NaN', strategy='mean', axis=0)\n",
    "    mean_imputer = mean_imputer.fit(row_without_name)\n",
    "    imputed_df = mean_imputer.transform(row_without_name.values)\n",
    "    if i % 100 == 0: print(\"counter \", i)\n",
    "    fixed_array = np.concatenate((fixed_array, imputed_df), axis=0)\n",
    "    \n",
    "    \n",
    "\n",
    "fixed = pd.DataFrame(data=fixed_array, columns=df_without_strings.columns)\n",
    "fixed_with_names = pd.concat([name_col, fixed], axis=1)\n",
    "fixed.head()\n",
    "\n",
    "\n",
    "\n",
    "    \n",
    "    "
   ]
  },
  {
   "cell_type": "code",
   "execution_count": null,
   "metadata": {},
   "outputs": [],
   "source": []
  }
 ],
 "metadata": {
  "kernelspec": {
   "display_name": "Python 3",
   "language": "python",
   "name": "python3"
  },
  "language_info": {
   "codemirror_mode": {
    "name": "ipython",
    "version": 3
   },
   "file_extension": ".py",
   "mimetype": "text/x-python",
   "name": "python",
   "nbconvert_exporter": "python",
   "pygments_lexer": "ipython3",
   "version": "3.7.1"
  }
 },
 "nbformat": 4,
 "nbformat_minor": 2
}
