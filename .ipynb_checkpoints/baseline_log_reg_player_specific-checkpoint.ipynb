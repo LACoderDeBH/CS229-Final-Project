{
 "cells": [
  {
   "cell_type": "code",
   "execution_count": 1,
   "metadata": {},
   "outputs": [],
   "source": [
    "import csv\n",
    "import argparse\n",
    "import pandas as pd\n",
    "import numpy as np\n",
    "import os\n",
    "\n",
    "from sklearn.linear_model import LinearRegression"
   ]
  },
  {
   "cell_type": "code",
   "execution_count": 2,
   "metadata": {},
   "outputs": [],
   "source": [
    "batting_data_path = 'bsb_ref.csv'\n",
    "# INFO:\n",
    "# 101,332 Players with up to 20 features each (exluding year, including team)\n",
    "# if metric not reported for player, set to 0.0 by default\n",
    "\n",
    "df = pd.read_csv(batting_data_path)\n",
    "df = df.fillna(0)"
   ]
  },
  {
   "cell_type": "code",
   "execution_count": 136,
   "metadata": {},
   "outputs": [],
   "source": [
    "# focusing on players after 1975\n",
    "df_recent_players = df[df.year_ID >= 1975] #48k players\n",
    "\n",
    "df_probably_not_pitchers = df_recent_players[df_recent_players['PA'] >= 50]\n",
    "\n",
    "# find players with the highest number of years \n",
    "players = list(set(df_probably_not_pitchers['name_common'])) # just a set of all players\n",
    "\n",
    "# sorting by number of years active\n",
    "sorted_players = sorted(players, key=lambda player: len(df_probably_not_pitchers[df_probably_not_pitchers['name_common'] == player]), reverse=True)\n",
    "\n",
    "\n"
   ]
  },
  {
   "cell_type": "code",
   "execution_count": 137,
   "metadata": {},
   "outputs": [],
   "source": [
    "import random\n",
    "# select 10 random players from the top 50 players in terms of number of years available\n",
    "sample = random.sample(range(0, 50), 10)\n",
    "players_to_analyze = [sorted_players[i] for i in sample]"
   ]
  },
  {
   "cell_type": "code",
   "execution_count": 152,
   "metadata": {
    "scrolled": true
   },
   "outputs": [
    {
     "name": "stderr",
     "output_type": "stream",
     "text": [
      "/Users/StephanieBrito/anaconda3/lib/python3.7/site-packages/sklearn/preprocessing/data.py:625: DataConversionWarning: Data with input dtype int64, float64 were all converted to float64 by StandardScaler.\n",
      "  return self.partial_fit(X, y)\n",
      "/Users/StephanieBrito/anaconda3/lib/python3.7/site-packages/sklearn/base.py:462: DataConversionWarning: Data with input dtype int64, float64 were all converted to float64 by StandardScaler.\n",
      "  return self.fit(X, **fit_params).transform(X)\n"
     ]
    },
    {
     "name": "stdout",
     "output_type": "stream",
     "text": [
      "[0.73871364 0.23161563]\n"
     ]
    },
    {
     "data": {
      "image/png": "[encoded data removed]",
      "text/plain": [
       "<Figure size 576x576 with 1 Axes>"
      ]
     },
     "metadata": {
      "needs_background": "light"
     },
     "output_type": "display_data"
    }
   ],
   "source": [
    "import matplotlib.pyplot as plt\n",
    "from sklearn.linear_model import LogisticRegression\n",
    "from sklearn.preprocessing import StandardScaler\n",
    "from sklearn.decomposition import PCA\n",
    "\n",
    "\n",
    "for i, player in enumerate(players_to_analyze[:1]):\n",
    "    ops_correlation = []\n",
    "    # a list of all rows pertaining to a player\n",
    "    player_stats = df_probably_not_pitchers[df_probably_not_pitchers['name_common'] == player]\n",
    "    \n",
    "    # select the columns you want to perform analysis on here\n",
    "    x_data = player_stats[['PA', 'Inn', 'G', 'runs_bat', 'WAR', 'WAA']]\n",
    "\n",
    "    # this performs the pca on the given columns\n",
    "    x = StandardScaler().fit_transform(x_data)\n",
    "    pca = PCA(n_components=2)\n",
    "    principalComponents = pca.fit_transform(x)\n",
    "    principalDf = pd.DataFrame(data = principalComponents, columns = ['principal component 1', 'principal component 2'])\n",
    "    y = df_probably_not_pitchers.loc[:,['OPS_plus']].values\n",
    "\n",
    "    # naive bucketing of values to create a PCA plot.\n",
    "    # improving the bucketing could improve the plots\n",
    "    min_val = player_stats['OPS_plus'].min()\n",
    "    max_val = player_stats['OPS_plus'].max()\n",
    "\n",
    "    buckets = np.linspace(min_val, max_val + 1, 4)\n",
    "    y = pd.cut(player_stats['OPS_plus'], buckets)\n",
    "    categories = y.cat.categories\n",
    "    \n",
    "    # making a DF with the values\n",
    "    y = y.reset_index()\n",
    "    y = y.drop(columns=['index'], axis=1)\n",
    "\n",
    "    finalDf = pd.concat([principalDf, y], axis = 1)\n",
    "\n",
    "    # ploting the PCA for a given player\n",
    "    fig = plt.figure(figsize = (8,8))\n",
    "    ax = fig.add_subplot(1,1,1) \n",
    "    ax.set_xlabel('Principal Component 1', fontsize = 15)\n",
    "    ax.set_ylabel('Principal Component 2', fontsize = 15)\n",
    "    ax.set_title('2 component PCA for ' + player, fontsize = 20)\n",
    "    targets = categories\n",
    "    colors = ['r', 'g', 'b']\n",
    "    for target, color in zip(targets,colors):\n",
    "        indicesToKeep = y['OPS_plus'] == target\n",
    "        ax.scatter(finalDf.loc[indicesToKeep, 'principal component 1']\n",
    "               , finalDf.loc[indicesToKeep, 'principal component 2']\n",
    "               , c = color\n",
    "               , s = 50)\n",
    "    \n",
    "    # the sum of this how much of the variance in the data is explained by the principal component\n",
    "    print(pca.explained_variance_ratio_)\n",
    "    ax.legend(targets)\n",
    "    ax.grid()\n",
    "\n"
   ]
  },
  {
   "cell_type": "code",
   "execution_count": null,
   "metadata": {},
   "outputs": [],
   "source": []
  }
 ],
 "metadata": {
  "kernelspec": {
   "display_name": "Python 3",
   "language": "python",
   "name": "python3"
  },
  "language_info": {
   "codemirror_mode": {
    "name": "ipython",
    "version": 3
   },
   "file_extension": ".py",
   "mimetype": "text/x-python",
   "name": "python",
   "nbconvert_exporter": "python",
   "pygments_lexer": "ipython3",
   "version": "3.7.1"
  }
 },
 "nbformat": 4,
 "nbformat_minor": 2
}
