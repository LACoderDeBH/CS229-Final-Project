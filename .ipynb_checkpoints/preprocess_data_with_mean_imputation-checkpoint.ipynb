{
 "cells": [
  {
   "cell_type": "code",
   "execution_count": 1,
   "metadata": {},
   "outputs": [],
   "source": [
    "import csv\n",
    "import argparse\n",
    "import pandas as pd\n",
    "import numpy as np"
   ]
  },
  {
   "cell_type": "code",
   "execution_count": 2,
   "metadata": {},
   "outputs": [],
   "source": [
    "batting_data_path = 'bsb_ref.csv'\n",
    "# INFO:\n",
    "# 101,332 Players with up to 20 features each (exluding year, including team)\n",
    "# if metric not reported for player, set to 0.0 by default\n",
    "\n",
    "df = pd.read_csv(batting_data_path)\n",
    "df_recent_players = df[df.year_ID >= 1975] #48k players\n",
    "\n",
    "# find players with the highest number of years \n",
    "players = list(set(df_recent_players['name_common'])) # just a set of all players"
   ]
  },
  {
   "cell_type": "code",
   "execution_count": 10,
   "metadata": {},
   "outputs": [
    {
     "name": "stdout",
     "output_type": "stream",
     "text": [
      "[['David Aardsma' 22.0 430911.0 'aardsda01' 2004 'SFG' 1 'NL' 0.0 11 10.7\n",
      "  0.0 0.0 0.0 0.0 0.0 0.0 0.0 0.0 0.0 0.0 0.0 0.0 0.0 0.0 0.0 0.0 0.0 0.0\n",
      "  -0.01 0.0 -0.01 0.0 0.0 300000.0 'Y' 4.67092 4.67092 0.08651 4.67092\n",
      "  1.89 1.89 0.5 0.5 0.5 0.5 nan 0.0 0.0]\n",
      " ['David Aardsma' 24.0 430911.0 'aardsda01' 2006 'CHC' 1 'NL' 3.0 43 53.0\n",
      "  -0.9 0.0 0.0 0.0 0.0 0.0 0.0 0.0 0.0 0.01 0.46 0.0 -0.4 -0.4 -0.4 0.0\n",
      "  -0.04 -0.04 -0.01 -0.04 -0.01 -0.04 0.0 nan 'Y' 4.85675 4.86675 0.09085\n",
      "  4.86457 1.912 1.913 0.499 0.499 0.5 0.4998 -100.0 0.6940000000000001\n",
      "  0.8959999999999999]\n",
      " ['David Aardsma' 25.0 430911.0 'aardsda01' 2007 'CHW' 1 'AL' 0.0 2 32.3\n",
      "  0.0 0.0 0.0 0.0 0.0 0.0 0.0 0.0 0.0 0.0 0.0 0.0 0.0 0.0 0.0 0.0 0.0 0.0\n",
      "  0.0 0.0 0.0 0.0 0.0 387500.0 'Y' 4.85895 4.85895 0.08422 4.85895 1.912\n",
      "  1.912 0.5 0.5 0.5 0.5 nan 0.0 0.0]\n",
      " ['David Aardsma' 26.0 430911.0 'aardsda01' 2008 'BOS' 1 'AL' 1.0 5 48.7\n",
      "  -0.29 0.0 0.0 0.0 0.0 0.0 0.0 0.0 0.0 0.0 0.14 0.0 -0.2 -0.2 -0.2 0.0\n",
      "  -0.02 -0.02 0.0 -0.02 0.0 -0.02 0.0 403250.0 'Y' 4.674 4.704 0.08092\n",
      "  4.6965 1.893 1.8940000000000001 0.497 0.497 0.5 0.4992 -100.0 0.345\n",
      "  0.434]\n",
      " ['David Aardsma' 27.0 430911.0 'aardsda01' 2009 'SEA' 1 'AL' 0.0 3 71.3\n",
      "  0.0 0.0 0.0 0.0 0.0 0.0 0.0 0.0 0.0 0.0 0.0 0.0 0.0 0.0 0.0 0.0 0.0 0.0\n",
      "  0.0 0.0 0.0 0.0 0.0 419000.0 'Y' 4.79788 4.79788 0.08302000000000001\n",
      "  4.79788 1.905 1.905 0.5 0.5 0.5 0.5 nan 0.0 0.0]\n",
      " ['David Aardsma' 28.0 430911.0 'aardsda01' 2010 'SEA' 1 'AL' 0.0 4 49.7\n",
      "  0.0 0.0 0.0 0.0 0.0 0.0 0.0 0.0 0.0 0.0 0.0 0.0 0.0 0.0 0.0 0.0 0.0 0.0\n",
      "  0.0 0.0 0.0 0.0 0.0 2750000.0 'Y' 4.44684 4.44684 0.07567 4.44684 1.864\n",
      "  1.864 0.5 0.5 0.5 0.5 nan 0.0 0.0]\n",
      " ['David Aardsma' 30.0 430911.0 'aardsda01' 2012 'NYY' 1 'AL' 0.0 0 1.0\n",
      "  0.0 0.0 0.0 0.0 0.0 0.0 0.0 0.0 0.0 0.0 0.0 0.0 0.0 0.0 0.0 0.0 nan nan\n",
      "  nan nan nan nan nan 500000.0 'Y' nan 4.41052 0.07575 nan nan nan nan\n",
      "  nan nan nan nan 0.0 0.0]\n",
      " ['David Aardsma' 31.0 430911.0 'aardsda01' 2013 'NYM' 1 'NL' 0.0 41 39.7\n",
      "  0.0 0.0 0.0 0.0 0.0 0.0 0.0 0.0 0.0 0.0 0.0 0.0 0.0 0.0 0.0 0.0 0.0 0.0\n",
      "  -0.04 0.0 -0.04 0.0 0.0 nan 'Y' 4.02801 4.02801 0.07153999999999999\n",
      "  4.02801 1.8119999999999998 1.8119999999999998 0.5 0.5 0.5 0.5 nan 0.0\n",
      "  0.0]\n",
      " ['David Aardsma' 33.0 430911.0 'aardsda01' 2015 'ATL' 1 'NL' 1.0 30 30.7\n",
      "  -0.26 0.0 0.0 0.0 0.0 0.0 0.0 0.0 0.0 0.0 0.14 0.0 -0.1 -0.1 -0.1 0.0\n",
      "  -0.01 -0.01 -0.01 -0.01 -0.01 -0.01 0.0 nan 'Y' 4.21822 4.22222\n",
      "  0.07612999999999999 4.22114 1.837 1.837 0.4996 0.4996 0.5 0.4999 -100.0\n",
      "  0.32 0.40399999999999997]]\n"
     ]
    }
   ],
   "source": [
    "print((df_recent_players[df_recent_players['name_common'] == 'David Aardsma']).values.shape)\n",
    "\n",
    "# for player in players[:4]:\n",
    "#     tensor = np.stack(df_recent_players[df_recent_players['name_common'] == player])\n",
    "    \n",
    "    "
   ]
  },
  {
   "cell_type": "code",
   "execution_count": null,
   "metadata": {},
   "outputs": [],
   "source": []
  }
 ],
 "metadata": {
  "kernelspec": {
   "display_name": "Python 3",
   "language": "python",
   "name": "python3"
  },
  "language_info": {
   "codemirror_mode": {
    "name": "ipython",
    "version": 3
   },
   "file_extension": ".py",
   "mimetype": "text/x-python",
   "name": "python",
   "nbconvert_exporter": "python",
   "pygments_lexer": "ipython3",
   "version": "3.7.1"
  }
 },
 "nbformat": 4,
 "nbformat_minor": 2
}
