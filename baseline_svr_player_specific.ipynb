{
 "cells": [
  {
   "cell_type": "code",
   "execution_count": 294,
   "metadata": {},
   "outputs": [],
   "source": [
    "import numpy as np\n",
    "from sklearn.svm import SVR\n",
    "import pandas as pd\n",
    "import matplotlib.pyplot as plt\n",
    "from sklearn.model_selection import GridSearchCV\n",
    "from sklearn import preprocessing\n"
   ]
  },
  {
   "cell_type": "code",
   "execution_count": 295,
   "metadata": {},
   "outputs": [
    {
     "name": "stdout",
     "output_type": "stream",
     "text": [
      "['Tim Raines', 'Harold Baines', 'Dave Martinez', 'Adrian Beltre', 'Aramis Ramirez', 'Alex Rodriguez', 'Lenny Harris', 'Kenny Lofton', 'Jerry Hairston', 'Jose Cruz', 'Barry Bonds', 'Derek Jeter', 'Luis Gonzalez', 'Shawon Dunston', 'Andre Dawson', 'Carlos Beltran', 'Craig Biggio', 'Alex Gonzalez', 'Fred McGriff', 'Sandy Alomar', 'Julio Franco', 'Frank Thomas', 'Dave Winfield', 'Cal Ripken Jr.', 'Ivan Rodriguez', 'Tony Phillips', 'Ken Griffey', 'Jim Thome', 'Gary Matthews', 'Todd Zeile', 'Rickey Henderson', 'Omar Vizquel', 'Tony Pena', 'Jason Giambi', 'Tony Gwynn', 'Manny Ramirez', 'Steve Finley', 'B.J. Surhoff', 'Ruben Sierra', 'Tom Glavine', 'Ken Griffey Jr.', 'Gary Sheffield', 'Gary Gaetti', 'Paul Molitor', 'Eddie Murray', 'Rafael Palmeiro']\n"
     ]
    }
   ],
   "source": [
    "batting_data_path = 'bsb_ref.csv'\n",
    "# INFO:\n",
    "# 101,332 Players with up to 20 features each (exluding year, including team)\n",
    "# if metric not reported for player, set to 0.0 by default\n",
    "\n",
    "df_original = pd.read_csv(batting_data_path)\n",
    "df = df_original.fillna(0) # fixing this could really help with results potentially\n",
    "df_recent_players = df[df.year_ID >= 1975] \n",
    "df_probably_not_pitchers = df_recent_players[df_recent_players['PA'] >= 50]\n",
    "\n",
    "# for the player specific SVR, I will choose players with at least 20 years of activity. \n",
    "# the data will be split as follows:\n",
    "# x_train: year 0-5 data. the shape is: (num_samples, num_features) -> (6, num_features)\n",
    "# y_train: year 6-12 OPS_plus. the shape is: (num_samples, 1) -> (6,1)\n",
    "\n",
    "# x_test: year 13-14 data\n",
    "# y_test: year 14-15 data\n",
    "players = list(set(df_probably_not_pitchers['name_common'])) # just a set of all players\n",
    "\n",
    "players_with_more_than_20_years = [player for player in players if len(df_probably_not_pitchers[df_probably_not_pitchers['name_common'] == player]) >= 20]\n",
    "print(players_with_more_than_20_years)"
   ]
  },
  {
   "cell_type": "code",
   "execution_count": 296,
   "metadata": {},
   "outputs": [],
   "source": [
    "def prepare_test_train(player_x_data, player_y_data):\n",
    "    i_0, i_1, i_2, i_3 = 6, 12, 14, 16 # hardcoded for now. these are just the ranges described above\n",
    "    x_train = player_x_data[:i_0,:]\n",
    "    y_train = player_y_data[i_0:i_1]\n",
    "    x_test = player_x_data[i_1:i_2]\n",
    "    y_test = player_y_data[i_2: i_3]\n",
    "    print(x_train.shape, y_train.shape, x_test.shape, y_test.shape)\n",
    "    return (x_train, y_train, x_test, y_test)"
   ]
  },
  {
   "cell_type": "code",
   "execution_count": 297,
   "metadata": {},
   "outputs": [],
   "source": [
    "def run_svr(data_tuple):\n",
    "    x_train, y_train, x_test, y_test = data_tuple\n",
    "    parameters = {\n",
    "    \"kernel\": [\"rbf\"],\n",
    "    \"C\": [1,10,10,100,1000],\n",
    "    \"gamma\": [1e-8, 1e-7, 1e-6, 1e-5, 1e-4, 1e-3, 1e-2, 1e-1]\n",
    "    }\n",
    "\n",
    "    svr = GridSearchCV(SVR(), parameters, cv=5)\n",
    "    svr.fit(x_train, y_train.ravel())\n",
    "\n",
    "    y_svr_pred = svr.predict(x_test)\n",
    "    print(y_test.ravel())\n",
    "    print(y_svr_pred)\n",
    "\n",
    "    print('Score: %.3f' % svr.score(x_train, y_train))\n",
    "    print(\"Mean squared error: %.3f\" % mean_squared_error(y_test, y_svr_pred))\n",
    "    print('Mean Absolute error: %.3f' % mean_absolute_error(y_test, y_svr_pred))\n",
    "    print('Variance score: %.3f' % r2_score(y_test, y_svr_pred))\n",
    "\n",
    "\n",
    "    "
   ]
  },
  {
   "cell_type": "code",
   "execution_count": 298,
   "metadata": {},
   "outputs": [],
   "source": [
    "def prepare_rows(player_rows):\n",
    "    player_x_data =player_rows[['PA', 'G', 'Inn', 'runs_bat', 'runs_br', 'runs_dp', 'runs_field',\n",
    "                                       'WAA', 'WAA_off', 'WAA_def', 'WAR', 'WAR_def', 'WAR_off', 'WAR_rep',\n",
    "                                         'teamRpG', 'oppRpG', 'oppRpPA_rep', 'oppRpG_rep', 'OPS_plus']].values\n",
    "    player_y_data = player_rows[['OPS_plus']].values\n",
    "    return (preprocessing.scale(sandy_rows_np), preprocessing.scale(player_y_data))\n",
    "    "
   ]
  },
  {
   "cell_type": "code",
   "execution_count": 299,
   "metadata": {},
   "outputs": [
    {
     "name": "stdout",
     "output_type": "stream",
     "text": [
      "Tim Raines\n",
      "(6, 19) (6, 1) (2, 19) (2, 1)\n"
     ]
    },
    {
     "name": "stderr",
     "output_type": "stream",
     "text": [
      "/Users/StephanieBrito/anaconda3/lib/python3.7/site-packages/sklearn/model_selection/_search.py:841: DeprecationWarning: The default of the `iid` parameter will change from True to False in version 0.22 and will be removed in 0.24. This will change numeric results when test-set sizes are unequal.\n",
      "  DeprecationWarning)\n"
     ]
    },
    {
     "name": "stdout",
     "output_type": "stream",
     "text": [
      "[-0.23391573 -0.12815217]\n",
      "[-0.01984985  0.16741433]\n",
      "Score: 0.580\n",
      "Mean squared error: 0.067\n",
      "Mean Absolute error: 0.255\n",
      "Variance score: -22.813\n",
      "Harold Baines\n",
      "(6, 19) (6, 1) (2, 19) (2, 1)\n"
     ]
    },
    {
     "name": "stderr",
     "output_type": "stream",
     "text": [
      "/Users/StephanieBrito/anaconda3/lib/python3.7/site-packages/sklearn/model_selection/_search.py:841: DeprecationWarning: The default of the `iid` parameter will change from True to False in version 0.22 and will be removed in 0.24. This will change numeric results when test-set sizes are unequal.\n",
      "  DeprecationWarning)\n"
     ]
    },
    {
     "name": "stdout",
     "output_type": "stream",
     "text": [
      "[-0.17332996  0.71362622]\n",
      "[0.06980729 0.06980753]\n",
      "Score: -0.117\n",
      "Mean squared error: 0.237\n",
      "Mean Absolute error: 0.443\n",
      "Variance score: -0.204\n",
      "Dave Martinez\n",
      "(6, 19) (6, 1) (2, 19) (2, 1)\n"
     ]
    },
    {
     "name": "stderr",
     "output_type": "stream",
     "text": [
      "/Users/StephanieBrito/anaconda3/lib/python3.7/site-packages/sklearn/model_selection/_search.py:841: DeprecationWarning: The default of the `iid` parameter will change from True to False in version 0.22 and will be removed in 0.24. This will change numeric results when test-set sizes are unequal.\n",
      "  DeprecationWarning)\n"
     ]
    },
    {
     "name": "stdout",
     "output_type": "stream",
     "text": [
      "[ 0.19147835 -2.43758064]\n",
      "[0.48590961 0.48590904]\n",
      "Score: -0.000\n",
      "Mean squared error: 4.317\n",
      "Mean Absolute error: 1.609\n",
      "Variance score: -1.498\n",
      "Adrian Beltre\n",
      "(6, 19) (6, 1) (2, 19) (2, 1)\n"
     ]
    },
    {
     "name": "stderr",
     "output_type": "stream",
     "text": [
      "/Users/StephanieBrito/anaconda3/lib/python3.7/site-packages/sklearn/model_selection/_search.py:841: DeprecationWarning: The default of the `iid` parameter will change from True to False in version 0.22 and will be removed in 0.24. This will change numeric results when test-set sizes are unequal.\n",
      "  DeprecationWarning)\n"
     ]
    },
    {
     "name": "stdout",
     "output_type": "stream",
     "text": [
      "[1.10326561 1.04396506]\n",
      "[-0.29381201 -0.29381213]\n",
      "Score: -0.022\n",
      "Mean squared error: 1.871\n",
      "Mean Absolute error: 1.367\n",
      "Variance score: -2126.920\n",
      "Aramis Ramirez\n",
      "(6, 19) (6, 1) (2, 19) (2, 1)\n"
     ]
    },
    {
     "name": "stderr",
     "output_type": "stream",
     "text": [
      "/Users/StephanieBrito/anaconda3/lib/python3.7/site-packages/sklearn/model_selection/_search.py:841: DeprecationWarning: The default of the `iid` parameter will change from True to False in version 0.22 and will be removed in 0.24. This will change numeric results when test-set sizes are unequal.\n",
      "  DeprecationWarning)\n"
     ]
    },
    {
     "name": "stdout",
     "output_type": "stream",
     "text": [
      "[1.00104395 1.00358912]\n",
      "[0.77750362 0.77750384]\n",
      "Score: -0.088\n",
      "Mean squared error: 0.051\n",
      "Mean Absolute error: 0.225\n",
      "Variance score: -31208.016\n",
      "Alex Rodriguez\n",
      "(6, 19) (6, 1) (2, 19) (2, 1)\n"
     ]
    },
    {
     "name": "stderr",
     "output_type": "stream",
     "text": [
      "/Users/StephanieBrito/anaconda3/lib/python3.7/site-packages/sklearn/model_selection/_search.py:841: DeprecationWarning: The default of the `iid` parameter will change from True to False in version 0.22 and will be removed in 0.24. This will change numeric results when test-set sizes are unequal.\n",
      "  DeprecationWarning)\n"
     ]
    },
    {
     "name": "stdout",
     "output_type": "stream",
     "text": [
      "[0.56854228 0.27256929]\n",
      "[0.54978037 0.80688913]\n",
      "Score: 0.860\n",
      "Mean squared error: 0.143\n",
      "Mean Absolute error: 0.277\n",
      "Variance score: -5.526\n",
      "Lenny Harris\n",
      "(6, 19) (6, 1) (2, 19) (2, 1)\n"
     ]
    },
    {
     "name": "stderr",
     "output_type": "stream",
     "text": [
      "/Users/StephanieBrito/anaconda3/lib/python3.7/site-packages/sklearn/model_selection/_search.py:841: DeprecationWarning: The default of the `iid` parameter will change from True to False in version 0.22 and will be removed in 0.24. This will change numeric results when test-set sizes are unequal.\n",
      "  DeprecationWarning)\n"
     ]
    },
    {
     "name": "stdout",
     "output_type": "stream",
     "text": [
      "[-2.03681418  1.27462578]\n",
      "[0.17463597 0.25166571]\n",
      "Score: 0.453\n",
      "Mean squared error: 2.968\n",
      "Mean Absolute error: 1.617\n",
      "Variance score: -0.083\n",
      "Kenny Lofton\n",
      "(6, 19) (6, 1) (2, 19) (2, 1)\n"
     ]
    },
    {
     "name": "stderr",
     "output_type": "stream",
     "text": [
      "/Users/StephanieBrito/anaconda3/lib/python3.7/site-packages/sklearn/model_selection/_search.py:841: DeprecationWarning: The default of the `iid` parameter will change from True to False in version 0.22 and will be removed in 0.24. This will change numeric results when test-set sizes are unequal.\n",
      "  DeprecationWarning)\n"
     ]
    },
    {
     "name": "stdout",
     "output_type": "stream",
     "text": [
      "[-0.31756858 -0.4576521 ]\n",
      "[-0.11401393  0.00156705]\n",
      "Score: 0.965\n",
      "Mean squared error: 0.126\n",
      "Mean Absolute error: 0.331\n",
      "Variance score: -24.716\n",
      "Jerry Hairston\n",
      "(6, 19) (6, 1) (2, 19) (2, 1)\n"
     ]
    },
    {
     "name": "stderr",
     "output_type": "stream",
     "text": [
      "/Users/StephanieBrito/anaconda3/lib/python3.7/site-packages/sklearn/model_selection/_search.py:841: DeprecationWarning: The default of the `iid` parameter will change from True to False in version 0.22 and will be removed in 0.24. This will change numeric results when test-set sizes are unequal.\n",
      "  DeprecationWarning)\n"
     ]
    },
    {
     "name": "stdout",
     "output_type": "stream",
     "text": [
      "[ 0.66921073 -0.24539942]\n",
      "[0.04373509 0.28345525]\n",
      "Score: 0.039\n",
      "Mean squared error: 0.335\n",
      "Mean Absolute error: 0.577\n",
      "Variance score: -0.604\n",
      "Jose Cruz\n",
      "(6, 19) (6, 1) (2, 19) (2, 1)\n"
     ]
    },
    {
     "name": "stderr",
     "output_type": "stream",
     "text": [
      "/Users/StephanieBrito/anaconda3/lib/python3.7/site-packages/sklearn/model_selection/_search.py:841: DeprecationWarning: The default of the `iid` parameter will change from True to False in version 0.22 and will be removed in 0.24. This will change numeric results when test-set sizes are unequal.\n",
      "  DeprecationWarning)\n"
     ]
    },
    {
     "name": "stdout",
     "output_type": "stream",
     "text": [
      "[ 0.45450362 -0.25942849]\n",
      "[0.69484358 0.28851162]\n",
      "Score: 0.929\n",
      "Mean squared error: 0.179\n",
      "Mean Absolute error: 0.394\n",
      "Variance score: -0.405\n",
      "Barry Bonds\n",
      "(6, 19) (6, 1) (2, 19) (2, 1)\n"
     ]
    },
    {
     "name": "stderr",
     "output_type": "stream",
     "text": [
      "/Users/StephanieBrito/anaconda3/lib/python3.7/site-packages/sklearn/model_selection/_search.py:841: DeprecationWarning: The default of the `iid` parameter will change from True to False in version 0.22 and will be removed in 0.24. This will change numeric results when test-set sizes are unequal.\n",
      "  DeprecationWarning)\n"
     ]
    },
    {
     "name": "stdout",
     "output_type": "stream",
     "text": [
      "[0.16175928 1.80291353]\n",
      "[0.09771477 0.09771498]\n",
      "Score: -0.010\n",
      "Mean squared error: 1.456\n",
      "Mean Absolute error: 0.885\n",
      "Variance score: -1.162\n",
      "Derek Jeter\n",
      "(6, 19) (6, 1) (2, 19) (2, 1)\n"
     ]
    },
    {
     "name": "stderr",
     "output_type": "stream",
     "text": [
      "/Users/StephanieBrito/anaconda3/lib/python3.7/site-packages/sklearn/model_selection/_search.py:841: DeprecationWarning: The default of the `iid` parameter will change from True to False in version 0.22 and will be removed in 0.24. This will change numeric results when test-set sizes are unequal.\n",
      "  DeprecationWarning)\n"
     ]
    },
    {
     "name": "stdout",
     "output_type": "stream",
     "text": [
      "[ 0.64287714 -0.88445124]\n",
      "[0.56199437 0.56199386]\n",
      "Score: -0.012\n",
      "Mean squared error: 1.049\n",
      "Mean Absolute error: 0.764\n",
      "Variance score: -0.799\n",
      "Luis Gonzalez\n",
      "(6, 19) (6, 1) (2, 19) (2, 1)\n"
     ]
    },
    {
     "name": "stderr",
     "output_type": "stream",
     "text": [
      "/Users/StephanieBrito/anaconda3/lib/python3.7/site-packages/sklearn/model_selection/_search.py:841: DeprecationWarning: The default of the `iid` parameter will change from True to False in version 0.22 and will be removed in 0.24. This will change numeric results when test-set sizes are unequal.\n",
      "  DeprecationWarning)\n"
     ]
    },
    {
     "name": "stdout",
     "output_type": "stream",
     "text": [
      "[0.27904079 0.06980152]\n",
      "[0.37383478 0.37383414]\n",
      "Score: -0.043\n",
      "Mean squared error: 0.051\n",
      "Mean Absolute error: 0.199\n",
      "Variance score: -3.633\n",
      "Shawon Dunston\n",
      "(6, 19) (6, 1) (2, 19) (2, 1)\n"
     ]
    },
    {
     "name": "stderr",
     "output_type": "stream",
     "text": [
      "/Users/StephanieBrito/anaconda3/lib/python3.7/site-packages/sklearn/model_selection/_search.py:841: DeprecationWarning: The default of the `iid` parameter will change from True to False in version 0.22 and will be removed in 0.24. This will change numeric results when test-set sizes are unequal.\n",
      "  DeprecationWarning)\n"
     ]
    },
    {
     "name": "stdout",
     "output_type": "stream",
     "text": [
      "[-1.17519791  0.38572055]\n",
      "[0.21962054 0.21962068]\n",
      "Score: -0.000\n",
      "Mean squared error: 0.987\n",
      "Mean Absolute error: 0.780\n",
      "Variance score: -0.620\n",
      "Andre Dawson\n",
      "(6, 19) (6, 1) (2, 19) (2, 1)\n"
     ]
    },
    {
     "name": "stderr",
     "output_type": "stream",
     "text": [
      "/Users/StephanieBrito/anaconda3/lib/python3.7/site-packages/sklearn/model_selection/_search.py:841: DeprecationWarning: The default of the `iid` parameter will change from True to False in version 0.22 and will be removed in 0.24. This will change numeric results when test-set sizes are unequal.\n",
      "  DeprecationWarning)\n"
     ]
    },
    {
     "name": "stdout",
     "output_type": "stream",
     "text": [
      "[0.96302286 0.06203615]\n",
      "[0.31947375 0.75421174]\n",
      "Score: 0.763\n",
      "Mean squared error: 0.447\n",
      "Mean Absolute error: 0.668\n",
      "Variance score: -1.201\n",
      "Carlos Beltran\n",
      "(6, 19) (6, 1) (2, 19) (2, 1)\n"
     ]
    },
    {
     "name": "stderr",
     "output_type": "stream",
     "text": [
      "/Users/StephanieBrito/anaconda3/lib/python3.7/site-packages/sklearn/model_selection/_search.py:841: DeprecationWarning: The default of the `iid` parameter will change from True to False in version 0.22 and will be removed in 0.24. This will change numeric results when test-set sizes are unequal.\n",
      "  DeprecationWarning)\n"
     ]
    },
    {
     "name": "stdout",
     "output_type": "stream",
     "text": [
      "[1.43047281 1.75615436]\n",
      "[0.47506894 0.47791767]\n",
      "Score: -0.023\n",
      "Mean squared error: 1.273\n",
      "Mean Absolute error: 1.117\n",
      "Variance score: -47.020\n",
      "Craig Biggio\n",
      "(6, 19) (6, 1) (2, 19) (2, 1)\n"
     ]
    },
    {
     "name": "stderr",
     "output_type": "stream",
     "text": [
      "/Users/StephanieBrito/anaconda3/lib/python3.7/site-packages/sklearn/model_selection/_search.py:841: DeprecationWarning: The default of the `iid` parameter will change from True to False in version 0.22 and will be removed in 0.24. This will change numeric results when test-set sizes are unequal.\n",
      "  DeprecationWarning)\n"
     ]
    },
    {
     "name": "stdout",
     "output_type": "stream",
     "text": [
      "[-1.01865067 -0.63258345]\n",
      "[1.35179938 1.35179947]\n",
      "Score: -0.250\n",
      "Mean squared error: 4.778\n",
      "Mean Absolute error: 2.177\n",
      "Variance score: -127.238\n",
      "Alex Gonzalez\n",
      "(6, 19) (6, 1) (2, 19) (2, 1)\n"
     ]
    },
    {
     "name": "stderr",
     "output_type": "stream",
     "text": [
      "/Users/StephanieBrito/anaconda3/lib/python3.7/site-packages/sklearn/model_selection/_search.py:841: DeprecationWarning: The default of the `iid` parameter will change from True to False in version 0.22 and will be removed in 0.24. This will change numeric results when test-set sizes are unequal.\n",
      "  DeprecationWarning)\n"
     ]
    },
    {
     "name": "stdout",
     "output_type": "stream",
     "text": [
      "[ 0.65935739 -1.53157903]\n",
      "[-0.43801535  0.00402116]\n",
      "Score: 0.601\n",
      "Mean squared error: 1.781\n",
      "Mean Absolute error: 1.316\n",
      "Variance score: -0.484\n",
      "Fred McGriff\n",
      "(6, 19) (6, 1) (2, 19) (2, 1)\n"
     ]
    },
    {
     "name": "stderr",
     "output_type": "stream",
     "text": [
      "/Users/StephanieBrito/anaconda3/lib/python3.7/site-packages/sklearn/model_selection/_search.py:841: DeprecationWarning: The default of the `iid` parameter will change from True to False in version 0.22 and will be removed in 0.24. This will change numeric results when test-set sizes are unequal.\n",
      "  DeprecationWarning)\n"
     ]
    },
    {
     "name": "stdout",
     "output_type": "stream",
     "text": [
      "[-0.78983221  0.48008111]\n",
      "[-0.12557996 -0.46305758]\n",
      "Score: 0.983\n",
      "Mean squared error: 0.665\n",
      "Mean Absolute error: 0.804\n",
      "Variance score: -0.650\n",
      "Sandy Alomar\n",
      "(6, 19) (6, 1) (2, 19) (2, 1)\n"
     ]
    },
    {
     "name": "stderr",
     "output_type": "stream",
     "text": [
      "/Users/StephanieBrito/anaconda3/lib/python3.7/site-packages/sklearn/model_selection/_search.py:841: DeprecationWarning: The default of the `iid` parameter will change from True to False in version 0.22 and will be removed in 0.24. This will change numeric results when test-set sizes are unequal.\n",
      "  DeprecationWarning)\n"
     ]
    },
    {
     "name": "stdout",
     "output_type": "stream",
     "text": [
      "[-0.72993664  1.11319367]\n",
      "[0.80904996 0.80904985]\n",
      "Score: -0.019\n",
      "Mean squared error: 1.230\n",
      "Mean Absolute error: 0.922\n",
      "Variance score: -0.449\n",
      "Julio Franco\n",
      "(6, 19) (6, 1) (2, 19) (2, 1)\n"
     ]
    },
    {
     "name": "stderr",
     "output_type": "stream",
     "text": [
      "/Users/StephanieBrito/anaconda3/lib/python3.7/site-packages/sklearn/model_selection/_search.py:841: DeprecationWarning: The default of the `iid` parameter will change from True to False in version 0.22 and will be removed in 0.24. This will change numeric results when test-set sizes are unequal.\n",
      "  DeprecationWarning)\n"
     ]
    },
    {
     "name": "stdout",
     "output_type": "stream",
     "text": [
      "[-0.82755266  0.13361604]\n",
      "[2.25737706 0.71527294]\n",
      "Score: 0.986\n",
      "Mean squared error: 4.928\n",
      "Mean Absolute error: 1.833\n",
      "Variance score: -20.335\n",
      "Frank Thomas\n",
      "(6, 19) (6, 1) (2, 19) (2, 1)\n"
     ]
    },
    {
     "name": "stderr",
     "output_type": "stream",
     "text": [
      "/Users/StephanieBrito/anaconda3/lib/python3.7/site-packages/sklearn/model_selection/_search.py:841: DeprecationWarning: The default of the `iid` parameter will change from True to False in version 0.22 and will be removed in 0.24. This will change numeric results when test-set sizes are unequal.\n",
      "  DeprecationWarning)\n"
     ]
    },
    {
     "name": "stdout",
     "output_type": "stream",
     "text": [
      "[ 0.22041419 -0.49198749]\n",
      "[-0.10167861 -0.10167883]\n",
      "Score: -0.000\n",
      "Mean squared error: 0.128\n",
      "Mean Absolute error: 0.356\n",
      "Variance score: -0.009\n",
      "Dave Winfield\n",
      "(6, 19) (6, 1) (2, 19) (2, 1)\n"
     ]
    },
    {
     "name": "stderr",
     "output_type": "stream",
     "text": [
      "/Users/StephanieBrito/anaconda3/lib/python3.7/site-packages/sklearn/model_selection/_search.py:841: DeprecationWarning: The default of the `iid` parameter will change from True to False in version 0.22 and will be removed in 0.24. This will change numeric results when test-set sizes are unequal.\n",
      "  DeprecationWarning)\n"
     ]
    },
    {
     "name": "stdout",
     "output_type": "stream",
     "text": [
      "[ 0.17391402 -1.83019545]\n",
      "[-1.34331957  0.34582062]\n",
      "Score: 0.923\n",
      "Mean squared error: 3.519\n",
      "Mean Absolute error: 1.847\n",
      "Variance score: -2.504\n",
      "Cal Ripken Jr.\n",
      "(6, 19) (6, 1) (2, 19) (2, 1)\n"
     ]
    },
    {
     "name": "stderr",
     "output_type": "stream",
     "text": [
      "/Users/StephanieBrito/anaconda3/lib/python3.7/site-packages/sklearn/model_selection/_search.py:841: DeprecationWarning: The default of the `iid` parameter will change from True to False in version 0.22 and will be removed in 0.24. This will change numeric results when test-set sizes are unequal.\n",
      "  DeprecationWarning)\n"
     ]
    },
    {
     "name": "stdout",
     "output_type": "stream",
     "text": [
      "[-0.45920525 -0.84193797]\n",
      "[-0.64575007 -0.28119306]\n",
      "Score: -0.041\n",
      "Mean squared error: 0.175\n",
      "Mean Absolute error: 0.374\n",
      "Variance score: -3.768\n",
      "Ivan Rodriguez\n",
      "(6, 19) (6, 1) (2, 19) (2, 1)\n"
     ]
    },
    {
     "name": "stderr",
     "output_type": "stream",
     "text": [
      "/Users/StephanieBrito/anaconda3/lib/python3.7/site-packages/sklearn/model_selection/_search.py:841: DeprecationWarning: The default of the `iid` parameter will change from True to False in version 0.22 and will be removed in 0.24. This will change numeric results when test-set sizes are unequal.\n",
      "  DeprecationWarning)\n"
     ]
    },
    {
     "name": "stdout",
     "output_type": "stream",
     "text": [
      "[-0.23174265 -0.12854735]\n",
      "[0.98034091 0.95950353]\n",
      "Score: 0.003\n",
      "Mean squared error: 1.327\n",
      "Mean Absolute error: 1.150\n",
      "Variance score: -497.250\n",
      "Tony Phillips\n",
      "(6, 19) (6, 1) (2, 19) (2, 1)\n"
     ]
    },
    {
     "name": "stderr",
     "output_type": "stream",
     "text": [
      "/Users/StephanieBrito/anaconda3/lib/python3.7/site-packages/sklearn/model_selection/_search.py:841: DeprecationWarning: The default of the `iid` parameter will change from True to False in version 0.22 and will be removed in 0.24. This will change numeric results when test-set sizes are unequal.\n",
      "  DeprecationWarning)\n"
     ]
    },
    {
     "name": "stdout",
     "output_type": "stream",
     "text": [
      "[ 0.07508967 -0.43550875]\n",
      "[ 0.13157536 -0.02190993]\n",
      "Score: 0.546\n",
      "Mean squared error: 0.087\n",
      "Mean Absolute error: 0.235\n",
      "Variance score: -0.337\n",
      "Ken Griffey\n",
      "(6, 19) (6, 1) (2, 19) (2, 1)\n"
     ]
    },
    {
     "name": "stderr",
     "output_type": "stream",
     "text": [
      "/Users/StephanieBrito/anaconda3/lib/python3.7/site-packages/sklearn/model_selection/_search.py:841: DeprecationWarning: The default of the `iid` parameter will change from True to False in version 0.22 and will be removed in 0.24. This will change numeric results when test-set sizes are unequal.\n",
      "  DeprecationWarning)\n"
     ]
    },
    {
     "name": "stdout",
     "output_type": "stream",
     "text": [
      "[-1.62264616 -0.40524994]\n",
      "[-0.02815062 -0.02815034]\n",
      "Score: -0.004\n",
      "Mean squared error: 1.342\n",
      "Mean Absolute error: 0.986\n",
      "Variance score: -2.623\n",
      "Jim Thome\n",
      "(6, 19) (6, 1) (2, 19) (2, 1)\n"
     ]
    },
    {
     "name": "stderr",
     "output_type": "stream",
     "text": [
      "/Users/StephanieBrito/anaconda3/lib/python3.7/site-packages/sklearn/model_selection/_search.py:841: DeprecationWarning: The default of the `iid` parameter will change from True to False in version 0.22 and will be removed in 0.24. This will change numeric results when test-set sizes are unequal.\n",
      "  DeprecationWarning)\n"
     ]
    },
    {
     "name": "stdout",
     "output_type": "stream",
     "text": [
      "[-1.70438062  0.57668836]\n",
      "[0.62604078 0.58183713]\n",
      "Score: -0.002\n",
      "Mean squared error: 2.715\n",
      "Mean Absolute error: 1.168\n",
      "Variance score: -1.087\n",
      "Gary Matthews\n",
      "(6, 19) (6, 1) (2, 19) (2, 1)\n"
     ]
    },
    {
     "name": "stderr",
     "output_type": "stream",
     "text": [
      "/Users/StephanieBrito/anaconda3/lib/python3.7/site-packages/sklearn/model_selection/_search.py:841: DeprecationWarning: The default of the `iid` parameter will change from True to False in version 0.22 and will be removed in 0.24. This will change numeric results when test-set sizes are unequal.\n",
      "  DeprecationWarning)\n"
     ]
    },
    {
     "name": "stdout",
     "output_type": "stream",
     "text": [
      "[-0.7051764  -0.37452393]\n",
      "[0.7697516  0.78091054]\n",
      "Score: 0.016\n",
      "Mean squared error: 1.755\n",
      "Mean Absolute error: 1.315\n",
      "Variance score: -63.217\n",
      "Todd Zeile\n",
      "(6, 19) (6, 1) (2, 19) (2, 1)\n"
     ]
    },
    {
     "name": "stderr",
     "output_type": "stream",
     "text": [
      "/Users/StephanieBrito/anaconda3/lib/python3.7/site-packages/sklearn/model_selection/_search.py:841: DeprecationWarning: The default of the `iid` parameter will change from True to False in version 0.22 and will be removed in 0.24. This will change numeric results when test-set sizes are unequal.\n",
      "  DeprecationWarning)\n"
     ]
    },
    {
     "name": "stdout",
     "output_type": "stream",
     "text": [
      "[0.56238941 0.58797388]\n",
      "[0.59719277 0.70856346]\n",
      "Score: 0.994\n",
      "Mean squared error: 0.008\n",
      "Mean Absolute error: 0.078\n",
      "Variance score: -47.133\n",
      "Rickey Henderson\n",
      "(6, 19) (6, 1) (2, 19) (2, 1)\n"
     ]
    },
    {
     "name": "stderr",
     "output_type": "stream",
     "text": [
      "/Users/StephanieBrito/anaconda3/lib/python3.7/site-packages/sklearn/model_selection/_search.py:841: DeprecationWarning: The default of the `iid` parameter will change from True to False in version 0.22 and will be removed in 0.24. This will change numeric results when test-set sizes are unequal.\n",
      "  DeprecationWarning)\n"
     ]
    },
    {
     "name": "stdout",
     "output_type": "stream",
     "text": [
      "[1.06540553 1.89757387]\n",
      "[0.32497527 0.50889165]\n",
      "Score: 0.964\n",
      "Mean squared error: 1.238\n",
      "Mean Absolute error: 1.065\n",
      "Variance score: -6.153\n",
      "Omar Vizquel\n",
      "(6, 19) (6, 1) (2, 19) (2, 1)\n"
     ]
    },
    {
     "name": "stderr",
     "output_type": "stream",
     "text": [
      "/Users/StephanieBrito/anaconda3/lib/python3.7/site-packages/sklearn/model_selection/_search.py:841: DeprecationWarning: The default of the `iid` parameter will change from True to False in version 0.22 and will be removed in 0.24. This will change numeric results when test-set sizes are unequal.\n",
      "  DeprecationWarning)\n"
     ]
    },
    {
     "name": "stdout",
     "output_type": "stream",
     "text": [
      "[-0.008177    1.20919274]\n",
      "[0.99174848 0.83760275]\n",
      "Score: 0.968\n",
      "Mean squared error: 0.569\n",
      "Mean Absolute error: 0.686\n",
      "Variance score: -0.536\n",
      "Tony Pena\n",
      "(6, 19) (6, 1) (2, 19) (2, 1)\n"
     ]
    },
    {
     "name": "stderr",
     "output_type": "stream",
     "text": [
      "/Users/StephanieBrito/anaconda3/lib/python3.7/site-packages/sklearn/model_selection/_search.py:841: DeprecationWarning: The default of the `iid` parameter will change from True to False in version 0.22 and will be removed in 0.24. This will change numeric results when test-set sizes are unequal.\n",
      "  DeprecationWarning)\n"
     ]
    },
    {
     "name": "stdout",
     "output_type": "stream",
     "text": [
      "[ 0.18556412 -1.07402416]\n",
      "[0.19890345 0.19890403]\n",
      "Score: -0.005\n",
      "Mean squared error: 0.810\n",
      "Mean Absolute error: 0.643\n",
      "Variance score: -1.043\n",
      "Jason Giambi\n",
      "(6, 19) (6, 1) (2, 19) (2, 1)\n"
     ]
    },
    {
     "name": "stderr",
     "output_type": "stream",
     "text": [
      "/Users/StephanieBrito/anaconda3/lib/python3.7/site-packages/sklearn/model_selection/_search.py:841: DeprecationWarning: The default of the `iid` parameter will change from True to False in version 0.22 and will be removed in 0.24. This will change numeric results when test-set sizes are unequal.\n",
      "  DeprecationWarning)\n"
     ]
    },
    {
     "name": "stdout",
     "output_type": "stream",
     "text": [
      "[-1.0235063  -0.68166017]\n",
      "[0.78089    0.78066696]\n",
      "Score: -0.003\n",
      "Mean squared error: 2.697\n",
      "Mean Absolute error: 1.633\n",
      "Variance score: -91.321\n",
      "Tony Gwynn\n",
      "(6, 19) (6, 1) (2, 19) (2, 1)\n"
     ]
    },
    {
     "name": "stderr",
     "output_type": "stream",
     "text": [
      "/Users/StephanieBrito/anaconda3/lib/python3.7/site-packages/sklearn/model_selection/_search.py:841: DeprecationWarning: The default of the `iid` parameter will change from True to False in version 0.22 and will be removed in 0.24. This will change numeric results when test-set sizes are unequal.\n",
      "  DeprecationWarning)\n"
     ]
    },
    {
     "name": "stdout",
     "output_type": "stream",
     "text": [
      "[0.46443889 1.29223254]\n",
      "[0.59834726 0.62379283]\n",
      "Score: 0.870\n",
      "Mean squared error: 0.232\n",
      "Mean Absolute error: 0.401\n",
      "Variance score: -0.356\n",
      "Manny Ramirez\n",
      "(6, 19) (6, 1) (2, 19) (2, 1)\n"
     ]
    },
    {
     "name": "stderr",
     "output_type": "stream",
     "text": [
      "/Users/StephanieBrito/anaconda3/lib/python3.7/site-packages/sklearn/model_selection/_search.py:841: DeprecationWarning: The default of the `iid` parameter will change from True to False in version 0.22 and will be removed in 0.24. This will change numeric results when test-set sizes are unequal.\n",
      "  DeprecationWarning)\n"
     ]
    },
    {
     "name": "stdout",
     "output_type": "stream",
     "text": [
      "[-0.63963037 -0.31569588]\n",
      "[-0.64383591  0.81659147]\n",
      "Score: 0.618\n",
      "Mean squared error: 0.641\n",
      "Mean Absolute error: 0.568\n",
      "Variance score: -23.436\n",
      "Steve Finley\n",
      "(6, 19) (6, 1) (2, 19) (2, 1)\n"
     ]
    },
    {
     "name": "stderr",
     "output_type": "stream",
     "text": [
      "/Users/StephanieBrito/anaconda3/lib/python3.7/site-packages/sklearn/model_selection/_search.py:841: DeprecationWarning: The default of the `iid` parameter will change from True to False in version 0.22 and will be removed in 0.24. This will change numeric results when test-set sizes are unequal.\n",
      "  DeprecationWarning)\n"
     ]
    },
    {
     "name": "stdout",
     "output_type": "stream",
     "text": [
      "[0.68391859 0.3257673 ]\n",
      "[0.46911638 0.81075487]\n",
      "Score: 0.945\n",
      "Mean squared error: 0.141\n",
      "Mean Absolute error: 0.350\n",
      "Variance score: -3.387\n",
      "B.J. Surhoff\n",
      "(6, 19) (6, 1) (2, 19) (2, 1)\n"
     ]
    },
    {
     "name": "stderr",
     "output_type": "stream",
     "text": [
      "/Users/StephanieBrito/anaconda3/lib/python3.7/site-packages/sklearn/model_selection/_search.py:841: DeprecationWarning: The default of the `iid` parameter will change from True to False in version 0.22 and will be removed in 0.24. This will change numeric results when test-set sizes are unequal.\n",
      "  DeprecationWarning)\n"
     ]
    },
    {
     "name": "stdout",
     "output_type": "stream",
     "text": [
      "[ 0.51876772 -0.88365849]\n",
      "[0.77044363 0.77044319]\n",
      "Score: -0.001\n",
      "Mean squared error: 1.400\n",
      "Mean Absolute error: 0.953\n",
      "Variance score: -1.847\n",
      "Ruben Sierra\n",
      "(6, 19) (6, 1) (2, 19) (2, 1)\n"
     ]
    },
    {
     "name": "stderr",
     "output_type": "stream",
     "text": [
      "/Users/StephanieBrito/anaconda3/lib/python3.7/site-packages/sklearn/model_selection/_search.py:841: DeprecationWarning: The default of the `iid` parameter will change from True to False in version 0.22 and will be removed in 0.24. This will change numeric results when test-set sizes are unequal.\n",
      "  DeprecationWarning)\n"
     ]
    },
    {
     "name": "stdout",
     "output_type": "stream",
     "text": [
      "[-0.83927019 -1.60012358]\n",
      "[0.23675176 0.54933228]\n",
      "Score: 0.152\n",
      "Mean squared error: 2.889\n",
      "Mean Absolute error: 1.613\n",
      "Variance score: -18.962\n",
      "Tom Glavine\n",
      "(6, 19) (6, 1) (2, 19) (2, 1)\n"
     ]
    },
    {
     "name": "stderr",
     "output_type": "stream",
     "text": [
      "/Users/StephanieBrito/anaconda3/lib/python3.7/site-packages/sklearn/model_selection/_search.py:841: DeprecationWarning: The default of the `iid` parameter will change from True to False in version 0.22 and will be removed in 0.24. This will change numeric results when test-set sizes are unequal.\n",
      "  DeprecationWarning)\n"
     ]
    },
    {
     "name": "stdout",
     "output_type": "stream",
     "text": [
      "[-2.09854476 -0.77214274]\n",
      "[0.66538485 0.66538509]\n",
      "Score: -0.031\n",
      "Mean squared error: 4.853\n",
      "Mean Absolute error: 2.101\n",
      "Variance score: -10.033\n",
      "Ken Griffey Jr.\n",
      "(6, 19) (6, 1) (2, 19) (2, 1)\n"
     ]
    },
    {
     "name": "stderr",
     "output_type": "stream",
     "text": [
      "/Users/StephanieBrito/anaconda3/lib/python3.7/site-packages/sklearn/model_selection/_search.py:841: DeprecationWarning: The default of the `iid` parameter will change from True to False in version 0.22 and will be removed in 0.24. This will change numeric results when test-set sizes are unequal.\n",
      "  DeprecationWarning)\n"
     ]
    },
    {
     "name": "stdout",
     "output_type": "stream",
     "text": [
      "[ 0.56689104 -0.14921553]\n",
      "[0.54095522 0.54095579]\n",
      "Score: -0.003\n",
      "Mean squared error: 0.239\n",
      "Mean Absolute error: 0.358\n",
      "Variance score: -0.860\n",
      "Gary Sheffield\n",
      "(6, 19) (6, 1) (2, 19) (2, 1)\n"
     ]
    },
    {
     "name": "stderr",
     "output_type": "stream",
     "text": [
      "/Users/StephanieBrito/anaconda3/lib/python3.7/site-packages/sklearn/model_selection/_search.py:841: DeprecationWarning: The default of the `iid` parameter will change from True to False in version 0.22 and will be removed in 0.24. This will change numeric results when test-set sizes are unequal.\n",
      "  DeprecationWarning)\n"
     ]
    },
    {
     "name": "stdout",
     "output_type": "stream",
     "text": [
      "[1.35494526 0.98767145]\n",
      "[0.23191505 0.2718354 ]\n",
      "Score: -0.084\n",
      "Mean squared error: 0.887\n",
      "Mean Absolute error: 0.919\n",
      "Variance score: -25.297\n",
      "Gary Gaetti\n",
      "(6, 19) (6, 1) (2, 19) (2, 1)\n"
     ]
    },
    {
     "name": "stderr",
     "output_type": "stream",
     "text": [
      "/Users/StephanieBrito/anaconda3/lib/python3.7/site-packages/sklearn/model_selection/_search.py:841: DeprecationWarning: The default of the `iid` parameter will change from True to False in version 0.22 and will be removed in 0.24. This will change numeric results when test-set sizes are unequal.\n",
      "  DeprecationWarning)\n"
     ]
    },
    {
     "name": "stdout",
     "output_type": "stream",
     "text": [
      "[0.7046304  0.47323649]\n",
      "[-0.5162117  -0.51160108]\n",
      "Score: -0.001\n",
      "Mean squared error: 1.230\n",
      "Mean Absolute error: 1.103\n",
      "Variance score: -90.902\n",
      "Paul Molitor\n",
      "(6, 19) (6, 1) (2, 19) (2, 1)\n"
     ]
    },
    {
     "name": "stderr",
     "output_type": "stream",
     "text": [
      "/Users/StephanieBrito/anaconda3/lib/python3.7/site-packages/sklearn/model_selection/_search.py:841: DeprecationWarning: The default of the `iid` parameter will change from True to False in version 0.22 and will be removed in 0.24. This will change numeric results when test-set sizes are unequal.\n",
      "  DeprecationWarning)\n"
     ]
    },
    {
     "name": "stdout",
     "output_type": "stream",
     "text": [
      "[1.12248034 0.86503894]\n",
      "[0.37667968 0.37667925]\n",
      "Score: -0.002\n",
      "Mean squared error: 0.397\n",
      "Mean Absolute error: 0.617\n",
      "Variance score: -22.982\n",
      "Eddie Murray\n",
      "(6, 19) (6, 1) (2, 19) (2, 1)\n"
     ]
    },
    {
     "name": "stderr",
     "output_type": "stream",
     "text": [
      "/Users/StephanieBrito/anaconda3/lib/python3.7/site-packages/sklearn/model_selection/_search.py:841: DeprecationWarning: The default of the `iid` parameter will change from True to False in version 0.22 and will be removed in 0.24. This will change numeric results when test-set sizes are unequal.\n",
      "  DeprecationWarning)\n"
     ]
    },
    {
     "name": "stdout",
     "output_type": "stream",
     "text": [
      "[-0.73270374 -0.34547299]\n",
      "[-0.27138419  0.80539539]\n",
      "Score: 0.850\n",
      "Mean squared error: 0.769\n",
      "Mean Absolute error: 0.806\n",
      "Variance score: -19.505\n",
      "Rafael Palmeiro\n",
      "(6, 19) (6, 1) (2, 19) (2, 1)\n",
      "[0.47556638 0.6543033 ]\n",
      "[0.22151617 0.22727028]\n",
      "Score: -0.000\n",
      "Mean squared error: 0.123\n",
      "Mean Absolute error: 0.341\n",
      "Variance score: -14.457\n"
     ]
    },
    {
     "name": "stderr",
     "output_type": "stream",
     "text": [
      "/Users/StephanieBrito/anaconda3/lib/python3.7/site-packages/sklearn/model_selection/_search.py:841: DeprecationWarning: The default of the `iid` parameter will change from True to False in version 0.22 and will be removed in 0.24. This will change numeric results when test-set sizes are unequal.\n",
      "  DeprecationWarning)\n"
     ]
    }
   ],
   "source": [
    "for player in players_with_more_than_20_years:\n",
    "    print(player)\n",
    "    player_rows = df_probably_not_pitchers[df_probably_not_pitchers['name_common'] == player]\n",
    "    data = prepare_rows(player_rows)\n",
    "    data_tuple = prepare_test_train(data[0], data[1])\n",
    "    run_svr(data_tuple)\n",
    "    \n",
    "    "
   ]
  },
  {
   "cell_type": "code",
   "execution_count": null,
   "metadata": {},
   "outputs": [],
   "source": []
  }
 ],
 "metadata": {
  "kernelspec": {
   "display_name": "Python 3",
   "language": "python",
   "name": "python3"
  },
  "language_info": {
   "codemirror_mode": {
    "name": "ipython",
    "version": 3
   },
   "file_extension": ".py",
   "mimetype": "text/x-python",
   "name": "python",
   "nbconvert_exporter": "python",
   "pygments_lexer": "ipython3",
   "version": "3.7.1"
  }
 },
 "nbformat": 4,
 "nbformat_minor": 2
}
