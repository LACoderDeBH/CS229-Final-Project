{
 "cells": [
  {
   "cell_type": "code",
   "execution_count": 294,
   "metadata": {},
   "outputs": [],
   "source": [
    "import numpy as np\n",
    "from sklearn.svm import SVR\n",
    "import pandas as pd\n",
    "import matplotlib.pyplot as plt\n",
    "from sklearn.model_selection import GridSearchCV\n",
    "from sklearn import preprocessing\n"
   ]
  },
  {
   "cell_type": "code",
   "execution_count": 334,
   "metadata": {},
   "outputs": [
    {
     "name": "stdout",
     "output_type": "stream",
     "text": [
      "['Kirk Gibson', 'Stan Javier', 'Tim Raines', 'Willie Randolph', 'Carlton Fisk', 'Harold Baines', 'Jose Canseco', 'Jose Guillen', 'Dave Collins', 'Brady Anderson', 'Dave Martinez', 'Luis Castillo', 'Jose Reyes', 'Adrian Beltre', 'Aramis Ramirez', 'Alex Rodriguez', 'Mark Teixeira', 'Brian Giles', 'Edgar Martinez', 'Devon White', 'Edwin Encarnacion', 'Matt Stairs', 'Lenny Harris', 'Raul Ibanez', 'Dave Magadan', 'Russell Branyan', 'Terry Pendleton', 'Mike Cameron', 'Carlos Baerga', 'Jeff Reed', 'Jay Bell', 'Tino Martinez', 'Jim Edmonds', 'Kenny Lofton', 'Torii Hunter', 'Craig Counsell', 'Moises Alou', 'Jerry Hairston', 'Bernie Williams', 'Coco Crisp', 'Jeff Kent', 'Damion Easley', 'Jose Cruz', 'Brian Downing', 'Delino DeShields', 'Barry Bonds', 'Garry Templeton', 'Tony Armas', 'Derek Jeter', 'Robin Ventura', 'John Olerud', 'Jeff Conine', 'Luis Gonzalez', 'Jim Gantner', 'Benito Santiago', 'David Ortiz', 'Eric Young Sr.', 'Reggie Sanders', 'Shawon Dunston', 'Mike Sweeney', 'Lance Berkman', 'Eric Davis', 'Cliff Floyd', 'Mark Loretta', 'Scott Rolen', 'Darryl Strawberry', 'Mark McGwire', 'Juan Samuel', 'Rick Cerone', 'Brian Hunter', 'Andre Dawson', 'Claudell Washington', 'Rondell White', 'Dale Murphy', 'David Segui', 'Wade Boggs', 'Brett Butler', 'Carlos Beltran', 'Bobby Abreu', 'Ramon Martinez', 'Craig Biggio', 'Darrell Evans', 'Mike Piazza', 'Greg Myers', 'Keith Hernandez', 'Chris Gomez', 'Jose Offerman', 'Alex Gonzalez', 'Fred McGriff', 'Adam Dunn', 'Sandy Alomar', 'Alan Trammell', 'Julio Franco', 'Matt Williams', 'Roberto Alomar', 'Mike Stanley', 'Cliff Johnson', 'Jose Vizcaino', 'Ken Caminiti', 'Frank White', 'Gary Carter', 'Frank Thomas', 'Todd Helton', 'Rick Dempsey', 'Jim Dwyer', 'Sammy Sosa', 'Dave Winfield', 'Glenallen Hill', 'Joe Carter', 'Johnny Damon', 'Tony Fernandez', 'Cal Ripken Jr.', 'Marquis Grissom', 'Lee Mazzilli', 'Wally Joyner', 'Derrek Lee', 'Ozzie Smith', 'A.J. Pierzynski', 'Andres Galarraga', 'Dave Roberts', 'Barry Larkin', 'Ivan Rodriguez', 'George Brett', 'Tony Phillips', 'Chipper Jones', 'Phil Nevin', 'Ken Griffey', 'Jim Thome', 'Gregg Zaun', 'Jason Kendall', 'Mark Kotsay', 'Gary Matthews', 'Bobby Bonilla', 'Chili Davis', 'Paul Konerko', 'Todd Zeile', 'Tony Clark', 'Jose Hernandez', 'Ken Oberkfell', 'Dwight Evans', 'Rickey Henderson', 'Curtis Granderson', 'Omar Vizquel', 'Randy Velarde', 'Matt Holliday', 'Miguel Tejada', 'Tony Pena', 'Willie McGee', 'Fred Lynn', 'Chris Young', 'Jason Giambi', 'Rey Sanchez', 'Mark Grace', 'Will Clark', 'Carlos Lee', 'Lonnie Smith', 'Tony Gwynn', 'Jim Sundberg', 'Greg Maddux', 'Juan Gonzalez', 'Bob Boone', 'Manny Ramirez', 'Brent Mayne', 'Jimmy Rollins', 'Steve Finley', 'B.J. Surhoff', 'Ruben Sierra', 'Omar Infante', 'Tom Glavine', 'Yadier Molina', 'Otis Nixon', 'Lance Parrish', 'Orlando Cabrera', 'Ellis Burks', 'Ken Griffey Jr.', 'Ray Durham', 'Tim Wallach', 'Miguel Cabrera', 'Brad Ausmus', 'Asdrubal Cabrera', 'Jack Clark', 'Victor Martinez', 'Willie Wilson', 'Lou Whitaker', 'Bill Madlock', 'Chase Utley', 'Gary Sheffield', 'Gary Gaetti', 'Mark McLemore', 'Ron Gant', 'Garret Anderson', 'Marlon Byrd', 'Alfonso Soriano', 'Albert Pujols', 'Royce Clayton', 'Ichiro Suzuki', 'Paul Molitor', 'Eddie Murray', 'Larry Walker', 'Edgar Renteria', 'Placido Polanco', 'Roberto Kelly', 'Robin Yount', 'Rafael Palmeiro', 'Carlos Delgado', 'Dave Parker', 'Bill Buckner', 'Mark Grudzielanek', 'Buddy Bell', 'Andruw Jones', 'Juan Uribe']\n"
     ]
    }
   ],
   "source": [
    "batting_data_path = 'bsb_ref.csv'\n",
    "# INFO:\n",
    "# 101,332 Players with up to 20 features each (exluding year, including team)\n",
    "# if metric not reported for player, set to 0.0 by default\n",
    "\n",
    "df_original = pd.read_csv(batting_data_path)\n",
    "df = df_original.fillna(df.mean()) # fixing this could really help with results potentially\n",
    "df_recent_players = df[df.year_ID >= 1975] \n",
    "df_just_hitters = df_recent_players[df_recent_players.pitcher == 'N']\n",
    "players = list(set(df_probably_not_pitchers['name_common'])) # just a set of all players\n",
    "\n",
    "players_with_more_than_20_years = [player for player in players if len(df_probably_not_pitchers[df_probably_not_pitchers['name_common'] == player]) >= 16]"
   ]
  },
  {
   "cell_type": "code",
   "execution_count": 603,
   "metadata": {},
   "outputs": [],
   "source": [
    "def prepare_test_train(player_x_data, player_y_data):\n",
    "    i_0, i_1 = 14, 15# hardcoded for now. these are just the ranges described above\n",
    "    x_train = player_x_data[:i_0]\n",
    "    y_train = player_y_data[:i_0]\n",
    "    x_test = player_x_data[i_0:i_1]\n",
    "    y_test = player_y_data[i_0:i_1]\n",
    "    return (x_train, y_train, x_test, y_test)"
   ]
  },
  {
   "cell_type": "code",
   "execution_count": 604,
   "metadata": {},
   "outputs": [],
   "source": [
    "from sklearn import preprocessing\n",
    "\n",
    "def prepare_rows(player_rows):\n",
    "    player_x_data = np.asarray([i for i in range(len(player_rows))]).reshape(-1,1)\n",
    "    player_y_data = player_rows[['OPS_plus']].values\n",
    "    return (player_x_data, player_y_data)"
   ]
  },
  {
   "cell_type": "code",
   "execution_count": 605,
   "metadata": {},
   "outputs": [],
   "source": [
    "def run_svr(data_tuple):\n",
    "    x_train, y_train, x_test, y_test = data_tuple\n",
    "    #print(x_train.shape, y_train.shape, x_test.shape, y_test.shape)\n",
    "    parameters = {\n",
    "    \"kernel\": [\"rbf\"],\n",
    "    \"C\": [1,10,10,100,150,1000, 10e5],\n",
    "    \"gamma\": [1e-8, 1e-7, 1e-6, 1e-5, 1e-4, 1e-3, 1e-2, 1e-1, 1e2, 1e8],\n",
    "    \"epsilon\": [0.1, 1e-4, 1e2]\n",
    "    }\n",
    "\n",
    "    svr = GridSearchCV(SVR(), parameters, cv=3)\n",
    "    svr.fit(x_train, y_train.ravel())\n",
    "\n",
    "    y_svr_pred = svr.predict(x_test)\n",
    "    print(\"Actual OPS_plus\", y_test.ravel())\n",
    "    print(\"Predicted OPS_plus\", y_svr_pred)\n",
    "    \n",
    "    mse = mean_squared_error(y_test, y_svr_pred)\n",
    "    mae = mean_absolute_error(y_test, y_svr_pred)\n",
    "    print('Score: %.3f' % svr.score(x_train, y_train))\n",
    "    print(\"Mean squared error: %.3f\" % mse)\n",
    "    print('Mean Absolute error: %.3f' % mae)\n",
    "    print('Variance score: %.3f' % r2_score(y_test, y_svr_pred))\n",
    "    print()\n",
    "    \n",
    "    return (y_test, y_svr_pred, mae, mse)\n",
    "\n",
    "\n",
    "    "
   ]
  },
  {
   "cell_type": "code",
   "execution_count": 606,
   "metadata": {},
   "outputs": [
    {
     "name": "stdout",
     "output_type": "stream",
     "text": [
      "Kirk Gibson\n"
     ]
    },
    {
     "name": "stderr",
     "output_type": "stream",
     "text": [
      "/Users/StephanieBrito/anaconda3/lib/python3.7/site-packages/sklearn/model_selection/_search.py:841: DeprecationWarning: The default of the `iid` parameter will change from True to False in version 0.22 and will be removed in 0.24. This will change numeric results when test-set sizes are unequal.\n",
      "  DeprecationWarning)\n"
     ]
    },
    {
     "name": "stdout",
     "output_type": "stream",
     "text": [
      "Actual OPS_plus [130.1477]\n",
      "Predicted OPS_plus [109.7780476]\n",
      "Score: 0.353\n",
      "Mean squared error: 414.923\n",
      "Mean Absolute error: 20.370\n",
      "Variance score: 0.000\n",
      "\n",
      "Stan Javier\n"
     ]
    },
    {
     "name": "stderr",
     "output_type": "stream",
     "text": [
      "/Users/StephanieBrito/anaconda3/lib/python3.7/site-packages/sklearn/model_selection/_search.py:841: DeprecationWarning: The default of the `iid` parameter will change from True to False in version 0.22 and will be removed in 0.24. This will change numeric results when test-set sizes are unequal.\n",
      "  DeprecationWarning)\n"
     ]
    },
    {
     "name": "stdout",
     "output_type": "stream",
     "text": [
      "Actual OPS_plus [111.3957]\n",
      "Predicted OPS_plus [106.25896241]\n",
      "Score: 0.330\n",
      "Mean squared error: 26.386\n",
      "Mean Absolute error: 5.137\n",
      "Variance score: 0.000\n",
      "\n",
      "Tim Raines\n"
     ]
    },
    {
     "name": "stderr",
     "output_type": "stream",
     "text": [
      "/Users/StephanieBrito/anaconda3/lib/python3.7/site-packages/sklearn/model_selection/_search.py:841: DeprecationWarning: The default of the `iid` parameter will change from True to False in version 0.22 and will be removed in 0.24. This will change numeric results when test-set sizes are unequal.\n",
      "  DeprecationWarning)\n"
     ]
    },
    {
     "name": "stdout",
     "output_type": "stream",
     "text": [
      "Actual OPS_plus [111.0607]\n",
      "Predicted OPS_plus [105.81118439]\n",
      "Score: 0.537\n",
      "Mean squared error: 27.557\n",
      "Mean Absolute error: 5.250\n",
      "Variance score: 0.000\n",
      "\n",
      "Willie Randolph\n"
     ]
    },
    {
     "name": "stderr",
     "output_type": "stream",
     "text": [
      "/Users/StephanieBrito/anaconda3/lib/python3.7/site-packages/sklearn/model_selection/_search.py:841: DeprecationWarning: The default of the `iid` parameter will change from True to False in version 0.22 and will be removed in 0.24. This will change numeric results when test-set sizes are unequal.\n",
      "  DeprecationWarning)\n"
     ]
    },
    {
     "name": "stdout",
     "output_type": "stream",
     "text": [
      "Actual OPS_plus [100.8685]\n",
      "Predicted OPS_plus [105.39950137]\n",
      "Score: -0.024\n",
      "Mean squared error: 20.530\n",
      "Mean Absolute error: 4.531\n",
      "Variance score: 0.000\n",
      "\n",
      "Carlton Fisk\n"
     ]
    },
    {
     "name": "stderr",
     "output_type": "stream",
     "text": [
      "/Users/StephanieBrito/anaconda3/lib/python3.7/site-packages/sklearn/model_selection/_search.py:841: DeprecationWarning: The default of the `iid` parameter will change from True to False in version 0.22 and will be removed in 0.24. This will change numeric results when test-set sizes are unequal.\n",
      "  DeprecationWarning)\n"
     ]
    },
    {
     "name": "stdout",
     "output_type": "stream",
     "text": [
      "Actual OPS_plus [135.9149]\n",
      "Predicted OPS_plus [101.83628567]\n",
      "Score: 0.096\n",
      "Mean squared error: 1161.352\n",
      "Mean Absolute error: 34.079\n",
      "Variance score: 0.000\n",
      "\n",
      "Harold Baines\n"
     ]
    },
    {
     "name": "stderr",
     "output_type": "stream",
     "text": [
      "/Users/StephanieBrito/anaconda3/lib/python3.7/site-packages/sklearn/model_selection/_search.py:841: DeprecationWarning: The default of the `iid` parameter will change from True to False in version 0.22 and will be removed in 0.24. This will change numeric results when test-set sizes are unequal.\n",
      "  DeprecationWarning)\n"
     ]
    },
    {
     "name": "stdout",
     "output_type": "stream",
     "text": [
      "Actual OPS_plus [107.9611]\n",
      "Predicted OPS_plus [133.56468778]\n",
      "Score: 0.169\n",
      "Mean squared error: 655.544\n",
      "Mean Absolute error: 25.604\n",
      "Variance score: 0.000\n",
      "\n",
      "Jose Canseco\n"
     ]
    },
    {
     "name": "stderr",
     "output_type": "stream",
     "text": [
      "/Users/StephanieBrito/anaconda3/lib/python3.7/site-packages/sklearn/model_selection/_search.py:841: DeprecationWarning: The default of the `iid` parameter will change from True to False in version 0.22 and will be removed in 0.24. This will change numeric results when test-set sizes are unequal.\n",
      "  DeprecationWarning)\n"
     ]
    },
    {
     "name": "stdout",
     "output_type": "stream",
     "text": [
      "Actual OPS_plus [114.0238]\n",
      "Predicted OPS_plus [137.25415046]\n",
      "Score: -0.016\n",
      "Mean squared error: 539.649\n",
      "Mean Absolute error: 23.230\n",
      "Variance score: 0.000\n",
      "\n",
      "Jose Guillen\n"
     ]
    },
    {
     "name": "stderr",
     "output_type": "stream",
     "text": [
      "/Users/StephanieBrito/anaconda3/lib/python3.7/site-packages/sklearn/model_selection/_search.py:841: DeprecationWarning: The default of the `iid` parameter will change from True to False in version 0.22 and will be removed in 0.24. This will change numeric results when test-set sizes are unequal.\n",
      "  DeprecationWarning)\n"
     ]
    },
    {
     "name": "stdout",
     "output_type": "stream",
     "text": [
      "Actual OPS_plus [95.0206]\n",
      "Predicted OPS_plus [118.17345379]\n",
      "Score: 0.241\n",
      "Mean squared error: 536.055\n",
      "Mean Absolute error: 23.153\n",
      "Variance score: 0.000\n",
      "\n",
      "Dave Collins\n"
     ]
    },
    {
     "name": "stderr",
     "output_type": "stream",
     "text": [
      "/Users/StephanieBrito/anaconda3/lib/python3.7/site-packages/sklearn/model_selection/_search.py:841: DeprecationWarning: The default of the `iid` parameter will change from True to False in version 0.22 and will be removed in 0.24. This will change numeric results when test-set sizes are unequal.\n",
      "  DeprecationWarning)\n"
     ]
    },
    {
     "name": "stdout",
     "output_type": "stream",
     "text": [
      "Actual OPS_plus [63.5211]\n",
      "Predicted OPS_plus [86.5304]\n",
      "Score: -0.038\n",
      "Mean squared error: 529.428\n",
      "Mean Absolute error: 23.009\n",
      "Variance score: 0.000\n",
      "\n",
      "Brady Anderson\n"
     ]
    },
    {
     "name": "stderr",
     "output_type": "stream",
     "text": [
      "/Users/StephanieBrito/anaconda3/lib/python3.7/site-packages/sklearn/model_selection/_search.py:841: DeprecationWarning: The default of the `iid` parameter will change from True to False in version 0.22 and will be removed in 0.24. This will change numeric results when test-set sizes are unequal.\n",
      "  DeprecationWarning)\n"
     ]
    },
    {
     "name": "stdout",
     "output_type": "stream",
     "text": [
      "Actual OPS_plus [66.3886]\n",
      "Predicted OPS_plus [102.78764384]\n",
      "Score: 0.572\n",
      "Mean squared error: 1324.890\n",
      "Mean Absolute error: 36.399\n",
      "Variance score: 0.000\n",
      "\n",
      "Dave Martinez\n"
     ]
    },
    {
     "name": "stderr",
     "output_type": "stream",
     "text": [
      "/Users/StephanieBrito/anaconda3/lib/python3.7/site-packages/sklearn/model_selection/_search.py:841: DeprecationWarning: The default of the `iid` parameter will change from True to False in version 0.22 and will be removed in 0.24. This will change numeric results when test-set sizes are unequal.\n",
      "  DeprecationWarning)\n"
     ]
    },
    {
     "name": "stdout",
     "output_type": "stream",
     "text": [
      "Actual OPS_plus [91.8827]\n",
      "Predicted OPS_plus [96.107075]\n",
      "Score: 0.319\n",
      "Mean squared error: 17.845\n",
      "Mean Absolute error: 4.224\n",
      "Variance score: 0.000\n",
      "\n",
      "Luis Castillo\n"
     ]
    },
    {
     "name": "stderr",
     "output_type": "stream",
     "text": [
      "/Users/StephanieBrito/anaconda3/lib/python3.7/site-packages/sklearn/model_selection/_search.py:841: DeprecationWarning: The default of the `iid` parameter will change from True to False in version 0.22 and will be removed in 0.24. This will change numeric results when test-set sizes are unequal.\n",
      "  DeprecationWarning)\n"
     ]
    },
    {
     "name": "stdout",
     "output_type": "stream",
     "text": [
      "Actual OPS_plus [98.5305]\n",
      "Predicted OPS_plus [84.82609871]\n",
      "Score: 0.543\n",
      "Mean squared error: 187.811\n",
      "Mean Absolute error: 13.704\n",
      "Variance score: 0.000\n",
      "\n",
      "Jose Reyes\n"
     ]
    },
    {
     "name": "stderr",
     "output_type": "stream",
     "text": [
      "/Users/StephanieBrito/anaconda3/lib/python3.7/site-packages/sklearn/model_selection/_search.py:841: DeprecationWarning: The default of the `iid` parameter will change from True to False in version 0.22 and will be removed in 0.24. This will change numeric results when test-set sizes are unequal.\n",
      "  DeprecationWarning)\n"
     ]
    },
    {
     "name": "stdout",
     "output_type": "stream",
     "text": [
      "Actual OPS_plus [106.4849]\n",
      "Predicted OPS_plus [90.62961211]\n",
      "Score: 0.231\n",
      "Mean squared error: 251.390\n",
      "Mean Absolute error: 15.855\n",
      "Variance score: 0.000\n",
      "\n",
      "Adrian Beltre\n"
     ]
    },
    {
     "name": "stderr",
     "output_type": "stream",
     "text": [
      "/Users/StephanieBrito/anaconda3/lib/python3.7/site-packages/sklearn/model_selection/_search.py:841: DeprecationWarning: The default of the `iid` parameter will change from True to False in version 0.22 and will be removed in 0.24. This will change numeric results when test-set sizes are unequal.\n",
      "  DeprecationWarning)\n"
     ]
    },
    {
     "name": "stdout",
     "output_type": "stream",
     "text": [
      "Actual OPS_plus [139.4315]\n",
      "Predicted OPS_plus [117.85990956]\n",
      "Score: 0.115\n",
      "Mean squared error: 465.334\n",
      "Mean Absolute error: 21.572\n",
      "Variance score: 0.000\n",
      "\n",
      "Aramis Ramirez\n"
     ]
    },
    {
     "name": "stderr",
     "output_type": "stream",
     "text": [
      "/Users/StephanieBrito/anaconda3/lib/python3.7/site-packages/sklearn/model_selection/_search.py:841: DeprecationWarning: The default of the `iid` parameter will change from True to False in version 0.22 and will be removed in 0.24. This will change numeric results when test-set sizes are unequal.\n",
      "  DeprecationWarning)\n"
     ]
    },
    {
     "name": "stdout",
     "output_type": "stream",
     "text": [
      "Actual OPS_plus [135.9639]\n",
      "Predicted OPS_plus [92.06956147]\n",
      "Score: 0.681\n",
      "Mean squared error: 1926.713\n",
      "Mean Absolute error: 43.894\n",
      "Variance score: 0.000\n",
      "\n",
      "Alex Rodriguez\n"
     ]
    },
    {
     "name": "stderr",
     "output_type": "stream",
     "text": [
      "/Users/StephanieBrito/anaconda3/lib/python3.7/site-packages/sklearn/model_selection/_search.py:841: DeprecationWarning: The default of the `iid` parameter will change from True to False in version 0.22 and will be removed in 0.24. This will change numeric results when test-set sizes are unequal.\n",
      "  DeprecationWarning)\n"
     ]
    },
    {
     "name": "stdout",
     "output_type": "stream",
     "text": [
      "Actual OPS_plus [149.5793]\n",
      "Predicted OPS_plus [157.19005251]\n",
      "Score: 0.522\n",
      "Mean squared error: 57.924\n",
      "Mean Absolute error: 7.611\n",
      "Variance score: 0.000\n",
      "\n",
      "Mark Teixeira\n"
     ]
    },
    {
     "name": "stderr",
     "output_type": "stream",
     "text": [
      "/Users/StephanieBrito/anaconda3/lib/python3.7/site-packages/sklearn/model_selection/_search.py:841: DeprecationWarning: The default of the `iid` parameter will change from True to False in version 0.22 and will be removed in 0.24. This will change numeric results when test-set sizes are unequal.\n",
      "  DeprecationWarning)\n"
     ]
    },
    {
     "name": "stdout",
     "output_type": "stream",
     "text": [
      "Actual OPS_plus [143.8735]\n",
      "Predicted OPS_plus [94.76028454]\n",
      "Score: 0.551\n",
      "Mean squared error: 2412.108\n",
      "Mean Absolute error: 49.113\n",
      "Variance score: 0.000\n",
      "\n",
      "Brian Giles\n"
     ]
    },
    {
     "name": "stderr",
     "output_type": "stream",
     "text": [
      "/Users/StephanieBrito/anaconda3/lib/python3.7/site-packages/sklearn/model_selection/_search.py:841: DeprecationWarning: The default of the `iid` parameter will change from True to False in version 0.22 and will be removed in 0.24. This will change numeric results when test-set sizes are unequal.\n",
      "  DeprecationWarning)\n"
     ]
    },
    {
     "name": "stdout",
     "output_type": "stream",
     "text": [
      "Actual OPS_plus [147.2024]\n",
      "Predicted OPS_plus [126.88392588]\n",
      "Score: 0.710\n",
      "Mean squared error: 412.840\n",
      "Mean Absolute error: 20.318\n",
      "Variance score: 0.000\n",
      "\n",
      "Edgar Martinez\n"
     ]
    },
    {
     "name": "stderr",
     "output_type": "stream",
     "text": [
      "/Users/StephanieBrito/anaconda3/lib/python3.7/site-packages/sklearn/model_selection/_search.py:841: DeprecationWarning: The default of the `iid` parameter will change from True to False in version 0.22 and will be removed in 0.24. This will change numeric results when test-set sizes are unequal.\n",
      "  DeprecationWarning)\n"
     ]
    },
    {
     "name": "stdout",
     "output_type": "stream",
     "text": [
      "Actual OPS_plus [140.8377]\n",
      "Predicted OPS_plus [145.9360822]\n",
      "Score: 0.290\n",
      "Mean squared error: 25.994\n",
      "Mean Absolute error: 5.098\n",
      "Variance score: 0.000\n",
      "\n",
      "Devon White\n"
     ]
    },
    {
     "name": "stderr",
     "output_type": "stream",
     "text": [
      "/Users/StephanieBrito/anaconda3/lib/python3.7/site-packages/sklearn/model_selection/_search.py:841: DeprecationWarning: The default of the `iid` parameter will change from True to False in version 0.22 and will be removed in 0.24. This will change numeric results when test-set sizes are unequal.\n",
      "  DeprecationWarning)\n"
     ]
    },
    {
     "name": "stdout",
     "output_type": "stream",
     "text": [
      "Actual OPS_plus [79.285]\n",
      "Predicted OPS_plus [94.87335]\n",
      "Score: 0.143\n",
      "Mean squared error: 242.997\n",
      "Mean Absolute error: 15.588\n",
      "Variance score: 0.000\n",
      "\n",
      "Edwin Encarnacion\n"
     ]
    },
    {
     "name": "stderr",
     "output_type": "stream",
     "text": [
      "/Users/StephanieBrito/anaconda3/lib/python3.7/site-packages/sklearn/model_selection/_search.py:841: DeprecationWarning: The default of the `iid` parameter will change from True to False in version 0.22 and will be removed in 0.24. This will change numeric results when test-set sizes are unequal.\n",
      "  DeprecationWarning)\n"
     ]
    },
    {
     "name": "stdout",
     "output_type": "stream",
     "text": [
      "Actual OPS_plus [116.3378]\n",
      "Predicted OPS_plus [120.87125146]\n",
      "Score: 0.900\n",
      "Mean squared error: 20.552\n",
      "Mean Absolute error: 4.533\n",
      "Variance score: 0.000\n",
      "\n",
      "Matt Stairs\n"
     ]
    },
    {
     "name": "stderr",
     "output_type": "stream",
     "text": [
      "/Users/StephanieBrito/anaconda3/lib/python3.7/site-packages/sklearn/model_selection/_search.py:841: DeprecationWarning: The default of the `iid` parameter will change from True to False in version 0.22 and will be removed in 0.24. This will change numeric results when test-set sizes are unequal.\n",
      "  DeprecationWarning)\n"
     ]
    },
    {
     "name": "stdout",
     "output_type": "stream",
     "text": [
      "Actual OPS_plus [97.9181]\n",
      "Predicted OPS_plus [106.45927627]\n",
      "Score: 0.001\n",
      "Mean squared error: 72.952\n",
      "Mean Absolute error: 8.541\n",
      "Variance score: 0.000\n",
      "\n",
      "Lenny Harris\n"
     ]
    },
    {
     "name": "stderr",
     "output_type": "stream",
     "text": [
      "/Users/StephanieBrito/anaconda3/lib/python3.7/site-packages/sklearn/model_selection/_search.py:841: DeprecationWarning: The default of the `iid` parameter will change from True to False in version 0.22 and will be removed in 0.24. This will change numeric results when test-set sizes are unequal.\n",
      "  DeprecationWarning)\n"
     ]
    },
    {
     "name": "stdout",
     "output_type": "stream",
     "text": [
      "Actual OPS_plus [15.5923]\n",
      "Predicted OPS_plus [82.37103333]\n",
      "Score: 0.067\n",
      "Mean squared error: 4459.399\n",
      "Mean Absolute error: 66.779\n",
      "Variance score: 0.000\n",
      "\n",
      "Raul Ibanez\n"
     ]
    },
    {
     "name": "stderr",
     "output_type": "stream",
     "text": [
      "/Users/StephanieBrito/anaconda3/lib/python3.7/site-packages/sklearn/model_selection/_search.py:841: DeprecationWarning: The default of the `iid` parameter will change from True to False in version 0.22 and will be removed in 0.24. This will change numeric results when test-set sizes are unequal.\n",
      "  DeprecationWarning)\n"
     ]
    },
    {
     "name": "stdout",
     "output_type": "stream",
     "text": [
      "Actual OPS_plus [102.7595]\n",
      "Predicted OPS_plus [100.41039765]\n",
      "Score: 0.662\n",
      "Mean squared error: 5.518\n",
      "Mean Absolute error: 2.349\n",
      "Variance score: 0.000\n",
      "\n",
      "Dave Magadan\n"
     ]
    },
    {
     "name": "stderr",
     "output_type": "stream",
     "text": [
      "/Users/StephanieBrito/anaconda3/lib/python3.7/site-packages/sklearn/model_selection/_search.py:841: DeprecationWarning: The default of the `iid` parameter will change from True to False in version 0.22 and will be removed in 0.24. This will change numeric results when test-set sizes are unequal.\n",
      "  DeprecationWarning)\n"
     ]
    },
    {
     "name": "stdout",
     "output_type": "stream",
     "text": [
      "Actual OPS_plus [106.9582]\n",
      "Predicted OPS_plus [118.55734988]\n",
      "Score: 0.201\n",
      "Mean squared error: 134.540\n",
      "Mean Absolute error: 11.599\n",
      "Variance score: 0.000\n",
      "\n",
      "Russell Branyan\n"
     ]
    },
    {
     "name": "stderr",
     "output_type": "stream",
     "text": [
      "/Users/StephanieBrito/anaconda3/lib/python3.7/site-packages/sklearn/model_selection/_search.py:841: DeprecationWarning: The default of the `iid` parameter will change from True to False in version 0.22 and will be removed in 0.24. This will change numeric results when test-set sizes are unequal.\n",
      "  DeprecationWarning)\n"
     ]
    },
    {
     "name": "stdout",
     "output_type": "stream",
     "text": [
      "Actual OPS_plus [70.6228]\n",
      "Predicted OPS_plus [115.95025]\n",
      "Score: -0.001\n",
      "Mean squared error: 2054.578\n",
      "Mean Absolute error: 45.327\n",
      "Variance score: 0.000\n",
      "\n",
      "Terry Pendleton\n"
     ]
    },
    {
     "name": "stderr",
     "output_type": "stream",
     "text": [
      "/Users/StephanieBrito/anaconda3/lib/python3.7/site-packages/sklearn/model_selection/_search.py:841: DeprecationWarning: The default of the `iid` parameter will change from True to False in version 0.22 and will be removed in 0.24. This will change numeric results when test-set sizes are unequal.\n",
      "  DeprecationWarning)\n"
     ]
    },
    {
     "name": "stdout",
     "output_type": "stream",
     "text": [
      "Actual OPS_plus [75.4017]\n",
      "Predicted OPS_plus [83.05294857]\n",
      "Score: 0.217\n",
      "Mean squared error: 58.542\n",
      "Mean Absolute error: 7.651\n",
      "Variance score: 0.000\n",
      "\n",
      "Mike Cameron\n"
     ]
    },
    {
     "name": "stderr",
     "output_type": "stream",
     "text": [
      "/Users/StephanieBrito/anaconda3/lib/python3.7/site-packages/sklearn/model_selection/_search.py:841: DeprecationWarning: The default of the `iid` parameter will change from True to False in version 0.22 and will be removed in 0.24. This will change numeric results when test-set sizes are unequal.\n",
      "  DeprecationWarning)\n"
     ]
    },
    {
     "name": "stdout",
     "output_type": "stream",
     "text": [
      "Actual OPS_plus [27.8689]\n",
      "Predicted OPS_plus [108.62175176]\n",
      "Score: -0.035\n",
      "Mean squared error: 6521.023\n",
      "Mean Absolute error: 80.753\n",
      "Variance score: 0.000\n",
      "\n",
      "Carlos Baerga\n"
     ]
    },
    {
     "name": "stderr",
     "output_type": "stream",
     "text": [
      "/Users/StephanieBrito/anaconda3/lib/python3.7/site-packages/sklearn/model_selection/_search.py:841: DeprecationWarning: The default of the `iid` parameter will change from True to False in version 0.22 and will be removed in 0.24. This will change numeric results when test-set sizes are unequal.\n",
      "  DeprecationWarning)\n"
     ]
    },
    {
     "name": "stdout",
     "output_type": "stream",
     "text": [
      "Actual OPS_plus [62.4698]\n",
      "Predicted OPS_plus [121.23104322]\n",
      "Score: 0.775\n",
      "Mean squared error: 3452.884\n",
      "Mean Absolute error: 58.761\n",
      "Variance score: 0.000\n",
      "\n",
      "Jeff Reed\n"
     ]
    },
    {
     "name": "stderr",
     "output_type": "stream",
     "text": [
      "/Users/StephanieBrito/anaconda3/lib/python3.7/site-packages/sklearn/model_selection/_search.py:841: DeprecationWarning: The default of the `iid` parameter will change from True to False in version 0.22 and will be removed in 0.24. This will change numeric results when test-set sizes are unequal.\n",
      "  DeprecationWarning)\n"
     ]
    },
    {
     "name": "stdout",
     "output_type": "stream",
     "text": [
      "Actual OPS_plus [66.8307]\n",
      "Predicted OPS_plus [85.40791825]\n",
      "Score: 0.493\n",
      "Mean squared error: 345.113\n",
      "Mean Absolute error: 18.577\n",
      "Variance score: 0.000\n",
      "\n",
      "Jay Bell\n"
     ]
    },
    {
     "name": "stderr",
     "output_type": "stream",
     "text": [
      "/Users/StephanieBrito/anaconda3/lib/python3.7/site-packages/sklearn/model_selection/_search.py:841: DeprecationWarning: The default of the `iid` parameter will change from True to False in version 0.22 and will be removed in 0.24. This will change numeric results when test-set sizes are unequal.\n",
      "  DeprecationWarning)\n"
     ]
    },
    {
     "name": "stdout",
     "output_type": "stream",
     "text": [
      "Actual OPS_plus [87.5529]\n",
      "Predicted OPS_plus [108.62263769]\n",
      "Score: 0.290\n",
      "Mean squared error: 443.934\n",
      "Mean Absolute error: 21.070\n",
      "Variance score: 0.000\n",
      "\n",
      "Tino Martinez\n"
     ]
    },
    {
     "name": "stderr",
     "output_type": "stream",
     "text": [
      "/Users/StephanieBrito/anaconda3/lib/python3.7/site-packages/sklearn/model_selection/_search.py:841: DeprecationWarning: The default of the `iid` parameter will change from True to False in version 0.22 and will be removed in 0.24. This will change numeric results when test-set sizes are unequal.\n",
      "  DeprecationWarning)\n"
     ]
    },
    {
     "name": "stdout",
     "output_type": "stream",
     "text": [
      "Actual OPS_plus [116.8379]\n",
      "Predicted OPS_plus [105.61191562]\n",
      "Score: 0.092\n",
      "Mean squared error: 126.023\n",
      "Mean Absolute error: 11.226\n",
      "Variance score: 0.000\n",
      "\n",
      "Jim Edmonds\n"
     ]
    },
    {
     "name": "stderr",
     "output_type": "stream",
     "text": [
      "/Users/StephanieBrito/anaconda3/lib/python3.7/site-packages/sklearn/model_selection/_search.py:841: DeprecationWarning: The default of the `iid` parameter will change from True to False in version 0.22 and will be removed in 0.24. This will change numeric results when test-set sizes are unequal.\n",
      "  DeprecationWarning)\n"
     ]
    },
    {
     "name": "stdout",
     "output_type": "stream",
     "text": [
      "Actual OPS_plus [88.1939]\n",
      "Predicted OPS_plus [121.98264251]\n",
      "Score: 0.572\n",
      "Mean squared error: 1141.679\n",
      "Mean Absolute error: 33.789\n",
      "Variance score: 0.000\n",
      "\n",
      "Kenny Lofton\n"
     ]
    },
    {
     "name": "stderr",
     "output_type": "stream",
     "text": [
      "/Users/StephanieBrito/anaconda3/lib/python3.7/site-packages/sklearn/model_selection/_search.py:841: DeprecationWarning: The default of the `iid` parameter will change from True to False in version 0.22 and will be removed in 0.24. This will change numeric results when test-set sizes are unequal.\n",
      "  DeprecationWarning)\n"
     ]
    },
    {
     "name": "stdout",
     "output_type": "stream",
     "text": [
      "Actual OPS_plus [97.5808]\n",
      "Predicted OPS_plus [105.4825158]\n",
      "Score: 0.041\n",
      "Mean squared error: 62.437\n",
      "Mean Absolute error: 7.902\n",
      "Variance score: 0.000\n",
      "\n",
      "Torii Hunter\n"
     ]
    },
    {
     "name": "stderr",
     "output_type": "stream",
     "text": [
      "/Users/StephanieBrito/anaconda3/lib/python3.7/site-packages/sklearn/model_selection/_search.py:841: DeprecationWarning: The default of the `iid` parameter will change from True to False in version 0.22 and will be removed in 0.24. This will change numeric results when test-set sizes are unequal.\n",
      "  DeprecationWarning)\n"
     ]
    },
    {
     "name": "stdout",
     "output_type": "stream",
     "text": [
      "Actual OPS_plus [115.3168]\n",
      "Predicted OPS_plus [130.77360686]\n",
      "Score: 0.601\n",
      "Mean squared error: 238.913\n",
      "Mean Absolute error: 15.457\n",
      "Variance score: 0.000\n",
      "\n",
      "Craig Counsell\n"
     ]
    },
    {
     "name": "stderr",
     "output_type": "stream",
     "text": [
      "/Users/StephanieBrito/anaconda3/lib/python3.7/site-packages/sklearn/model_selection/_search.py:841: DeprecationWarning: The default of the `iid` parameter will change from True to False in version 0.22 and will be removed in 0.24. This will change numeric results when test-set sizes are unequal.\n",
      "  DeprecationWarning)\n"
     ]
    },
    {
     "name": "stdout",
     "output_type": "stream",
     "text": [
      "Actual OPS_plus [74.0503]\n",
      "Predicted OPS_plus [77.43565]\n",
      "Score: 0.051\n",
      "Mean squared error: 11.461\n",
      "Mean Absolute error: 3.385\n",
      "Variance score: 0.000\n",
      "\n",
      "Moises Alou\n"
     ]
    },
    {
     "name": "stderr",
     "output_type": "stream",
     "text": [
      "/Users/StephanieBrito/anaconda3/lib/python3.7/site-packages/sklearn/model_selection/_search.py:841: DeprecationWarning: The default of the `iid` parameter will change from True to False in version 0.22 and will be removed in 0.24. This will change numeric results when test-set sizes are unequal.\n",
      "  DeprecationWarning)\n"
     ]
    },
    {
     "name": "stdout",
     "output_type": "stream",
     "text": [
      "Actual OPS_plus [136.6959]\n",
      "Predicted OPS_plus [128.4713]\n",
      "Score: -0.002\n",
      "Mean squared error: 67.644\n",
      "Mean Absolute error: 8.225\n",
      "Variance score: 0.000\n",
      "\n",
      "Jerry Hairston\n"
     ]
    },
    {
     "name": "stderr",
     "output_type": "stream",
     "text": [
      "/Users/StephanieBrito/anaconda3/lib/python3.7/site-packages/sklearn/model_selection/_search.py:841: DeprecationWarning: The default of the `iid` parameter will change from True to False in version 0.22 and will be removed in 0.24. This will change numeric results when test-set sizes are unequal.\n",
      "  DeprecationWarning)\n"
     ]
    },
    {
     "name": "stdout",
     "output_type": "stream",
     "text": [
      "Actual OPS_plus [104.8493]\n",
      "Predicted OPS_plus [95.56681286]\n",
      "Score: 0.293\n",
      "Mean squared error: 86.165\n",
      "Mean Absolute error: 9.282\n",
      "Variance score: 0.000\n",
      "\n",
      "Bernie Williams\n"
     ]
    },
    {
     "name": "stderr",
     "output_type": "stream",
     "text": [
      "/Users/StephanieBrito/anaconda3/lib/python3.7/site-packages/sklearn/model_selection/_search.py:841: DeprecationWarning: The default of the `iid` parameter will change from True to False in version 0.22 and will be removed in 0.24. This will change numeric results when test-set sizes are unequal.\n",
      "  DeprecationWarning)\n"
     ]
    },
    {
     "name": "stdout",
     "output_type": "stream",
     "text": [
      "Actual OPS_plus [84.9096]\n",
      "Predicted OPS_plus [97.33518616]\n",
      "Score: 0.855\n",
      "Mean squared error: 154.395\n",
      "Mean Absolute error: 12.426\n",
      "Variance score: 0.000\n",
      "\n",
      "Coco Crisp\n"
     ]
    },
    {
     "name": "stderr",
     "output_type": "stream",
     "text": [
      "/Users/StephanieBrito/anaconda3/lib/python3.7/site-packages/sklearn/model_selection/_search.py:841: DeprecationWarning: The default of the `iid` parameter will change from True to False in version 0.22 and will be removed in 0.24. This will change numeric results when test-set sizes are unequal.\n",
      "  DeprecationWarning)\n"
     ]
    },
    {
     "name": "stdout",
     "output_type": "stream",
     "text": [
      "Actual OPS_plus [82.5009]\n",
      "Predicted OPS_plus [101.27818588]\n",
      "Score: -0.083\n",
      "Mean squared error: 352.586\n",
      "Mean Absolute error: 18.777\n",
      "Variance score: 0.000\n",
      "\n",
      "Jeff Kent\n"
     ]
    },
    {
     "name": "stderr",
     "output_type": "stream",
     "text": [
      "/Users/StephanieBrito/anaconda3/lib/python3.7/site-packages/sklearn/model_selection/_search.py:841: DeprecationWarning: The default of the `iid` parameter will change from True to False in version 0.22 and will be removed in 0.24. This will change numeric results when test-set sizes are unequal.\n",
      "  DeprecationWarning)\n"
     ]
    },
    {
     "name": "stdout",
     "output_type": "stream",
     "text": [
      "Actual OPS_plus [122.7239]\n",
      "Predicted OPS_plus [138.9897233]\n",
      "Score: 0.450\n",
      "Mean squared error: 264.577\n",
      "Mean Absolute error: 16.266\n",
      "Variance score: 0.000\n",
      "\n",
      "Damion Easley\n"
     ]
    },
    {
     "name": "stderr",
     "output_type": "stream",
     "text": [
      "/Users/StephanieBrito/anaconda3/lib/python3.7/site-packages/sklearn/model_selection/_search.py:841: DeprecationWarning: The default of the `iid` parameter will change from True to False in version 0.22 and will be removed in 0.24. This will change numeric results when test-set sizes are unequal.\n",
      "  DeprecationWarning)\n"
     ]
    },
    {
     "name": "stdout",
     "output_type": "stream",
     "text": [
      "Actual OPS_plus [95.2248]\n",
      "Predicted OPS_plus [100.75550504]\n",
      "Score: -0.071\n",
      "Mean squared error: 30.589\n",
      "Mean Absolute error: 5.531\n",
      "Variance score: 0.000\n",
      "\n",
      "Jose Cruz\n"
     ]
    },
    {
     "name": "stderr",
     "output_type": "stream",
     "text": [
      "/Users/StephanieBrito/anaconda3/lib/python3.7/site-packages/sklearn/model_selection/_search.py:841: DeprecationWarning: The default of the `iid` parameter will change from True to False in version 0.22 and will be removed in 0.24. This will change numeric results when test-set sizes are unequal.\n",
      "  DeprecationWarning)\n"
     ]
    },
    {
     "name": "stdout",
     "output_type": "stream",
     "text": [
      "Actual OPS_plus [120.3735]\n",
      "Predicted OPS_plus [104.27583053]\n",
      "Score: 0.290\n",
      "Mean squared error: 259.135\n",
      "Mean Absolute error: 16.098\n",
      "Variance score: 0.000\n",
      "\n",
      "Brian Downing\n"
     ]
    },
    {
     "name": "stderr",
     "output_type": "stream",
     "text": [
      "/Users/StephanieBrito/anaconda3/lib/python3.7/site-packages/sklearn/model_selection/_search.py:841: DeprecationWarning: The default of the `iid` parameter will change from True to False in version 0.22 and will be removed in 0.24. This will change numeric results when test-set sizes are unequal.\n",
      "  DeprecationWarning)\n"
     ]
    },
    {
     "name": "stdout",
     "output_type": "stream",
     "text": [
      "Actual OPS_plus [118.3512]\n",
      "Predicted OPS_plus [126.62253658]\n",
      "Score: 0.458\n",
      "Mean squared error: 68.415\n",
      "Mean Absolute error: 8.271\n",
      "Variance score: 0.000\n",
      "\n",
      "Delino DeShields\n"
     ]
    },
    {
     "name": "stderr",
     "output_type": "stream",
     "text": [
      "/Users/StephanieBrito/anaconda3/lib/python3.7/site-packages/sklearn/model_selection/_search.py:841: DeprecationWarning: The default of the `iid` parameter will change from True to False in version 0.22 and will be removed in 0.24. This will change numeric results when test-set sizes are unequal.\n",
      "  DeprecationWarning)\n"
     ]
    },
    {
     "name": "stdout",
     "output_type": "stream",
     "text": [
      "Actual OPS_plus [94.6567]\n",
      "Predicted OPS_plus [86.20646292]\n",
      "Score: 0.126\n",
      "Mean squared error: 71.407\n",
      "Mean Absolute error: 8.450\n",
      "Variance score: 0.000\n",
      "\n",
      "Barry Bonds\n"
     ]
    },
    {
     "name": "stderr",
     "output_type": "stream",
     "text": [
      "/Users/StephanieBrito/anaconda3/lib/python3.7/site-packages/sklearn/model_selection/_search.py:841: DeprecationWarning: The default of the `iid` parameter will change from True to False in version 0.22 and will be removed in 0.24. This will change numeric results when test-set sizes are unequal.\n",
      "  DeprecationWarning)\n"
     ]
    },
    {
     "name": "stdout",
     "output_type": "stream",
     "text": [
      "Actual OPS_plus [187.9919]\n",
      "Predicted OPS_plus [144.53717788]\n",
      "Score: 0.812\n",
      "Mean squared error: 1888.313\n",
      "Mean Absolute error: 43.455\n",
      "Variance score: 0.000\n",
      "\n",
      "Garry Templeton\n"
     ]
    },
    {
     "name": "stderr",
     "output_type": "stream",
     "text": [
      "/Users/StephanieBrito/anaconda3/lib/python3.7/site-packages/sklearn/model_selection/_search.py:841: DeprecationWarning: The default of the `iid` parameter will change from True to False in version 0.22 and will be removed in 0.24. This will change numeric results when test-set sizes are unequal.\n",
      "  DeprecationWarning)\n"
     ]
    },
    {
     "name": "stdout",
     "output_type": "stream",
     "text": [
      "Actual OPS_plus [75.0909]\n",
      "Predicted OPS_plus [86.21239203]\n",
      "Score: 0.429\n",
      "Mean squared error: 123.688\n",
      "Mean Absolute error: 11.121\n",
      "Variance score: 0.000\n",
      "\n",
      "Tony Armas\n"
     ]
    },
    {
     "name": "stderr",
     "output_type": "stream",
     "text": [
      "/Users/StephanieBrito/anaconda3/lib/python3.7/site-packages/sklearn/model_selection/_search.py:841: DeprecationWarning: The default of the `iid` parameter will change from True to False in version 0.22 and will be removed in 0.24. This will change numeric results when test-set sizes are unequal.\n",
      "  DeprecationWarning)\n"
     ]
    },
    {
     "name": "stdout",
     "output_type": "stream",
     "text": [
      "Actual OPS_plus [-33.1163]\n",
      "Predicted OPS_plus [95.52766987]\n",
      "Score: -0.025\n",
      "Mean squared error: 16549.271\n",
      "Mean Absolute error: 128.644\n",
      "Variance score: 0.000\n",
      "\n",
      "Derek Jeter\n"
     ]
    },
    {
     "name": "stderr",
     "output_type": "stream",
     "text": [
      "/Users/StephanieBrito/anaconda3/lib/python3.7/site-packages/sklearn/model_selection/_search.py:841: DeprecationWarning: The default of the `iid` parameter will change from True to False in version 0.22 and will be removed in 0.24. This will change numeric results when test-set sizes are unequal.\n",
      "  DeprecationWarning)\n"
     ]
    },
    {
     "name": "stdout",
     "output_type": "stream",
     "text": [
      "Actual OPS_plus [124.5424]\n",
      "Predicted OPS_plus [122.25785]\n",
      "Score: 0.001\n",
      "Mean squared error: 5.219\n",
      "Mean Absolute error: 2.285\n",
      "Variance score: 0.000\n",
      "\n",
      "Robin Ventura\n"
     ]
    },
    {
     "name": "stderr",
     "output_type": "stream",
     "text": [
      "/Users/StephanieBrito/anaconda3/lib/python3.7/site-packages/sklearn/model_selection/_search.py:841: DeprecationWarning: The default of the `iid` parameter will change from True to False in version 0.22 and will be removed in 0.24. This will change numeric results when test-set sizes are unequal.\n",
      "  DeprecationWarning)\n"
     ]
    },
    {
     "name": "stdout",
     "output_type": "stream",
     "text": [
      "Actual OPS_plus [100.1997]\n",
      "Predicted OPS_plus [116.16369443]\n",
      "Score: -0.021\n",
      "Mean squared error: 254.849\n",
      "Mean Absolute error: 15.964\n",
      "Variance score: 0.000\n",
      "\n",
      "John Olerud\n"
     ]
    },
    {
     "name": "stderr",
     "output_type": "stream",
     "text": [
      "/Users/StephanieBrito/anaconda3/lib/python3.7/site-packages/sklearn/model_selection/_search.py:841: DeprecationWarning: The default of the `iid` parameter will change from True to False in version 0.22 and will be removed in 0.24. This will change numeric results when test-set sizes are unequal.\n",
      "  DeprecationWarning)\n"
     ]
    },
    {
     "name": "stdout",
     "output_type": "stream",
     "text": [
      "Actual OPS_plus [101.3637]\n",
      "Predicted OPS_plus [125.4928]\n",
      "Score: 0.018\n",
      "Mean squared error: 582.213\n",
      "Mean Absolute error: 24.129\n",
      "Variance score: 0.000\n",
      "\n",
      "Jeff Conine\n"
     ]
    },
    {
     "name": "stderr",
     "output_type": "stream",
     "text": [
      "/Users/StephanieBrito/anaconda3/lib/python3.7/site-packages/sklearn/model_selection/_search.py:841: DeprecationWarning: The default of the `iid` parameter will change from True to False in version 0.22 and will be removed in 0.24. This will change numeric results when test-set sizes are unequal.\n",
      "  DeprecationWarning)\n"
     ]
    },
    {
     "name": "stdout",
     "output_type": "stream",
     "text": [
      "Actual OPS_plus [110.0343]\n",
      "Predicted OPS_plus [105.1307625]\n",
      "Score: 0.694\n",
      "Mean squared error: 24.045\n",
      "Mean Absolute error: 4.904\n",
      "Variance score: 0.000\n",
      "\n",
      "Luis Gonzalez\n"
     ]
    },
    {
     "name": "stderr",
     "output_type": "stream",
     "text": [
      "/Users/StephanieBrito/anaconda3/lib/python3.7/site-packages/sklearn/model_selection/_search.py:841: DeprecationWarning: The default of the `iid` parameter will change from True to False in version 0.22 and will be removed in 0.24. This will change numeric results when test-set sizes are unequal.\n",
      "  DeprecationWarning)\n"
     ]
    },
    {
     "name": "stdout",
     "output_type": "stream",
     "text": [
      "Actual OPS_plus [117.6018]\n",
      "Predicted OPS_plus [134.36848181]\n",
      "Score: 0.467\n",
      "Mean squared error: 281.122\n",
      "Mean Absolute error: 16.767\n",
      "Variance score: 0.000\n",
      "\n",
      "Jim Gantner\n"
     ]
    },
    {
     "name": "stderr",
     "output_type": "stream",
     "text": [
      "/Users/StephanieBrito/anaconda3/lib/python3.7/site-packages/sklearn/model_selection/_search.py:841: DeprecationWarning: The default of the `iid` parameter will change from True to False in version 0.22 and will be removed in 0.24. This will change numeric results when test-set sizes are unequal.\n",
      "  DeprecationWarning)\n"
     ]
    },
    {
     "name": "stdout",
     "output_type": "stream",
     "text": [
      "Actual OPS_plus [90.3017]\n",
      "Predicted OPS_plus [82.32215959]\n",
      "Score: 0.451\n",
      "Mean squared error: 63.673\n",
      "Mean Absolute error: 7.980\n",
      "Variance score: 0.000\n",
      "\n",
      "Benito Santiago\n"
     ]
    },
    {
     "name": "stderr",
     "output_type": "stream",
     "text": [
      "/Users/StephanieBrito/anaconda3/lib/python3.7/site-packages/sklearn/model_selection/_search.py:841: DeprecationWarning: The default of the `iid` parameter will change from True to False in version 0.22 and will be removed in 0.24. This will change numeric results when test-set sizes are unequal.\n",
      "  DeprecationWarning)\n"
     ]
    },
    {
     "name": "stdout",
     "output_type": "stream",
     "text": [
      "Actual OPS_plus [76.0703]\n",
      "Predicted OPS_plus [75.14313477]\n",
      "Score: 0.064\n",
      "Mean squared error: 0.860\n",
      "Mean Absolute error: 0.927\n",
      "Variance score: 0.000\n",
      "\n",
      "David Ortiz\n"
     ]
    },
    {
     "name": "stderr",
     "output_type": "stream",
     "text": [
      "/Users/StephanieBrito/anaconda3/lib/python3.7/site-packages/sklearn/model_selection/_search.py:841: DeprecationWarning: The default of the `iid` parameter will change from True to False in version 0.22 and will be removed in 0.24. This will change numeric results when test-set sizes are unequal.\n",
      "  DeprecationWarning)\n"
     ]
    },
    {
     "name": "stdout",
     "output_type": "stream",
     "text": [
      "Actual OPS_plus [173.281]\n",
      "Predicted OPS_plus [136.34655]\n",
      "Score: -0.041\n",
      "Mean squared error: 1364.154\n",
      "Mean Absolute error: 36.934\n",
      "Variance score: 0.000\n",
      "\n",
      "Eric Young Sr.\n"
     ]
    },
    {
     "name": "stderr",
     "output_type": "stream",
     "text": [
      "/Users/StephanieBrito/anaconda3/lib/python3.7/site-packages/sklearn/model_selection/_search.py:841: DeprecationWarning: The default of the `iid` parameter will change from True to False in version 0.22 and will be removed in 0.24. This will change numeric results when test-set sizes are unequal.\n",
      "  DeprecationWarning)\n"
     ]
    },
    {
     "name": "stdout",
     "output_type": "stream",
     "text": [
      "Actual OPS_plus [92.7968]\n",
      "Predicted OPS_plus [91.29085888]\n",
      "Score: -0.027\n",
      "Mean squared error: 2.268\n",
      "Mean Absolute error: 1.506\n",
      "Variance score: 0.000\n",
      "\n",
      "Reggie Sanders\n"
     ]
    },
    {
     "name": "stderr",
     "output_type": "stream",
     "text": [
      "/Users/StephanieBrito/anaconda3/lib/python3.7/site-packages/sklearn/model_selection/_search.py:841: DeprecationWarning: The default of the `iid` parameter will change from True to False in version 0.22 and will be removed in 0.24. This will change numeric results when test-set sizes are unequal.\n",
      "  DeprecationWarning)\n"
     ]
    },
    {
     "name": "stdout",
     "output_type": "stream",
     "text": [
      "Actual OPS_plus [85.7524]\n",
      "Predicted OPS_plus [122.40343314]\n",
      "Score: -0.076\n",
      "Mean squared error: 1343.298\n",
      "Mean Absolute error: 36.651\n",
      "Variance score: 0.000\n",
      "\n",
      "Shawon Dunston\n"
     ]
    },
    {
     "name": "stderr",
     "output_type": "stream",
     "text": [
      "/Users/StephanieBrito/anaconda3/lib/python3.7/site-packages/sklearn/model_selection/_search.py:841: DeprecationWarning: The default of the `iid` parameter will change from True to False in version 0.22 and will be removed in 0.24. This will change numeric results when test-set sizes are unequal.\n",
      "  DeprecationWarning)\n"
     ]
    },
    {
     "name": "stdout",
     "output_type": "stream",
     "text": [
      "Actual OPS_plus [61.3331]\n",
      "Predicted OPS_plus [85.30090766]\n",
      "Score: 0.091\n",
      "Mean squared error: 574.456\n",
      "Mean Absolute error: 23.968\n",
      "Variance score: 0.000\n",
      "\n",
      "Mike Sweeney\n"
     ]
    },
    {
     "name": "stderr",
     "output_type": "stream",
     "text": [
      "/Users/StephanieBrito/anaconda3/lib/python3.7/site-packages/sklearn/model_selection/_search.py:841: DeprecationWarning: The default of the `iid` parameter will change from True to False in version 0.22 and will be removed in 0.24. This will change numeric results when test-set sizes are unequal.\n",
      "  DeprecationWarning)\n"
     ]
    },
    {
     "name": "stdout",
     "output_type": "stream",
     "text": [
      "Actual OPS_plus [85.116]\n",
      "Predicted OPS_plus [101.02598535]\n",
      "Score: 0.409\n",
      "Mean squared error: 253.128\n",
      "Mean Absolute error: 15.910\n",
      "Variance score: 0.000\n",
      "\n",
      "Lance Berkman\n"
     ]
    },
    {
     "name": "stderr",
     "output_type": "stream",
     "text": [
      "/Users/StephanieBrito/anaconda3/lib/python3.7/site-packages/sklearn/model_selection/_search.py:841: DeprecationWarning: The default of the `iid` parameter will change from True to False in version 0.22 and will be removed in 0.24. This will change numeric results when test-set sizes are unequal.\n",
      "  DeprecationWarning)\n"
     ]
    },
    {
     "name": "stdout",
     "output_type": "stream",
     "text": [
      "Actual OPS_plus [126.168]\n",
      "Predicted OPS_plus [141.3463]\n",
      "Score: 0.038\n",
      "Mean squared error: 230.381\n",
      "Mean Absolute error: 15.178\n",
      "Variance score: 0.000\n",
      "\n",
      "Eric Davis\n"
     ]
    },
    {
     "name": "stderr",
     "output_type": "stream",
     "text": [
      "/Users/StephanieBrito/anaconda3/lib/python3.7/site-packages/sklearn/model_selection/_search.py:841: DeprecationWarning: The default of the `iid` parameter will change from True to False in version 0.22 and will be removed in 0.24. This will change numeric results when test-set sizes are unequal.\n",
      "  DeprecationWarning)\n"
     ]
    },
    {
     "name": "stdout",
     "output_type": "stream",
     "text": [
      "Actual OPS_plus [150.6262]\n",
      "Predicted OPS_plus [131.56250489]\n",
      "Score: 0.304\n",
      "Mean squared error: 363.424\n",
      "Mean Absolute error: 19.064\n",
      "Variance score: 0.000\n",
      "\n",
      "Cliff Floyd\n"
     ]
    },
    {
     "name": "stderr",
     "output_type": "stream",
     "text": [
      "/Users/StephanieBrito/anaconda3/lib/python3.7/site-packages/sklearn/model_selection/_search.py:841: DeprecationWarning: The default of the `iid` parameter will change from True to False in version 0.22 and will be removed in 0.24. This will change numeric results when test-set sizes are unequal.\n",
      "  DeprecationWarning)\n"
     ]
    },
    {
     "name": "stdout",
     "output_type": "stream",
     "text": [
      "Actual OPS_plus [88.1425]\n",
      "Predicted OPS_plus [119.33655552]\n",
      "Score: 0.372\n",
      "Mean squared error: 973.069\n",
      "Mean Absolute error: 31.194\n",
      "Variance score: 0.000\n",
      "\n",
      "Mark Loretta\n"
     ]
    },
    {
     "name": "stderr",
     "output_type": "stream",
     "text": [
      "/Users/StephanieBrito/anaconda3/lib/python3.7/site-packages/sklearn/model_selection/_search.py:841: DeprecationWarning: The default of the `iid` parameter will change from True to False in version 0.22 and will be removed in 0.24. This will change numeric results when test-set sizes are unequal.\n",
      "  DeprecationWarning)\n"
     ]
    },
    {
     "name": "stdout",
     "output_type": "stream",
     "text": [
      "Actual OPS_plus [95.5686]\n",
      "Predicted OPS_plus [84.2637601]\n",
      "Score: 0.080\n",
      "Mean squared error: 127.799\n",
      "Mean Absolute error: 11.305\n",
      "Variance score: 0.000\n",
      "\n",
      "Scott Rolen\n"
     ]
    },
    {
     "name": "stderr",
     "output_type": "stream",
     "text": [
      "/Users/StephanieBrito/anaconda3/lib/python3.7/site-packages/sklearn/model_selection/_search.py:841: DeprecationWarning: The default of the `iid` parameter will change from True to False in version 0.22 and will be removed in 0.24. This will change numeric results when test-set sizes are unequal.\n",
      "  DeprecationWarning)\n"
     ]
    },
    {
     "name": "stdout",
     "output_type": "stream",
     "text": [
      "Actual OPS_plus [102.5738]\n",
      "Predicted OPS_plus [124.2141]\n",
      "Score: 0.043\n",
      "Mean squared error: 468.303\n",
      "Mean Absolute error: 21.640\n",
      "Variance score: 0.000\n",
      "\n",
      "Darryl Strawberry\n"
     ]
    },
    {
     "name": "stderr",
     "output_type": "stream",
     "text": [
      "/Users/StephanieBrito/anaconda3/lib/python3.7/site-packages/sklearn/model_selection/_search.py:841: DeprecationWarning: The default of the `iid` parameter will change from True to False in version 0.22 and will be removed in 0.24. This will change numeric results when test-set sizes are unequal.\n",
      "  DeprecationWarning)\n"
     ]
    },
    {
     "name": "stdout",
     "output_type": "stream",
     "text": [
      "Actual OPS_plus [132.2599]\n",
      "Predicted OPS_plus [108.87138125]\n",
      "Score: 0.640\n",
      "Mean squared error: 547.023\n",
      "Mean Absolute error: 23.389\n",
      "Variance score: 0.000\n",
      "\n",
      "Mark McGwire\n"
     ]
    },
    {
     "name": "stderr",
     "output_type": "stream",
     "text": [
      "/Users/StephanieBrito/anaconda3/lib/python3.7/site-packages/sklearn/model_selection/_search.py:841: DeprecationWarning: The default of the `iid` parameter will change from True to False in version 0.22 and will be removed in 0.24. This will change numeric results when test-set sizes are unequal.\n",
      "  DeprecationWarning)\n"
     ]
    },
    {
     "name": "stdout",
     "output_type": "stream",
     "text": [
      "Actual OPS_plus [176.4597]\n",
      "Predicted OPS_plus [185.020617]\n",
      "Score: 0.389\n",
      "Mean squared error: 73.289\n",
      "Mean Absolute error: 8.561\n",
      "Variance score: 0.000\n",
      "\n",
      "Juan Samuel\n"
     ]
    },
    {
     "name": "stderr",
     "output_type": "stream",
     "text": [
      "/Users/StephanieBrito/anaconda3/lib/python3.7/site-packages/sklearn/model_selection/_search.py:841: DeprecationWarning: The default of the `iid` parameter will change from True to False in version 0.22 and will be removed in 0.24. This will change numeric results when test-set sizes are unequal.\n",
      "  DeprecationWarning)\n"
     ]
    },
    {
     "name": "stdout",
     "output_type": "stream",
     "text": [
      "Actual OPS_plus [132.3922]\n",
      "Predicted OPS_plus [103.19665]\n",
      "Score: -0.053\n",
      "Mean squared error: 852.380\n",
      "Mean Absolute error: 29.196\n",
      "Variance score: 0.000\n",
      "\n",
      "Rick Cerone\n"
     ]
    },
    {
     "name": "stderr",
     "output_type": "stream",
     "text": [
      "/Users/StephanieBrito/anaconda3/lib/python3.7/site-packages/sklearn/model_selection/_search.py:841: DeprecationWarning: The default of the `iid` parameter will change from True to False in version 0.22 and will be removed in 0.24. This will change numeric results when test-set sizes are unequal.\n",
      "  DeprecationWarning)\n"
     ]
    },
    {
     "name": "stdout",
     "output_type": "stream",
     "text": [
      "Actual OPS_plus [104.0818]\n",
      "Predicted OPS_plus [103.28284031]\n",
      "Score: 0.861\n",
      "Mean squared error: 0.638\n",
      "Mean Absolute error: 0.799\n",
      "Variance score: 0.000\n",
      "\n",
      "Brian Hunter\n"
     ]
    },
    {
     "name": "stderr",
     "output_type": "stream",
     "text": [
      "/Users/StephanieBrito/anaconda3/lib/python3.7/site-packages/sklearn/model_selection/_search.py:841: DeprecationWarning: The default of the `iid` parameter will change from True to False in version 0.22 and will be removed in 0.24. This will change numeric results when test-set sizes are unequal.\n",
      "  DeprecationWarning)\n"
     ]
    },
    {
     "name": "stdout",
     "output_type": "stream",
     "text": [
      "Actual OPS_plus [46.4462]\n",
      "Predicted OPS_plus [59.54574605]\n",
      "Score: -0.189\n",
      "Mean squared error: 171.598\n",
      "Mean Absolute error: 13.100\n",
      "Variance score: 0.000\n",
      "\n",
      "Andre Dawson\n"
     ]
    },
    {
     "name": "stderr",
     "output_type": "stream",
     "text": [
      "/Users/StephanieBrito/anaconda3/lib/python3.7/site-packages/sklearn/model_selection/_search.py:841: DeprecationWarning: The default of the `iid` parameter will change from True to False in version 0.22 and will be removed in 0.24. This will change numeric results when test-set sizes are unequal.\n",
      "  DeprecationWarning)\n"
     ]
    },
    {
     "name": "stdout",
     "output_type": "stream",
     "text": [
      "Actual OPS_plus [135.3076]\n",
      "Predicted OPS_plus [119.75981429]\n",
      "Score: 1.000\n",
      "Mean squared error: 241.734\n",
      "Mean Absolute error: 15.548\n",
      "Variance score: 0.000\n",
      "\n",
      "Claudell Washington\n"
     ]
    },
    {
     "name": "stderr",
     "output_type": "stream",
     "text": [
      "/Users/StephanieBrito/anaconda3/lib/python3.7/site-packages/sklearn/model_selection/_search.py:841: DeprecationWarning: The default of the `iid` parameter will change from True to False in version 0.22 and will be removed in 0.24. This will change numeric results when test-set sizes are unequal.\n",
      "  DeprecationWarning)\n"
     ]
    },
    {
     "name": "stdout",
     "output_type": "stream",
     "text": [
      "Actual OPS_plus [100.3563]\n",
      "Predicted OPS_plus [108.34225]\n",
      "Score: -0.011\n",
      "Mean squared error: 63.775\n",
      "Mean Absolute error: 7.986\n",
      "Variance score: 0.000\n",
      "\n",
      "Rondell White\n"
     ]
    },
    {
     "name": "stderr",
     "output_type": "stream",
     "text": [
      "/Users/StephanieBrito/anaconda3/lib/python3.7/site-packages/sklearn/model_selection/_search.py:841: DeprecationWarning: The default of the `iid` parameter will change from True to False in version 0.22 and will be removed in 0.24. This will change numeric results when test-set sizes are unequal.\n",
      "  DeprecationWarning)\n"
     ]
    },
    {
     "name": "stdout",
     "output_type": "stream",
     "text": [
      "Actual OPS_plus [122.9467]\n",
      "Predicted OPS_plus [115.64575]\n",
      "Score: -0.015\n",
      "Mean squared error: 53.304\n",
      "Mean Absolute error: 7.301\n",
      "Variance score: 0.000\n",
      "\n",
      "Dale Murphy\n"
     ]
    },
    {
     "name": "stderr",
     "output_type": "stream",
     "text": [
      "/Users/StephanieBrito/anaconda3/lib/python3.7/site-packages/sklearn/model_selection/_search.py:841: DeprecationWarning: The default of the `iid` parameter will change from True to False in version 0.22 and will be removed in 0.24. This will change numeric results when test-set sizes are unequal.\n",
      "  DeprecationWarning)\n"
     ]
    },
    {
     "name": "stdout",
     "output_type": "stream",
     "text": [
      "Actual OPS_plus [95.7495]\n",
      "Predicted OPS_plus [79.35906425]\n",
      "Score: 0.511\n",
      "Mean squared error: 268.646\n",
      "Mean Absolute error: 16.390\n",
      "Variance score: 0.000\n",
      "\n",
      "David Segui\n"
     ]
    },
    {
     "name": "stderr",
     "output_type": "stream",
     "text": [
      "/Users/StephanieBrito/anaconda3/lib/python3.7/site-packages/sklearn/model_selection/_search.py:841: DeprecationWarning: The default of the `iid` parameter will change from True to False in version 0.22 and will be removed in 0.24. This will change numeric results when test-set sizes are unequal.\n",
      "  DeprecationWarning)\n"
     ]
    },
    {
     "name": "stdout",
     "output_type": "stream",
     "text": [
      "Actual OPS_plus [136.7696]\n",
      "Predicted OPS_plus [134.66608746]\n",
      "Score: 0.504\n",
      "Mean squared error: 4.425\n",
      "Mean Absolute error: 2.104\n",
      "Variance score: 0.000\n",
      "\n",
      "Wade Boggs\n"
     ]
    },
    {
     "name": "stderr",
     "output_type": "stream",
     "text": [
      "/Users/StephanieBrito/anaconda3/lib/python3.7/site-packages/sklearn/model_selection/_search.py:841: DeprecationWarning: The default of the `iid` parameter will change from True to False in version 0.22 and will be removed in 0.24. This will change numeric results when test-set sizes are unequal.\n",
      "  DeprecationWarning)\n"
     ]
    },
    {
     "name": "stdout",
     "output_type": "stream",
     "text": [
      "Actual OPS_plus [97.731]\n",
      "Predicted OPS_plus [126.77757321]\n",
      "Score: 0.576\n",
      "Mean squared error: 843.703\n",
      "Mean Absolute error: 29.047\n",
      "Variance score: 0.000\n",
      "\n",
      "Brett Butler\n"
     ]
    },
    {
     "name": "stderr",
     "output_type": "stream",
     "text": [
      "/Users/StephanieBrito/anaconda3/lib/python3.7/site-packages/sklearn/model_selection/_search.py:841: DeprecationWarning: The default of the `iid` parameter will change from True to False in version 0.22 and will be removed in 0.24. This will change numeric results when test-set sizes are unequal.\n",
      "  DeprecationWarning)\n"
     ]
    },
    {
     "name": "stdout",
     "output_type": "stream",
     "text": [
      "Actual OPS_plus [95.3836]\n",
      "Predicted OPS_plus [131.97507535]\n",
      "Score: 0.448\n",
      "Mean squared error: 1338.936\n",
      "Mean Absolute error: 36.591\n",
      "Variance score: 0.000\n",
      "\n",
      "Carlos Beltran\n"
     ]
    },
    {
     "name": "stderr",
     "output_type": "stream",
     "text": [
      "/Users/StephanieBrito/anaconda3/lib/python3.7/site-packages/sklearn/model_selection/_search.py:841: DeprecationWarning: The default of the `iid` parameter will change from True to False in version 0.22 and will be removed in 0.24. This will change numeric results when test-set sizes are unequal.\n",
      "  DeprecationWarning)\n"
     ]
    },
    {
     "name": "stdout",
     "output_type": "stream",
     "text": [
      "Actual OPS_plus [151.3073]\n",
      "Predicted OPS_plus [95.83613033]\n",
      "Score: 0.476\n",
      "Mean squared error: 3077.051\n",
      "Mean Absolute error: 55.471\n",
      "Variance score: 0.000\n",
      "\n",
      "Bobby Abreu\n"
     ]
    },
    {
     "name": "stderr",
     "output_type": "stream",
     "text": [
      "/Users/StephanieBrito/anaconda3/lib/python3.7/site-packages/sklearn/model_selection/_search.py:841: DeprecationWarning: The default of the `iid` parameter will change from True to False in version 0.22 and will be removed in 0.24. This will change numeric results when test-set sizes are unequal.\n",
      "  DeprecationWarning)\n"
     ]
    },
    {
     "name": "stdout",
     "output_type": "stream",
     "text": [
      "Actual OPS_plus [117.6763]\n",
      "Predicted OPS_plus [119.02405]\n",
      "Score: -0.420\n",
      "Mean squared error: 1.816\n",
      "Mean Absolute error: 1.348\n",
      "Variance score: 0.000\n",
      "\n",
      "Ramon Martinez\n"
     ]
    },
    {
     "name": "stderr",
     "output_type": "stream",
     "text": [
      "/Users/StephanieBrito/anaconda3/lib/python3.7/site-packages/sklearn/model_selection/_search.py:841: DeprecationWarning: The default of the `iid` parameter will change from True to False in version 0.22 and will be removed in 0.24. This will change numeric results when test-set sizes are unequal.\n",
      "  DeprecationWarning)\n"
     ]
    },
    {
     "name": "stdout",
     "output_type": "stream",
     "text": [
      "Actual OPS_plus [77.6988]\n",
      "Predicted OPS_plus [59.54546155]\n",
      "Score: 0.674\n",
      "Mean squared error: 329.544\n",
      "Mean Absolute error: 18.153\n",
      "Variance score: 0.000\n",
      "\n",
      "Craig Biggio\n"
     ]
    },
    {
     "name": "stderr",
     "output_type": "stream",
     "text": [
      "/Users/StephanieBrito/anaconda3/lib/python3.7/site-packages/sklearn/model_selection/_search.py:841: DeprecationWarning: The default of the `iid` parameter will change from True to False in version 0.22 and will be removed in 0.24. This will change numeric results when test-set sizes are unequal.\n",
      "  DeprecationWarning)\n"
     ]
    },
    {
     "name": "stdout",
     "output_type": "stream",
     "text": [
      "Actual OPS_plus [87.8738]\n",
      "Predicted OPS_plus [101.12057246]\n",
      "Score: 0.563\n",
      "Mean squared error: 175.477\n",
      "Mean Absolute error: 13.247\n",
      "Variance score: 0.000\n",
      "\n",
      "Darrell Evans\n"
     ]
    },
    {
     "name": "stderr",
     "output_type": "stream",
     "text": [
      "/Users/StephanieBrito/anaconda3/lib/python3.7/site-packages/sklearn/model_selection/_search.py:841: DeprecationWarning: The default of the `iid` parameter will change from True to False in version 0.22 and will be removed in 0.24. This will change numeric results when test-set sizes are unequal.\n",
      "  DeprecationWarning)\n"
     ]
    },
    {
     "name": "stdout",
     "output_type": "stream",
     "text": [
      "Actual OPS_plus [104.6871]\n",
      "Predicted OPS_plus [138.21412028]\n",
      "Score: 0.359\n",
      "Mean squared error: 1124.061\n",
      "Mean Absolute error: 33.527\n",
      "Variance score: 0.000\n",
      "\n",
      "Mike Piazza\n"
     ]
    },
    {
     "name": "stderr",
     "output_type": "stream",
     "text": [
      "/Users/StephanieBrito/anaconda3/lib/python3.7/site-packages/sklearn/model_selection/_search.py:841: DeprecationWarning: The default of the `iid` parameter will change from True to False in version 0.22 and will be removed in 0.24. This will change numeric results when test-set sizes are unequal.\n",
      "  DeprecationWarning)\n"
     ]
    },
    {
     "name": "stdout",
     "output_type": "stream",
     "text": [
      "Actual OPS_plus [104.4545]\n",
      "Predicted OPS_plus [104.85495827]\n",
      "Score: 0.251\n",
      "Mean squared error: 0.160\n",
      "Mean Absolute error: 0.400\n",
      "Variance score: 0.000\n",
      "\n",
      "Greg Myers\n"
     ]
    },
    {
     "name": "stderr",
     "output_type": "stream",
     "text": [
      "/Users/StephanieBrito/anaconda3/lib/python3.7/site-packages/sklearn/model_selection/_search.py:841: DeprecationWarning: The default of the `iid` parameter will change from True to False in version 0.22 and will be removed in 0.24. This will change numeric results when test-set sizes are unequal.\n",
      "  DeprecationWarning)\n"
     ]
    },
    {
     "name": "stdout",
     "output_type": "stream",
     "text": [
      "Actual OPS_plus [94.369]\n",
      "Predicted OPS_plus [86.03405]\n",
      "Score: -0.024\n",
      "Mean squared error: 69.471\n",
      "Mean Absolute error: 8.335\n",
      "Variance score: 0.000\n",
      "\n",
      "Keith Hernandez\n"
     ]
    },
    {
     "name": "stderr",
     "output_type": "stream",
     "text": [
      "/Users/StephanieBrito/anaconda3/lib/python3.7/site-packages/sklearn/model_selection/_search.py:841: DeprecationWarning: The default of the `iid` parameter will change from True to False in version 0.22 and will be removed in 0.24. This will change numeric results when test-set sizes are unequal.\n",
      "  DeprecationWarning)\n"
     ]
    },
    {
     "name": "stdout",
     "output_type": "stream",
     "text": [
      "Actual OPS_plus [119.6767]\n",
      "Predicted OPS_plus [131.40575]\n",
      "Score: 0.576\n",
      "Mean squared error: 137.571\n",
      "Mean Absolute error: 11.729\n",
      "Variance score: 0.000\n",
      "\n",
      "Chris Gomez\n"
     ]
    },
    {
     "name": "stderr",
     "output_type": "stream",
     "text": [
      "/Users/StephanieBrito/anaconda3/lib/python3.7/site-packages/sklearn/model_selection/_search.py:841: DeprecationWarning: The default of the `iid` parameter will change from True to False in version 0.22 and will be removed in 0.24. This will change numeric results when test-set sizes are unequal.\n",
      "  DeprecationWarning)\n"
     ]
    },
    {
     "name": "stdout",
     "output_type": "stream",
     "text": [
      "Actual OPS_plus [89.7981]\n",
      "Predicted OPS_plus [74.47107143]\n",
      "Score: 0.489\n",
      "Mean squared error: 234.918\n",
      "Mean Absolute error: 15.327\n",
      "Variance score: 0.000\n",
      "\n",
      "Jose Offerman\n"
     ]
    },
    {
     "name": "stderr",
     "output_type": "stream",
     "text": [
      "/Users/StephanieBrito/anaconda3/lib/python3.7/site-packages/sklearn/model_selection/_search.py:841: DeprecationWarning: The default of the `iid` parameter will change from True to False in version 0.22 and will be removed in 0.24. This will change numeric results when test-set sizes are unequal.\n",
      "  DeprecationWarning)\n"
     ]
    },
    {
     "name": "stdout",
     "output_type": "stream",
     "text": [
      "Actual OPS_plus [96.7165]\n",
      "Predicted OPS_plus [88.17525]\n",
      "Score: 0.034\n",
      "Mean squared error: 72.953\n",
      "Mean Absolute error: 8.541\n",
      "Variance score: 0.000\n",
      "\n",
      "Alex Gonzalez\n"
     ]
    },
    {
     "name": "stderr",
     "output_type": "stream",
     "text": [
      "/Users/StephanieBrito/anaconda3/lib/python3.7/site-packages/sklearn/model_selection/_search.py:841: DeprecationWarning: The default of the `iid` parameter will change from True to False in version 0.22 and will be removed in 0.24. This will change numeric results when test-set sizes are unequal.\n",
      "  DeprecationWarning)\n"
     ]
    },
    {
     "name": "stdout",
     "output_type": "stream",
     "text": [
      "Actual OPS_plus [90.5151]\n",
      "Predicted OPS_plus [58.47916413]\n",
      "Score: 0.196\n",
      "Mean squared error: 1026.301\n",
      "Mean Absolute error: 32.036\n",
      "Variance score: 0.000\n",
      "\n",
      "Fred McGriff\n"
     ]
    },
    {
     "name": "stderr",
     "output_type": "stream",
     "text": [
      "/Users/StephanieBrito/anaconda3/lib/python3.7/site-packages/sklearn/model_selection/_search.py:841: DeprecationWarning: The default of the `iid` parameter will change from True to False in version 0.22 and will be removed in 0.24. This will change numeric results when test-set sizes are unequal.\n",
      "  DeprecationWarning)\n"
     ]
    },
    {
     "name": "stdout",
     "output_type": "stream",
     "text": [
      "Actual OPS_plus [110.4685]\n",
      "Predicted OPS_plus [154.24100378]\n",
      "Score: 0.671\n",
      "Mean squared error: 1916.032\n",
      "Mean Absolute error: 43.773\n",
      "Variance score: 0.000\n",
      "\n",
      "Adam Dunn\n"
     ]
    },
    {
     "name": "stderr",
     "output_type": "stream",
     "text": [
      "/Users/StephanieBrito/anaconda3/lib/python3.7/site-packages/sklearn/model_selection/_search.py:841: DeprecationWarning: The default of the `iid` parameter will change from True to False in version 0.22 and will be removed in 0.24. This will change numeric results when test-set sizes are unequal.\n",
      "  DeprecationWarning)\n"
     ]
    },
    {
     "name": "stdout",
     "output_type": "stream",
     "text": [
      "Actual OPS_plus [120.8584]\n",
      "Predicted OPS_plus [128.35346667]\n",
      "Score: 0.387\n",
      "Mean squared error: 56.176\n",
      "Mean Absolute error: 7.495\n",
      "Variance score: 0.000\n",
      "\n",
      "Sandy Alomar\n"
     ]
    },
    {
     "name": "stderr",
     "output_type": "stream",
     "text": [
      "/Users/StephanieBrito/anaconda3/lib/python3.7/site-packages/sklearn/model_selection/_search.py:841: DeprecationWarning: The default of the `iid` parameter will change from True to False in version 0.22 and will be removed in 0.24. This will change numeric results when test-set sizes are unequal.\n",
      "  DeprecationWarning)\n"
     ]
    },
    {
     "name": "stdout",
     "output_type": "stream",
     "text": [
      "Actual OPS_plus [64.0379]\n",
      "Predicted OPS_plus [79.25102797]\n",
      "Score: 0.145\n",
      "Mean squared error: 231.439\n",
      "Mean Absolute error: 15.213\n",
      "Variance score: 0.000\n",
      "\n",
      "Alan Trammell\n"
     ]
    },
    {
     "name": "stderr",
     "output_type": "stream",
     "text": [
      "/Users/StephanieBrito/anaconda3/lib/python3.7/site-packages/sklearn/model_selection/_search.py:841: DeprecationWarning: The default of the `iid` parameter will change from True to False in version 0.22 and will be removed in 0.24. This will change numeric results when test-set sizes are unequal.\n",
      "  DeprecationWarning)\n"
     ]
    },
    {
     "name": "stdout",
     "output_type": "stream",
     "text": [
      "Actual OPS_plus [114.4831]\n",
      "Predicted OPS_plus [119.8097]\n",
      "Score: -0.133\n",
      "Mean squared error: 28.373\n",
      "Mean Absolute error: 5.327\n",
      "Variance score: 0.000\n",
      "\n",
      "Julio Franco\n"
     ]
    },
    {
     "name": "stderr",
     "output_type": "stream",
     "text": [
      "/Users/StephanieBrito/anaconda3/lib/python3.7/site-packages/sklearn/model_selection/_search.py:841: DeprecationWarning: The default of the `iid` parameter will change from True to False in version 0.22 and will be removed in 0.24. This will change numeric results when test-set sizes are unequal.\n",
      "  DeprecationWarning)\n"
     ]
    },
    {
     "name": "stdout",
     "output_type": "stream",
     "text": [
      "Actual OPS_plus [89.6836]\n",
      "Predicted OPS_plus [102.01602504]\n",
      "Score: 0.476\n",
      "Mean squared error: 152.089\n",
      "Mean Absolute error: 12.332\n",
      "Variance score: 0.000\n",
      "\n",
      "Matt Williams\n"
     ]
    },
    {
     "name": "stderr",
     "output_type": "stream",
     "text": [
      "/Users/StephanieBrito/anaconda3/lib/python3.7/site-packages/sklearn/model_selection/_search.py:841: DeprecationWarning: The default of the `iid` parameter will change from True to False in version 0.22 and will be removed in 0.24. This will change numeric results when test-set sizes are unequal.\n",
      "  DeprecationWarning)\n"
     ]
    },
    {
     "name": "stdout",
     "output_type": "stream",
     "text": [
      "Actual OPS_plus [92.0747]\n",
      "Predicted OPS_plus [72.93445061]\n",
      "Score: 0.603\n",
      "Mean squared error: 366.349\n",
      "Mean Absolute error: 19.140\n",
      "Variance score: 0.000\n",
      "\n",
      "Roberto Alomar\n"
     ]
    },
    {
     "name": "stderr",
     "output_type": "stream",
     "text": [
      "/Users/StephanieBrito/anaconda3/lib/python3.7/site-packages/sklearn/model_selection/_search.py:841: DeprecationWarning: The default of the `iid` parameter will change from True to False in version 0.22 and will be removed in 0.24. This will change numeric results when test-set sizes are unequal.\n",
      "  DeprecationWarning)\n"
     ]
    },
    {
     "name": "stdout",
     "output_type": "stream",
     "text": [
      "Actual OPS_plus [89.6548]\n",
      "Predicted OPS_plus [149.04657707]\n",
      "Score: 0.120\n",
      "Mean squared error: 3527.383\n",
      "Mean Absolute error: 59.392\n",
      "Variance score: 0.000\n",
      "\n",
      "Mike Stanley\n"
     ]
    },
    {
     "name": "stderr",
     "output_type": "stream",
     "text": [
      "/Users/StephanieBrito/anaconda3/lib/python3.7/site-packages/sklearn/model_selection/_search.py:841: DeprecationWarning: The default of the `iid` parameter will change from True to False in version 0.22 and will be removed in 0.24. This will change numeric results when test-set sizes are unequal.\n",
      "  DeprecationWarning)\n"
     ]
    },
    {
     "name": "stdout",
     "output_type": "stream",
     "text": [
      "Actual OPS_plus [115.2541]\n",
      "Predicted OPS_plus [104.52934725]\n",
      "Score: 0.928\n",
      "Mean squared error: 115.020\n",
      "Mean Absolute error: 10.725\n",
      "Variance score: 0.000\n",
      "\n",
      "Cliff Johnson\n"
     ]
    },
    {
     "name": "stderr",
     "output_type": "stream",
     "text": [
      "/Users/StephanieBrito/anaconda3/lib/python3.7/site-packages/sklearn/model_selection/_search.py:841: DeprecationWarning: The default of the `iid` parameter will change from True to False in version 0.22 and will be removed in 0.24. This will change numeric results when test-set sizes are unequal.\n",
      "  DeprecationWarning)\n"
     ]
    },
    {
     "name": "stdout",
     "output_type": "stream",
     "text": [
      "Actual OPS_plus [81.4883]\n",
      "Predicted OPS_plus [126.68421008]\n",
      "Score: 0.040\n",
      "Mean squared error: 2042.670\n",
      "Mean Absolute error: 45.196\n",
      "Variance score: 0.000\n",
      "\n",
      "Jose Vizcaino\n"
     ]
    },
    {
     "name": "stderr",
     "output_type": "stream",
     "text": [
      "/Users/StephanieBrito/anaconda3/lib/python3.7/site-packages/sklearn/model_selection/_search.py:841: DeprecationWarning: The default of the `iid` parameter will change from True to False in version 0.22 and will be removed in 0.24. This will change numeric results when test-set sizes are unequal.\n",
      "  DeprecationWarning)\n"
     ]
    },
    {
     "name": "stdout",
     "output_type": "stream",
     "text": [
      "Actual OPS_plus [89.675]\n",
      "Predicted OPS_plus [68.56452081]\n",
      "Score: 0.025\n",
      "Mean squared error: 445.652\n",
      "Mean Absolute error: 21.110\n",
      "Variance score: 0.000\n",
      "\n",
      "Ken Caminiti\n"
     ]
    },
    {
     "name": "stderr",
     "output_type": "stream",
     "text": [
      "/Users/StephanieBrito/anaconda3/lib/python3.7/site-packages/sklearn/model_selection/_search.py:841: DeprecationWarning: The default of the `iid` parameter will change from True to False in version 0.22 and will be removed in 0.24. This will change numeric results when test-set sizes are unequal.\n",
      "  DeprecationWarning)\n"
     ]
    },
    {
     "name": "stdout",
     "output_type": "stream",
     "text": [
      "Actual OPS_plus [74.2289]\n",
      "Predicted OPS_plus [143.38740035]\n",
      "Score: 0.483\n",
      "Mean squared error: 4782.898\n",
      "Mean Absolute error: 69.159\n",
      "Variance score: 0.000\n",
      "\n",
      "Frank White\n"
     ]
    },
    {
     "name": "stderr",
     "output_type": "stream",
     "text": [
      "/Users/StephanieBrito/anaconda3/lib/python3.7/site-packages/sklearn/model_selection/_search.py:841: DeprecationWarning: The default of the `iid` parameter will change from True to False in version 0.22 and will be removed in 0.24. This will change numeric results when test-set sizes are unequal.\n",
      "  DeprecationWarning)\n"
     ]
    },
    {
     "name": "stdout",
     "output_type": "stream",
     "text": [
      "Actual OPS_plus [79.607]\n",
      "Predicted OPS_plus [81.28194075]\n",
      "Score: 0.250\n",
      "Mean squared error: 2.805\n",
      "Mean Absolute error: 1.675\n",
      "Variance score: 0.000\n",
      "\n",
      "Gary Carter\n"
     ]
    },
    {
     "name": "stderr",
     "output_type": "stream",
     "text": [
      "/Users/StephanieBrito/anaconda3/lib/python3.7/site-packages/sklearn/model_selection/_search.py:841: DeprecationWarning: The default of the `iid` parameter will change from True to False in version 0.22 and will be removed in 0.24. This will change numeric results when test-set sizes are unequal.\n",
      "  DeprecationWarning)\n"
     ]
    },
    {
     "name": "stdout",
     "output_type": "stream",
     "text": [
      "Actual OPS_plus [50.8219]\n",
      "Predicted OPS_plus [103.33971755]\n",
      "Score: 0.320\n",
      "Mean squared error: 2758.121\n",
      "Mean Absolute error: 52.518\n",
      "Variance score: 0.000\n",
      "\n",
      "Frank Thomas\n"
     ]
    },
    {
     "name": "stderr",
     "output_type": "stream",
     "text": [
      "/Users/StephanieBrito/anaconda3/lib/python3.7/site-packages/sklearn/model_selection/_search.py:841: DeprecationWarning: The default of the `iid` parameter will change from True to False in version 0.22 and will be removed in 0.24. This will change numeric results when test-set sizes are unequal.\n",
      "  DeprecationWarning)\n"
     ]
    },
    {
     "name": "stdout",
     "output_type": "stream",
     "text": [
      "Actual OPS_plus [155.6554]\n",
      "Predicted OPS_plus [134.12005681]\n",
      "Score: 0.485\n",
      "Mean squared error: 463.771\n",
      "Mean Absolute error: 21.535\n",
      "Variance score: 0.000\n",
      "\n",
      "Todd Helton\n"
     ]
    },
    {
     "name": "stderr",
     "output_type": "stream",
     "text": [
      "/Users/StephanieBrito/anaconda3/lib/python3.7/site-packages/sklearn/model_selection/_search.py:841: DeprecationWarning: The default of the `iid` parameter will change from True to False in version 0.22 and will be removed in 0.24. This will change numeric results when test-set sizes are unequal.\n",
      "  DeprecationWarning)\n"
     ]
    },
    {
     "name": "stdout",
     "output_type": "stream",
     "text": [
      "Actual OPS_plus [116.9623]\n",
      "Predicted OPS_plus [75.60643224]\n",
      "Score: 0.725\n",
      "Mean squared error: 1710.308\n",
      "Mean Absolute error: 41.356\n",
      "Variance score: 0.000\n",
      "\n",
      "Rick Dempsey\n"
     ]
    },
    {
     "name": "stderr",
     "output_type": "stream",
     "text": [
      "/Users/StephanieBrito/anaconda3/lib/python3.7/site-packages/sklearn/model_selection/_search.py:841: DeprecationWarning: The default of the `iid` parameter will change from True to False in version 0.22 and will be removed in 0.24. This will change numeric results when test-set sizes are unequal.\n",
      "  DeprecationWarning)\n"
     ]
    },
    {
     "name": "stdout",
     "output_type": "stream",
     "text": [
      "Actual OPS_plus [80.4998]\n",
      "Predicted OPS_plus [88.93485]\n",
      "Score: 0.070\n",
      "Mean squared error: 71.150\n",
      "Mean Absolute error: 8.435\n",
      "Variance score: 0.000\n",
      "\n",
      "Jim Dwyer\n"
     ]
    },
    {
     "name": "stderr",
     "output_type": "stream",
     "text": [
      "/Users/StephanieBrito/anaconda3/lib/python3.7/site-packages/sklearn/model_selection/_search.py:841: DeprecationWarning: The default of the `iid` parameter will change from True to False in version 0.22 and will be removed in 0.24. This will change numeric results when test-set sizes are unequal.\n",
      "  DeprecationWarning)\n"
     ]
    },
    {
     "name": "stdout",
     "output_type": "stream",
     "text": [
      "Actual OPS_plus [159.5722]\n",
      "Predicted OPS_plus [122.11175177]\n",
      "Score: -0.021\n",
      "Mean squared error: 1403.285\n",
      "Mean Absolute error: 37.460\n",
      "Variance score: 0.000\n",
      "\n",
      "Sammy Sosa\n"
     ]
    },
    {
     "name": "stderr",
     "output_type": "stream",
     "text": [
      "/Users/StephanieBrito/anaconda3/lib/python3.7/site-packages/sklearn/model_selection/_search.py:841: DeprecationWarning: The default of the `iid` parameter will change from True to False in version 0.22 and will be removed in 0.24. This will change numeric results when test-set sizes are unequal.\n",
      "  DeprecationWarning)\n"
     ]
    },
    {
     "name": "stdout",
     "output_type": "stream",
     "text": [
      "Actual OPS_plus [160.0321]\n",
      "Predicted OPS_plus [176.77660237]\n",
      "Score: 0.659\n",
      "Mean squared error: 280.378\n",
      "Mean Absolute error: 16.745\n",
      "Variance score: 0.000\n",
      "\n",
      "Dave Winfield\n"
     ]
    },
    {
     "name": "stderr",
     "output_type": "stream",
     "text": [
      "/Users/StephanieBrito/anaconda3/lib/python3.7/site-packages/sklearn/model_selection/_search.py:841: DeprecationWarning: The default of the `iid` parameter will change from True to False in version 0.22 and will be removed in 0.24. This will change numeric results when test-set sizes are unequal.\n",
      "  DeprecationWarning)\n"
     ]
    },
    {
     "name": "stdout",
     "output_type": "stream",
     "text": [
      "Actual OPS_plus [129.343]\n",
      "Predicted OPS_plus [140.78]\n",
      "Score: -0.075\n",
      "Mean squared error: 130.805\n",
      "Mean Absolute error: 11.437\n",
      "Variance score: 0.000\n",
      "\n",
      "Glenallen Hill\n"
     ]
    },
    {
     "name": "stderr",
     "output_type": "stream",
     "text": [
      "/Users/StephanieBrito/anaconda3/lib/python3.7/site-packages/sklearn/model_selection/_search.py:841: DeprecationWarning: The default of the `iid` parameter will change from True to False in version 0.22 and will be removed in 0.24. This will change numeric results when test-set sizes are unequal.\n",
      "  DeprecationWarning)\n"
     ]
    },
    {
     "name": "stdout",
     "output_type": "stream",
     "text": [
      "Actual OPS_plus [99.6575]\n",
      "Predicted OPS_plus [137.58150058]\n",
      "Score: 0.049\n",
      "Mean squared error: 1438.230\n",
      "Mean Absolute error: 37.924\n",
      "Variance score: 0.000\n",
      "\n",
      "Joe Carter\n"
     ]
    },
    {
     "name": "stderr",
     "output_type": "stream",
     "text": [
      "/Users/StephanieBrito/anaconda3/lib/python3.7/site-packages/sklearn/model_selection/_search.py:841: DeprecationWarning: The default of the `iid` parameter will change from True to False in version 0.22 and will be removed in 0.24. This will change numeric results when test-set sizes are unequal.\n",
      "  DeprecationWarning)\n"
     ]
    },
    {
     "name": "stdout",
     "output_type": "stream",
     "text": [
      "Actual OPS_plus [77.1749]\n",
      "Predicted OPS_plus [98.15046109]\n",
      "Score: 0.524\n",
      "Mean squared error: 439.974\n",
      "Mean Absolute error: 20.976\n",
      "Variance score: 0.000\n",
      "\n",
      "Johnny Damon\n"
     ]
    },
    {
     "name": "stderr",
     "output_type": "stream",
     "text": [
      "/Users/StephanieBrito/anaconda3/lib/python3.7/site-packages/sklearn/model_selection/_search.py:841: DeprecationWarning: The default of the `iid` parameter will change from True to False in version 0.22 and will be removed in 0.24. This will change numeric results when test-set sizes are unequal.\n",
      "  DeprecationWarning)\n"
     ]
    },
    {
     "name": "stdout",
     "output_type": "stream",
     "text": [
      "Actual OPS_plus [118.1511]\n",
      "Predicted OPS_plus [116.1374502]\n",
      "Score: 0.198\n",
      "Mean squared error: 4.055\n",
      "Mean Absolute error: 2.014\n",
      "Variance score: 0.000\n",
      "\n",
      "Tony Fernandez\n"
     ]
    },
    {
     "name": "stderr",
     "output_type": "stream",
     "text": [
      "/Users/StephanieBrito/anaconda3/lib/python3.7/site-packages/sklearn/model_selection/_search.py:841: DeprecationWarning: The default of the `iid` parameter will change from True to False in version 0.22 and will be removed in 0.24. This will change numeric results when test-set sizes are unequal.\n",
      "  DeprecationWarning)\n"
     ]
    },
    {
     "name": "stdout",
     "output_type": "stream",
     "text": [
      "Actual OPS_plus [120.7032]\n",
      "Predicted OPS_plus [97.78395556]\n",
      "Score: 0.733\n",
      "Mean squared error: 525.292\n",
      "Mean Absolute error: 22.919\n",
      "Variance score: 0.000\n",
      "\n",
      "Cal Ripken Jr.\n"
     ]
    },
    {
     "name": "stderr",
     "output_type": "stream",
     "text": [
      "/Users/StephanieBrito/anaconda3/lib/python3.7/site-packages/sklearn/model_selection/_search.py:841: DeprecationWarning: The default of the `iid` parameter will change from True to False in version 0.22 and will be removed in 0.24. This will change numeric results when test-set sizes are unequal.\n",
      "  DeprecationWarning)\n"
     ]
    },
    {
     "name": "stdout",
     "output_type": "stream",
     "text": [
      "Actual OPS_plus [101.8935]\n",
      "Predicted OPS_plus [87.76054066]\n",
      "Score: 0.187\n",
      "Mean squared error: 199.741\n",
      "Mean Absolute error: 14.133\n",
      "Variance score: 0.000\n",
      "\n",
      "Marquis Grissom\n"
     ]
    },
    {
     "name": "stderr",
     "output_type": "stream",
     "text": [
      "/Users/StephanieBrito/anaconda3/lib/python3.7/site-packages/sklearn/model_selection/_search.py:841: DeprecationWarning: The default of the `iid` parameter will change from True to False in version 0.22 and will be removed in 0.24. This will change numeric results when test-set sizes are unequal.\n",
      "  DeprecationWarning)\n"
     ]
    },
    {
     "name": "stdout",
     "output_type": "stream",
     "text": [
      "Actual OPS_plus [104.1441]\n",
      "Predicted OPS_plus [92.83135]\n",
      "Score: -0.001\n",
      "Mean squared error: 127.978\n",
      "Mean Absolute error: 11.313\n",
      "Variance score: 0.000\n",
      "\n",
      "Lee Mazzilli\n"
     ]
    },
    {
     "name": "stderr",
     "output_type": "stream",
     "text": [
      "/Users/StephanieBrito/anaconda3/lib/python3.7/site-packages/sklearn/model_selection/_search.py:841: DeprecationWarning: The default of the `iid` parameter will change from True to False in version 0.22 and will be removed in 0.24. This will change numeric results when test-set sizes are unequal.\n",
      "  DeprecationWarning)\n"
     ]
    },
    {
     "name": "stdout",
     "output_type": "stream",
     "text": [
      "Actual OPS_plus [17.0636]\n",
      "Predicted OPS_plus [110.1843]\n",
      "Score: -0.001\n",
      "Mean squared error: 8671.465\n",
      "Mean Absolute error: 93.121\n",
      "Variance score: 0.000\n",
      "\n",
      "Wally Joyner\n"
     ]
    },
    {
     "name": "stderr",
     "output_type": "stream",
     "text": [
      "/Users/StephanieBrito/anaconda3/lib/python3.7/site-packages/sklearn/model_selection/_search.py:841: DeprecationWarning: The default of the `iid` parameter will change from True to False in version 0.22 and will be removed in 0.24. This will change numeric results when test-set sizes are unequal.\n",
      "  DeprecationWarning)\n"
     ]
    },
    {
     "name": "stdout",
     "output_type": "stream",
     "text": [
      "Actual OPS_plus [94.1324]\n",
      "Predicted OPS_plus [118.16414857]\n",
      "Score: 0.003\n",
      "Mean squared error: 577.525\n",
      "Mean Absolute error: 24.032\n",
      "Variance score: 0.000\n",
      "\n",
      "Derrek Lee\n"
     ]
    },
    {
     "name": "stderr",
     "output_type": "stream",
     "text": [
      "/Users/StephanieBrito/anaconda3/lib/python3.7/site-packages/sklearn/model_selection/_search.py:841: DeprecationWarning: The default of the `iid` parameter will change from True to False in version 0.22 and will be removed in 0.24. This will change numeric results when test-set sizes are unequal.\n",
      "  DeprecationWarning)\n"
     ]
    },
    {
     "name": "stdout",
     "output_type": "stream",
     "text": [
      "Actual OPS_plus [98.3809]\n",
      "Predicted OPS_plus [130.90697587]\n",
      "Score: 0.288\n",
      "Mean squared error: 1057.946\n",
      "Mean Absolute error: 32.526\n",
      "Variance score: 0.000\n",
      "\n",
      "Ozzie Smith\n"
     ]
    },
    {
     "name": "stderr",
     "output_type": "stream",
     "text": [
      "/Users/StephanieBrito/anaconda3/lib/python3.7/site-packages/sklearn/model_selection/_search.py:841: DeprecationWarning: The default of the `iid` parameter will change from True to False in version 0.22 and will be removed in 0.24. This will change numeric results when test-set sizes are unequal.\n",
      "  DeprecationWarning)\n"
     ]
    },
    {
     "name": "stdout",
     "output_type": "stream",
     "text": [
      "Actual OPS_plus [105.2098]\n",
      "Predicted OPS_plus [118.39947466]\n",
      "Score: 0.614\n",
      "Mean squared error: 173.968\n",
      "Mean Absolute error: 13.190\n",
      "Variance score: 0.000\n",
      "\n",
      "A.J. Pierzynski\n"
     ]
    },
    {
     "name": "stderr",
     "output_type": "stream",
     "text": [
      "/Users/StephanieBrito/anaconda3/lib/python3.7/site-packages/sklearn/model_selection/_search.py:841: DeprecationWarning: The default of the `iid` parameter will change from True to False in version 0.22 and will be removed in 0.24. This will change numeric results when test-set sizes are unequal.\n",
      "  DeprecationWarning)\n"
     ]
    },
    {
     "name": "stdout",
     "output_type": "stream",
     "text": [
      "Actual OPS_plus [76.1757]\n",
      "Predicted OPS_plus [94.44486761]\n",
      "Score: 0.259\n",
      "Mean squared error: 333.762\n",
      "Mean Absolute error: 18.269\n",
      "Variance score: 0.000\n",
      "\n",
      "Andres Galarraga\n"
     ]
    },
    {
     "name": "stderr",
     "output_type": "stream",
     "text": [
      "/Users/StephanieBrito/anaconda3/lib/python3.7/site-packages/sklearn/model_selection/_search.py:841: DeprecationWarning: The default of the `iid` parameter will change from True to False in version 0.22 and will be removed in 0.24. This will change numeric results when test-set sizes are unequal.\n",
      "  DeprecationWarning)\n"
     ]
    },
    {
     "name": "stdout",
     "output_type": "stream",
     "text": [
      "Actual OPS_plus [122.9306]\n",
      "Predicted OPS_plus [134.82547065]\n",
      "Score: 0.179\n",
      "Mean squared error: 141.488\n",
      "Mean Absolute error: 11.895\n",
      "Variance score: 0.000\n",
      "\n",
      "Dave Roberts\n"
     ]
    },
    {
     "name": "stderr",
     "output_type": "stream",
     "text": [
      "/Users/StephanieBrito/anaconda3/lib/python3.7/site-packages/sklearn/model_selection/_search.py:841: DeprecationWarning: The default of the `iid` parameter will change from True to False in version 0.22 and will be removed in 0.24. This will change numeric results when test-set sizes are unequal.\n",
      "  DeprecationWarning)\n"
     ]
    },
    {
     "name": "stdout",
     "output_type": "stream",
     "text": [
      "Actual OPS_plus [101.423]\n",
      "Predicted OPS_plus [94.22627137]\n",
      "Score: 0.056\n",
      "Mean squared error: 51.793\n",
      "Mean Absolute error: 7.197\n",
      "Variance score: 0.000\n",
      "\n",
      "Barry Larkin\n"
     ]
    },
    {
     "name": "stderr",
     "output_type": "stream",
     "text": [
      "/Users/StephanieBrito/anaconda3/lib/python3.7/site-packages/sklearn/model_selection/_search.py:841: DeprecationWarning: The default of the `iid` parameter will change from True to False in version 0.22 and will be removed in 0.24. This will change numeric results when test-set sizes are unequal.\n",
      "  DeprecationWarning)\n"
     ]
    },
    {
     "name": "stdout",
     "output_type": "stream",
     "text": [
      "Actual OPS_plus [118.1676]\n",
      "Predicted OPS_plus [132.5893168]\n",
      "Score: 0.179\n",
      "Mean squared error: 207.986\n",
      "Mean Absolute error: 14.422\n",
      "Variance score: 0.000\n",
      "\n",
      "Ivan Rodriguez\n"
     ]
    },
    {
     "name": "stderr",
     "output_type": "stream",
     "text": [
      "/Users/StephanieBrito/anaconda3/lib/python3.7/site-packages/sklearn/model_selection/_search.py:841: DeprecationWarning: The default of the `iid` parameter will change from True to False in version 0.22 and will be removed in 0.24. This will change numeric results when test-set sizes are unequal.\n",
      "  DeprecationWarning)\n"
     ]
    },
    {
     "name": "stdout",
     "output_type": "stream",
     "text": [
      "Actual OPS_plus [94.6839]\n",
      "Predicted OPS_plus [126.29226639]\n",
      "Score: 0.703\n",
      "Mean squared error: 999.089\n",
      "Mean Absolute error: 31.608\n",
      "Variance score: 0.000\n",
      "\n",
      "George Brett\n"
     ]
    },
    {
     "name": "stderr",
     "output_type": "stream",
     "text": [
      "/Users/StephanieBrito/anaconda3/lib/python3.7/site-packages/sklearn/model_selection/_search.py:841: DeprecationWarning: The default of the `iid` parameter will change from True to False in version 0.22 and will be removed in 0.24. This will change numeric results when test-set sizes are unequal.\n",
      "  DeprecationWarning)\n"
     ]
    },
    {
     "name": "stdout",
     "output_type": "stream",
     "text": [
      "Actual OPS_plus [123.3825]\n",
      "Predicted OPS_plus [142.9978526]\n",
      "Score: 0.007\n",
      "Mean squared error: 384.762\n",
      "Mean Absolute error: 19.615\n",
      "Variance score: 0.000\n",
      "\n",
      "Tony Phillips\n"
     ]
    },
    {
     "name": "stderr",
     "output_type": "stream",
     "text": [
      "/Users/StephanieBrito/anaconda3/lib/python3.7/site-packages/sklearn/model_selection/_search.py:841: DeprecationWarning: The default of the `iid` parameter will change from True to False in version 0.22 and will be removed in 0.24. This will change numeric results when test-set sizes are unequal.\n",
      "  DeprecationWarning)\n"
     ]
    },
    {
     "name": "stdout",
     "output_type": "stream",
     "text": [
      "Actual OPS_plus [109.406]\n",
      "Predicted OPS_plus [117.6718913]\n",
      "Score: 0.889\n",
      "Mean squared error: 68.325\n",
      "Mean Absolute error: 8.266\n",
      "Variance score: 0.000\n",
      "\n",
      "Chipper Jones\n"
     ]
    },
    {
     "name": "stderr",
     "output_type": "stream",
     "text": [
      "/Users/StephanieBrito/anaconda3/lib/python3.7/site-packages/sklearn/model_selection/_search.py:841: DeprecationWarning: The default of the `iid` parameter will change from True to False in version 0.22 and will be removed in 0.24. This will change numeric results when test-set sizes are unequal.\n",
      "  DeprecationWarning)\n"
     ]
    },
    {
     "name": "stdout",
     "output_type": "stream",
     "text": [
      "Actual OPS_plus [117.2497]\n",
      "Predicted OPS_plus [161.28566591]\n",
      "Score: 0.289\n",
      "Mean squared error: 1939.166\n",
      "Mean Absolute error: 44.036\n",
      "Variance score: 0.000\n",
      "\n",
      "Phil Nevin\n"
     ]
    },
    {
     "name": "stderr",
     "output_type": "stream",
     "text": [
      "/Users/StephanieBrito/anaconda3/lib/python3.7/site-packages/sklearn/model_selection/_search.py:841: DeprecationWarning: The default of the `iid` parameter will change from True to False in version 0.22 and will be removed in 0.24. This will change numeric results when test-set sizes are unequal.\n",
      "  DeprecationWarning)\n"
     ]
    },
    {
     "name": "stdout",
     "output_type": "stream",
     "text": [
      "Actual OPS_plus [66.5071]\n",
      "Predicted OPS_plus [69.14214265]\n",
      "Score: 0.352\n",
      "Mean squared error: 6.943\n",
      "Mean Absolute error: 2.635\n",
      "Variance score: 0.000\n",
      "\n",
      "Ken Griffey\n"
     ]
    },
    {
     "name": "stderr",
     "output_type": "stream",
     "text": [
      "/Users/StephanieBrito/anaconda3/lib/python3.7/site-packages/sklearn/model_selection/_search.py:841: DeprecationWarning: The default of the `iid` parameter will change from True to False in version 0.22 and will be removed in 0.24. This will change numeric results when test-set sizes are unequal.\n",
      "  DeprecationWarning)\n"
     ]
    },
    {
     "name": "stdout",
     "output_type": "stream",
     "text": [
      "Actual OPS_plus [74.1701]\n",
      "Predicted OPS_plus [113.50149104]\n",
      "Score: 0.130\n",
      "Mean squared error: 1546.958\n",
      "Mean Absolute error: 39.331\n",
      "Variance score: 0.000\n",
      "\n",
      "Jim Thome\n"
     ]
    },
    {
     "name": "stderr",
     "output_type": "stream",
     "text": [
      "/Users/StephanieBrito/anaconda3/lib/python3.7/site-packages/sklearn/model_selection/_search.py:841: DeprecationWarning: The default of the `iid` parameter will change from True to False in version 0.22 and will be removed in 0.24. This will change numeric results when test-set sizes are unequal.\n",
      "  DeprecationWarning)\n"
     ]
    },
    {
     "name": "stdout",
     "output_type": "stream",
     "text": [
      "Actual OPS_plus [84.6784]\n",
      "Predicted OPS_plus [147.6693]\n",
      "Score: 0.309\n",
      "Mean squared error: 3967.853\n",
      "Mean Absolute error: 62.991\n",
      "Variance score: 0.000\n",
      "\n",
      "Gregg Zaun\n"
     ]
    },
    {
     "name": "stderr",
     "output_type": "stream",
     "text": [
      "/Users/StephanieBrito/anaconda3/lib/python3.7/site-packages/sklearn/model_selection/_search.py:841: DeprecationWarning: The default of the `iid` parameter will change from True to False in version 0.22 and will be removed in 0.24. This will change numeric results when test-set sizes are unequal.\n",
      "  DeprecationWarning)\n"
     ]
    },
    {
     "name": "stdout",
     "output_type": "stream",
     "text": [
      "Actual OPS_plus [88.9823]\n",
      "Predicted OPS_plus [92.2726]\n",
      "Score: -0.017\n",
      "Mean squared error: 10.826\n",
      "Mean Absolute error: 3.290\n",
      "Variance score: 0.000\n",
      "\n",
      "Jason Kendall\n"
     ]
    },
    {
     "name": "stderr",
     "output_type": "stream",
     "text": [
      "/Users/StephanieBrito/anaconda3/lib/python3.7/site-packages/sklearn/model_selection/_search.py:841: DeprecationWarning: The default of the `iid` parameter will change from True to False in version 0.22 and will be removed in 0.24. This will change numeric results when test-set sizes are unequal.\n",
      "  DeprecationWarning)\n"
     ]
    },
    {
     "name": "stdout",
     "output_type": "stream",
     "text": [
      "Actual OPS_plus [71.3554]\n",
      "Predicted OPS_plus [74.57183124]\n",
      "Score: 0.476\n",
      "Mean squared error: 10.345\n",
      "Mean Absolute error: 3.216\n",
      "Variance score: 0.000\n",
      "\n",
      "Mark Kotsay\n"
     ]
    },
    {
     "name": "stderr",
     "output_type": "stream",
     "text": [
      "/Users/StephanieBrito/anaconda3/lib/python3.7/site-packages/sklearn/model_selection/_search.py:841: DeprecationWarning: The default of the `iid` parameter will change from True to False in version 0.22 and will be removed in 0.24. This will change numeric results when test-set sizes are unequal.\n",
      "  DeprecationWarning)\n"
     ]
    },
    {
     "name": "stdout",
     "output_type": "stream",
     "text": [
      "Actual OPS_plus [100.7803]\n",
      "Predicted OPS_plus [53.1589986]\n",
      "Score: 0.489\n",
      "Mean squared error: 2267.788\n",
      "Mean Absolute error: 47.621\n",
      "Variance score: 0.000\n",
      "\n",
      "Gary Matthews\n"
     ]
    },
    {
     "name": "stderr",
     "output_type": "stream",
     "text": [
      "/Users/StephanieBrito/anaconda3/lib/python3.7/site-packages/sklearn/model_selection/_search.py:841: DeprecationWarning: The default of the `iid` parameter will change from True to False in version 0.22 and will be removed in 0.24. This will change numeric results when test-set sizes are unequal.\n",
      "  DeprecationWarning)\n"
     ]
    },
    {
     "name": "stdout",
     "output_type": "stream",
     "text": [
      "Actual OPS_plus [80.7954]\n",
      "Predicted OPS_plus [98.48548696]\n",
      "Score: 0.241\n",
      "Mean squared error: 312.939\n",
      "Mean Absolute error: 17.690\n",
      "Variance score: 0.000\n",
      "\n",
      "Bobby Bonilla\n"
     ]
    },
    {
     "name": "stderr",
     "output_type": "stream",
     "text": [
      "/Users/StephanieBrito/anaconda3/lib/python3.7/site-packages/sklearn/model_selection/_search.py:841: DeprecationWarning: The default of the `iid` parameter will change from True to False in version 0.22 and will be removed in 0.24. This will change numeric results when test-set sizes are unequal.\n",
      "  DeprecationWarning)\n"
     ]
    },
    {
     "name": "stdout",
     "output_type": "stream",
     "text": [
      "Actual OPS_plus [116.8764]\n",
      "Predicted OPS_plus [123.77116933]\n",
      "Score: 0.460\n",
      "Mean squared error: 47.538\n",
      "Mean Absolute error: 6.895\n",
      "Variance score: 0.000\n",
      "\n",
      "Chili Davis\n"
     ]
    },
    {
     "name": "stderr",
     "output_type": "stream",
     "text": [
      "/Users/StephanieBrito/anaconda3/lib/python3.7/site-packages/sklearn/model_selection/_search.py:841: DeprecationWarning: The default of the `iid` parameter will change from True to False in version 0.22 and will be removed in 0.24. This will change numeric results when test-set sizes are unequal.\n",
      "  DeprecationWarning)\n"
     ]
    },
    {
     "name": "stdout",
     "output_type": "stream",
     "text": [
      "Actual OPS_plus [123.9392]\n",
      "Predicted OPS_plus [150.83064238]\n",
      "Score: 0.326\n",
      "Mean squared error: 723.150\n",
      "Mean Absolute error: 26.891\n",
      "Variance score: 0.000\n",
      "\n",
      "Paul Konerko\n"
     ]
    },
    {
     "name": "stderr",
     "output_type": "stream",
     "text": [
      "/Users/StephanieBrito/anaconda3/lib/python3.7/site-packages/sklearn/model_selection/_search.py:841: DeprecationWarning: The default of the `iid` parameter will change from True to False in version 0.22 and will be removed in 0.24. This will change numeric results when test-set sizes are unequal.\n",
      "  DeprecationWarning)\n"
     ]
    },
    {
     "name": "stdout",
     "output_type": "stream",
     "text": [
      "Actual OPS_plus [140.707]\n",
      "Predicted OPS_plus [108.82290811]\n",
      "Score: 0.367\n",
      "Mean squared error: 1016.595\n",
      "Mean Absolute error: 31.884\n",
      "Variance score: 0.000\n",
      "\n",
      "Todd Zeile\n"
     ]
    },
    {
     "name": "stderr",
     "output_type": "stream",
     "text": [
      "/Users/StephanieBrito/anaconda3/lib/python3.7/site-packages/sklearn/model_selection/_search.py:841: DeprecationWarning: The default of the `iid` parameter will change from True to False in version 0.22 and will be removed in 0.24. This will change numeric results when test-set sizes are unequal.\n",
      "  DeprecationWarning)\n"
     ]
    },
    {
     "name": "stdout",
     "output_type": "stream",
     "text": [
      "Actual OPS_plus [109.3095]\n",
      "Predicted OPS_plus [105.78089436]\n",
      "Score: -0.008\n",
      "Mean squared error: 12.451\n",
      "Mean Absolute error: 3.529\n",
      "Variance score: 0.000\n",
      "\n",
      "Tony Clark\n"
     ]
    },
    {
     "name": "stderr",
     "output_type": "stream",
     "text": [
      "/Users/StephanieBrito/anaconda3/lib/python3.7/site-packages/sklearn/model_selection/_search.py:841: DeprecationWarning: The default of the `iid` parameter will change from True to False in version 0.22 and will be removed in 0.24. This will change numeric results when test-set sizes are unequal.\n",
      "  DeprecationWarning)\n"
     ]
    },
    {
     "name": "stdout",
     "output_type": "stream",
     "text": [
      "Actual OPS_plus [93.0625]\n",
      "Predicted OPS_plus [95.87961106]\n",
      "Score: 0.178\n",
      "Mean squared error: 7.936\n",
      "Mean Absolute error: 2.817\n",
      "Variance score: 0.000\n",
      "\n",
      "Jose Hernandez\n"
     ]
    },
    {
     "name": "stderr",
     "output_type": "stream",
     "text": [
      "/Users/StephanieBrito/anaconda3/lib/python3.7/site-packages/sklearn/model_selection/_search.py:841: DeprecationWarning: The default of the `iid` parameter will change from True to False in version 0.22 and will be removed in 0.24. This will change numeric results when test-set sizes are unequal.\n",
      "  DeprecationWarning)\n"
     ]
    },
    {
     "name": "stdout",
     "output_type": "stream",
     "text": [
      "Actual OPS_plus [137.0422]\n",
      "Predicted OPS_plus [48.92963911]\n",
      "Score: 0.447\n",
      "Mean squared error: 7763.823\n",
      "Mean Absolute error: 88.113\n",
      "Variance score: 0.000\n",
      "\n",
      "Ken Oberkfell\n"
     ]
    },
    {
     "name": "stderr",
     "output_type": "stream",
     "text": [
      "/Users/StephanieBrito/anaconda3/lib/python3.7/site-packages/sklearn/model_selection/_search.py:841: DeprecationWarning: The default of the `iid` parameter will change from True to False in version 0.22 and will be removed in 0.24. This will change numeric results when test-set sizes are unequal.\n",
      "  DeprecationWarning)\n"
     ]
    },
    {
     "name": "stdout",
     "output_type": "stream",
     "text": [
      "Actual OPS_plus [57.6554]\n",
      "Predicted OPS_plus [99.6103118]\n",
      "Score: -0.051\n",
      "Mean squared error: 1760.215\n",
      "Mean Absolute error: 41.955\n",
      "Variance score: 0.000\n",
      "\n",
      "Dwight Evans\n"
     ]
    },
    {
     "name": "stderr",
     "output_type": "stream",
     "text": [
      "/Users/StephanieBrito/anaconda3/lib/python3.7/site-packages/sklearn/model_selection/_search.py:841: DeprecationWarning: The default of the `iid` parameter will change from True to False in version 0.22 and will be removed in 0.24. This will change numeric results when test-set sizes are unequal.\n",
      "  DeprecationWarning)\n"
     ]
    },
    {
     "name": "stdout",
     "output_type": "stream",
     "text": [
      "Actual OPS_plus [135.9932]\n",
      "Predicted OPS_plus [131.45660667]\n",
      "Score: 0.374\n",
      "Mean squared error: 20.581\n",
      "Mean Absolute error: 4.537\n",
      "Variance score: 0.000\n",
      "\n",
      "Rickey Henderson\n"
     ]
    },
    {
     "name": "stderr",
     "output_type": "stream",
     "text": [
      "/Users/StephanieBrito/anaconda3/lib/python3.7/site-packages/sklearn/model_selection/_search.py:841: DeprecationWarning: The default of the `iid` parameter will change from True to False in version 0.22 and will be removed in 0.24. This will change numeric results when test-set sizes are unequal.\n",
      "  DeprecationWarning)\n"
     ]
    },
    {
     "name": "stdout",
     "output_type": "stream",
     "text": [
      "Actual OPS_plus [155.0572]\n",
      "Predicted OPS_plus [137.78825]\n",
      "Score: 0.485\n",
      "Mean squared error: 298.217\n",
      "Mean Absolute error: 17.269\n",
      "Variance score: 0.000\n",
      "\n",
      "Curtis Granderson\n"
     ]
    },
    {
     "name": "stderr",
     "output_type": "stream",
     "text": [
      "/Users/StephanieBrito/anaconda3/lib/python3.7/site-packages/sklearn/model_selection/_search.py:841: DeprecationWarning: The default of the `iid` parameter will change from True to False in version 0.22 and will be removed in 0.24. This will change numeric results when test-set sizes are unequal.\n",
      "  DeprecationWarning)\n"
     ]
    },
    {
     "name": "stdout",
     "output_type": "stream",
     "text": [
      "Actual OPS_plus [127.9738]\n",
      "Predicted OPS_plus [114.35283579]\n",
      "Score: -0.016\n",
      "Mean squared error: 185.531\n",
      "Mean Absolute error: 13.621\n",
      "Variance score: 0.000\n",
      "\n",
      "Omar Vizquel\n"
     ]
    },
    {
     "name": "stderr",
     "output_type": "stream",
     "text": [
      "/Users/StephanieBrito/anaconda3/lib/python3.7/site-packages/sklearn/model_selection/_search.py:841: DeprecationWarning: The default of the `iid` parameter will change from True to False in version 0.22 and will be removed in 0.24. This will change numeric results when test-set sizes are unequal.\n",
      "  DeprecationWarning)\n"
     ]
    },
    {
     "name": "stdout",
     "output_type": "stream",
     "text": [
      "Actual OPS_plus [77.6276]\n",
      "Predicted OPS_plus [98.57376441]\n",
      "Score: 0.466\n",
      "Mean squared error: 438.742\n",
      "Mean Absolute error: 20.946\n",
      "Variance score: 0.000\n",
      "\n",
      "Randy Velarde\n"
     ]
    },
    {
     "name": "stderr",
     "output_type": "stream",
     "text": [
      "/Users/StephanieBrito/anaconda3/lib/python3.7/site-packages/sklearn/model_selection/_search.py:841: DeprecationWarning: The default of the `iid` parameter will change from True to False in version 0.22 and will be removed in 0.24. This will change numeric results when test-set sizes are unequal.\n",
      "  DeprecationWarning)\n"
     ]
    },
    {
     "name": "stdout",
     "output_type": "stream",
     "text": [
      "Actual OPS_plus [113.0839]\n",
      "Predicted OPS_plus [82.44609771]\n",
      "Score: 0.048\n",
      "Mean squared error: 938.675\n",
      "Mean Absolute error: 30.638\n",
      "Variance score: 0.000\n",
      "\n",
      "Matt Holliday\n"
     ]
    },
    {
     "name": "stderr",
     "output_type": "stream",
     "text": [
      "/Users/StephanieBrito/anaconda3/lib/python3.7/site-packages/sklearn/model_selection/_search.py:841: DeprecationWarning: The default of the `iid` parameter will change from True to False in version 0.22 and will be removed in 0.24. This will change numeric results when test-set sizes are unequal.\n",
      "  DeprecationWarning)\n"
     ]
    },
    {
     "name": "stdout",
     "output_type": "stream",
     "text": [
      "Actual OPS_plus [94.6044]\n",
      "Predicted OPS_plus [99.0770268]\n",
      "Score: 0.645\n",
      "Mean squared error: 20.004\n",
      "Mean Absolute error: 4.473\n",
      "Variance score: 0.000\n",
      "\n",
      "Miguel Tejada\n"
     ]
    },
    {
     "name": "stderr",
     "output_type": "stream",
     "text": [
      "/Users/StephanieBrito/anaconda3/lib/python3.7/site-packages/sklearn/model_selection/_search.py:841: DeprecationWarning: The default of the `iid` parameter will change from True to False in version 0.22 and will be removed in 0.24. This will change numeric results when test-set sizes are unequal.\n",
      "  DeprecationWarning)\n"
     ]
    },
    {
     "name": "stdout",
     "output_type": "stream",
     "text": [
      "Actual OPS_plus [103.5915]\n",
      "Predicted OPS_plus [71.7096292]\n",
      "Score: 0.854\n",
      "Mean squared error: 1016.454\n",
      "Mean Absolute error: 31.882\n",
      "Variance score: 0.000\n",
      "\n",
      "Tony Pena\n"
     ]
    },
    {
     "name": "stderr",
     "output_type": "stream",
     "text": [
      "/Users/StephanieBrito/anaconda3/lib/python3.7/site-packages/sklearn/model_selection/_search.py:841: DeprecationWarning: The default of the `iid` parameter will change from True to False in version 0.22 and will be removed in 0.24. This will change numeric results when test-set sizes are unequal.\n",
      "  DeprecationWarning)\n"
     ]
    },
    {
     "name": "stdout",
     "output_type": "stream",
     "text": [
      "Actual OPS_plus [75.2205]\n",
      "Predicted OPS_plus [68.41657712]\n",
      "Score: 0.301\n",
      "Mean squared error: 46.293\n",
      "Mean Absolute error: 6.804\n",
      "Variance score: 0.000\n",
      "\n",
      "Willie McGee\n"
     ]
    },
    {
     "name": "stderr",
     "output_type": "stream",
     "text": [
      "/Users/StephanieBrito/anaconda3/lib/python3.7/site-packages/sklearn/model_selection/_search.py:841: DeprecationWarning: The default of the `iid` parameter will change from True to False in version 0.22 and will be removed in 0.24. This will change numeric results when test-set sizes are unequal.\n",
      "  DeprecationWarning)\n"
     ]
    },
    {
     "name": "stdout",
     "output_type": "stream",
     "text": [
      "Actual OPS_plus [81.8733]\n",
      "Predicted OPS_plus [102.40777857]\n",
      "Score: 1.000\n",
      "Mean squared error: 421.665\n",
      "Mean Absolute error: 20.534\n",
      "Variance score: 0.000\n",
      "\n",
      "Fred Lynn\n"
     ]
    },
    {
     "name": "stderr",
     "output_type": "stream",
     "text": [
      "/Users/StephanieBrito/anaconda3/lib/python3.7/site-packages/sklearn/model_selection/_search.py:841: DeprecationWarning: The default of the `iid` parameter will change from True to False in version 0.22 and will be removed in 0.24. This will change numeric results when test-set sizes are unequal.\n",
      "  DeprecationWarning)\n"
     ]
    },
    {
     "name": "stdout",
     "output_type": "stream",
     "text": [
      "Actual OPS_plus [104.796]\n",
      "Predicted OPS_plus [121.42983004]\n",
      "Score: 0.065\n",
      "Mean squared error: 276.684\n",
      "Mean Absolute error: 16.634\n",
      "Variance score: 0.000\n",
      "\n",
      "Chris Young\n"
     ]
    },
    {
     "name": "stderr",
     "output_type": "stream",
     "text": [
      "/Users/StephanieBrito/anaconda3/lib/python3.7/site-packages/sklearn/model_selection/_search.py:841: DeprecationWarning: The default of the `iid` parameter will change from True to False in version 0.22 and will be removed in 0.24. This will change numeric results when test-set sizes are unequal.\n",
      "  DeprecationWarning)\n"
     ]
    },
    {
     "name": "stdout",
     "output_type": "stream",
     "text": [
      "Actual OPS_plus [85.527]\n",
      "Predicted OPS_plus [125.79781519]\n",
      "Score: 0.479\n",
      "Mean squared error: 1621.739\n",
      "Mean Absolute error: 40.271\n",
      "Variance score: 0.000\n",
      "\n",
      "Jason Giambi\n"
     ]
    },
    {
     "name": "stderr",
     "output_type": "stream",
     "text": [
      "/Users/StephanieBrito/anaconda3/lib/python3.7/site-packages/sklearn/model_selection/_search.py:841: DeprecationWarning: The default of the `iid` parameter will change from True to False in version 0.22 and will be removed in 0.24. This will change numeric results when test-set sizes are unequal.\n",
      "  DeprecationWarning)\n"
     ]
    },
    {
     "name": "stdout",
     "output_type": "stream",
     "text": [
      "Actual OPS_plus [85.3051]\n",
      "Predicted OPS_plus [144.3554]\n",
      "Score: -0.018\n",
      "Mean squared error: 3486.938\n",
      "Mean Absolute error: 59.050\n",
      "Variance score: 0.000\n",
      "\n",
      "Rey Sanchez\n"
     ]
    },
    {
     "name": "stderr",
     "output_type": "stream",
     "text": [
      "/Users/StephanieBrito/anaconda3/lib/python3.7/site-packages/sklearn/model_selection/_search.py:841: DeprecationWarning: The default of the `iid` parameter will change from True to False in version 0.22 and will be removed in 0.24. This will change numeric results when test-set sizes are unequal.\n",
      "  DeprecationWarning)\n"
     ]
    },
    {
     "name": "stdout",
     "output_type": "stream",
     "text": [
      "Actual OPS_plus [80.759]\n",
      "Predicted OPS_plus [72.14772857]\n",
      "Score: 0.473\n",
      "Mean squared error: 74.154\n",
      "Mean Absolute error: 8.611\n",
      "Variance score: 0.000\n",
      "\n",
      "Mark Grace\n"
     ]
    },
    {
     "name": "stderr",
     "output_type": "stream",
     "text": [
      "/Users/StephanieBrito/anaconda3/lib/python3.7/site-packages/sklearn/model_selection/_search.py:841: DeprecationWarning: The default of the `iid` parameter will change from True to False in version 0.22 and will be removed in 0.24. This will change numeric results when test-set sizes are unequal.\n",
      "  DeprecationWarning)\n"
     ]
    },
    {
     "name": "stdout",
     "output_type": "stream",
     "text": [
      "Actual OPS_plus [86.1361]\n",
      "Predicted OPS_plus [120.7105]\n",
      "Score: -0.002\n",
      "Mean squared error: 1195.389\n",
      "Mean Absolute error: 34.574\n",
      "Variance score: 0.000\n",
      "\n",
      "Will Clark\n"
     ]
    },
    {
     "name": "stderr",
     "output_type": "stream",
     "text": [
      "/Users/StephanieBrito/anaconda3/lib/python3.7/site-packages/sklearn/model_selection/_search.py:841: DeprecationWarning: The default of the `iid` parameter will change from True to False in version 0.22 and will be removed in 0.24. This will change numeric results when test-set sizes are unequal.\n",
      "  DeprecationWarning)\n"
     ]
    },
    {
     "name": "stdout",
     "output_type": "stream",
     "text": [
      "Actual OPS_plus [129.4078]\n",
      "Predicted OPS_plus [125.46878183]\n",
      "Score: 0.239\n",
      "Mean squared error: 15.516\n",
      "Mean Absolute error: 3.939\n",
      "Variance score: 0.000\n",
      "\n",
      "Carlos Lee\n"
     ]
    },
    {
     "name": "stderr",
     "output_type": "stream",
     "text": [
      "/Users/StephanieBrito/anaconda3/lib/python3.7/site-packages/sklearn/model_selection/_search.py:841: DeprecationWarning: The default of the `iid` parameter will change from True to False in version 0.22 and will be removed in 0.24. This will change numeric results when test-set sizes are unequal.\n",
      "  DeprecationWarning)\n"
     ]
    },
    {
     "name": "stdout",
     "output_type": "stream",
     "text": [
      "Actual OPS_plus [102.142]\n",
      "Predicted OPS_plus [118.06105]\n",
      "Score: -0.025\n",
      "Mean squared error: 253.416\n",
      "Mean Absolute error: 15.919\n",
      "Variance score: 0.000\n",
      "\n",
      "Lonnie Smith\n"
     ]
    },
    {
     "name": "stderr",
     "output_type": "stream",
     "text": [
      "/Users/StephanieBrito/anaconda3/lib/python3.7/site-packages/sklearn/model_selection/_search.py:841: DeprecationWarning: The default of the `iid` parameter will change from True to False in version 0.22 and will be removed in 0.24. This will change numeric results when test-set sizes are unequal.\n",
      "  DeprecationWarning)\n"
     ]
    },
    {
     "name": "stdout",
     "output_type": "stream",
     "text": [
      "Actual OPS_plus [133.5198]\n",
      "Predicted OPS_plus [114.99141429]\n",
      "Score: 1.000\n",
      "Mean squared error: 343.301\n",
      "Mean Absolute error: 18.528\n",
      "Variance score: 0.000\n",
      "\n",
      "Tony Gwynn\n"
     ]
    },
    {
     "name": "stderr",
     "output_type": "stream",
     "text": [
      "/Users/StephanieBrito/anaconda3/lib/python3.7/site-packages/sklearn/model_selection/_search.py:841: DeprecationWarning: The default of the `iid` parameter will change from True to False in version 0.22 and will be removed in 0.24. This will change numeric results when test-set sizes are unequal.\n",
      "  DeprecationWarning)\n"
     ]
    },
    {
     "name": "stdout",
     "output_type": "stream",
     "text": [
      "Actual OPS_plus [128.4145]\n",
      "Predicted OPS_plus [145.00862206]\n",
      "Score: 0.130\n",
      "Mean squared error: 275.365\n",
      "Mean Absolute error: 16.594\n",
      "Variance score: 0.000\n",
      "\n",
      "Jim Sundberg\n"
     ]
    },
    {
     "name": "stderr",
     "output_type": "stream",
     "text": [
      "/Users/StephanieBrito/anaconda3/lib/python3.7/site-packages/sklearn/model_selection/_search.py:841: DeprecationWarning: The default of the `iid` parameter will change from True to False in version 0.22 and will be removed in 0.24. This will change numeric results when test-set sizes are unequal.\n",
      "  DeprecationWarning)\n"
     ]
    },
    {
     "name": "stdout",
     "output_type": "stream",
     "text": [
      "Actual OPS_plus [115.8636]\n",
      "Predicted OPS_plus [83.5551]\n",
      "Score: -0.043\n",
      "Mean squared error: 1043.839\n",
      "Mean Absolute error: 32.309\n",
      "Variance score: 0.000\n",
      "\n",
      "Greg Maddux\n"
     ]
    },
    {
     "name": "stderr",
     "output_type": "stream",
     "text": [
      "/Users/StephanieBrito/anaconda3/lib/python3.7/site-packages/sklearn/model_selection/_search.py:841: DeprecationWarning: The default of the `iid` parameter will change from True to False in version 0.22 and will be removed in 0.24. This will change numeric results when test-set sizes are unequal.\n",
      "  DeprecationWarning)\n"
     ]
    },
    {
     "name": "stdout",
     "output_type": "stream",
     "text": [
      "Actual OPS_plus [10.0314]\n",
      "Predicted OPS_plus [13.8342]\n",
      "Score: -0.005\n",
      "Mean squared error: 14.461\n",
      "Mean Absolute error: 3.803\n",
      "Variance score: 0.000\n",
      "\n",
      "Juan Gonzalez\n"
     ]
    },
    {
     "name": "stderr",
     "output_type": "stream",
     "text": [
      "/Users/StephanieBrito/anaconda3/lib/python3.7/site-packages/sklearn/model_selection/_search.py:841: DeprecationWarning: The default of the `iid` parameter will change from True to False in version 0.22 and will be removed in 0.24. This will change numeric results when test-set sizes are unequal.\n",
      "  DeprecationWarning)\n"
     ]
    },
    {
     "name": "stdout",
     "output_type": "stream",
     "text": [
      "Actual OPS_plus [122.1286]\n",
      "Predicted OPS_plus [131.01278795]\n",
      "Score: -0.033\n",
      "Mean squared error: 78.929\n",
      "Mean Absolute error: 8.884\n",
      "Variance score: 0.000\n",
      "\n",
      "Bob Boone\n"
     ]
    },
    {
     "name": "stderr",
     "output_type": "stream",
     "text": [
      "/Users/StephanieBrito/anaconda3/lib/python3.7/site-packages/sklearn/model_selection/_search.py:841: DeprecationWarning: The default of the `iid` parameter will change from True to False in version 0.22 and will be removed in 0.24. This will change numeric results when test-set sizes are unequal.\n",
      "  DeprecationWarning)\n"
     ]
    },
    {
     "name": "stdout",
     "output_type": "stream",
     "text": [
      "Actual OPS_plus [92.171]\n",
      "Predicted OPS_plus [62.04948127]\n",
      "Score: 0.157\n",
      "Mean squared error: 907.306\n",
      "Mean Absolute error: 30.122\n",
      "Variance score: 0.000\n",
      "\n",
      "Manny Ramirez\n"
     ]
    },
    {
     "name": "stderr",
     "output_type": "stream",
     "text": [
      "/Users/StephanieBrito/anaconda3/lib/python3.7/site-packages/sklearn/model_selection/_search.py:841: DeprecationWarning: The default of the `iid` parameter will change from True to False in version 0.22 and will be removed in 0.24. This will change numeric results when test-set sizes are unequal.\n",
      "  DeprecationWarning)\n"
     ]
    },
    {
     "name": "stdout",
     "output_type": "stream",
     "text": [
      "Actual OPS_plus [125.5055]\n",
      "Predicted OPS_plus [152.98155008]\n",
      "Score: 0.270\n",
      "Mean squared error: 754.933\n",
      "Mean Absolute error: 27.476\n",
      "Variance score: 0.000\n",
      "\n",
      "Brent Mayne\n"
     ]
    },
    {
     "name": "stderr",
     "output_type": "stream",
     "text": [
      "/Users/StephanieBrito/anaconda3/lib/python3.7/site-packages/sklearn/model_selection/_search.py:841: DeprecationWarning: The default of the `iid` parameter will change from True to False in version 0.22 and will be removed in 0.24. This will change numeric results when test-set sizes are unequal.\n",
      "  DeprecationWarning)\n"
     ]
    },
    {
     "name": "stdout",
     "output_type": "stream",
     "text": [
      "Actual OPS_plus [74.7344]\n",
      "Predicted OPS_plus [75.60496951]\n",
      "Score: 0.708\n",
      "Mean squared error: 0.758\n",
      "Mean Absolute error: 0.871\n",
      "Variance score: 0.000\n",
      "\n",
      "Jimmy Rollins\n"
     ]
    },
    {
     "name": "stderr",
     "output_type": "stream",
     "text": [
      "/Users/StephanieBrito/anaconda3/lib/python3.7/site-packages/sklearn/model_selection/_search.py:841: DeprecationWarning: The default of the `iid` parameter will change from True to False in version 0.22 and will be removed in 0.24. This will change numeric results when test-set sizes are unequal.\n",
      "  DeprecationWarning)\n"
     ]
    },
    {
     "name": "stdout",
     "output_type": "stream",
     "text": [
      "Actual OPS_plus [99.8152]\n",
      "Predicted OPS_plus [91.64264799]\n",
      "Score: 0.217\n",
      "Mean squared error: 66.791\n",
      "Mean Absolute error: 8.173\n",
      "Variance score: 0.000\n",
      "\n",
      "Steve Finley\n"
     ]
    },
    {
     "name": "stderr",
     "output_type": "stream",
     "text": [
      "/Users/StephanieBrito/anaconda3/lib/python3.7/site-packages/sklearn/model_selection/_search.py:841: DeprecationWarning: The default of the `iid` parameter will change from True to False in version 0.22 and will be removed in 0.24. This will change numeric results when test-set sizes are unequal.\n",
      "  DeprecationWarning)\n"
     ]
    },
    {
     "name": "stdout",
     "output_type": "stream",
     "text": [
      "Actual OPS_plus [115.4967]\n",
      "Predicted OPS_plus [114.61910479]\n",
      "Score: 0.129\n",
      "Mean squared error: 0.770\n",
      "Mean Absolute error: 0.878\n",
      "Variance score: 0.000\n",
      "\n",
      "B.J. Surhoff\n"
     ]
    },
    {
     "name": "stderr",
     "output_type": "stream",
     "text": [
      "/Users/StephanieBrito/anaconda3/lib/python3.7/site-packages/sklearn/model_selection/_search.py:841: DeprecationWarning: The default of the `iid` parameter will change from True to False in version 0.22 and will be removed in 0.24. This will change numeric results when test-set sizes are unequal.\n",
      "  DeprecationWarning)\n"
     ]
    },
    {
     "name": "stdout",
     "output_type": "stream",
     "text": [
      "Actual OPS_plus [103.7336]\n",
      "Predicted OPS_plus [96.44431416]\n",
      "Score: 0.444\n",
      "Mean squared error: 53.134\n",
      "Mean Absolute error: 7.289\n",
      "Variance score: 0.000\n",
      "\n",
      "Ruben Sierra\n"
     ]
    },
    {
     "name": "stderr",
     "output_type": "stream",
     "text": [
      "/Users/StephanieBrito/anaconda3/lib/python3.7/site-packages/sklearn/model_selection/_search.py:841: DeprecationWarning: The default of the `iid` parameter will change from True to False in version 0.22 and will be removed in 0.24. This will change numeric results when test-set sizes are unequal.\n",
      "  DeprecationWarning)\n"
     ]
    },
    {
     "name": "stdout",
     "output_type": "stream",
     "text": [
      "Actual OPS_plus [75.3393]\n",
      "Predicted OPS_plus [88.34254204]\n",
      "Score: 0.377\n",
      "Mean squared error: 169.084\n",
      "Mean Absolute error: 13.003\n",
      "Variance score: 0.000\n",
      "\n",
      "Omar Infante\n"
     ]
    },
    {
     "name": "stderr",
     "output_type": "stream",
     "text": [
      "/Users/StephanieBrito/anaconda3/lib/python3.7/site-packages/sklearn/model_selection/_search.py:841: DeprecationWarning: The default of the `iid` parameter will change from True to False in version 0.22 and will be removed in 0.24. This will change numeric results when test-set sizes are unequal.\n",
      "  DeprecationWarning)\n"
     ]
    },
    {
     "name": "stdout",
     "output_type": "stream",
     "text": [
      "Actual OPS_plus [48.0177]\n",
      "Predicted OPS_plus [96.17604927]\n",
      "Score: 0.004\n",
      "Mean squared error: 2319.227\n",
      "Mean Absolute error: 48.158\n",
      "Variance score: 0.000\n",
      "\n",
      "Tom Glavine\n"
     ]
    },
    {
     "name": "stderr",
     "output_type": "stream",
     "text": [
      "/Users/StephanieBrito/anaconda3/lib/python3.7/site-packages/sklearn/model_selection/_search.py:841: DeprecationWarning: The default of the `iid` parameter will change from True to False in version 0.22 and will be removed in 0.24. This will change numeric results when test-set sizes are unequal.\n",
      "  DeprecationWarning)\n"
     ]
    },
    {
     "name": "stdout",
     "output_type": "stream",
     "text": [
      "Actual OPS_plus [-31.3129]\n",
      "Predicted OPS_plus [24.697]\n",
      "Score: 1.000\n",
      "Mean squared error: 3137.109\n",
      "Mean Absolute error: 56.010\n",
      "Variance score: 0.000\n",
      "\n",
      "Yadier Molina\n"
     ]
    },
    {
     "name": "stderr",
     "output_type": "stream",
     "text": [
      "/Users/StephanieBrito/anaconda3/lib/python3.7/site-packages/sklearn/model_selection/_search.py:841: DeprecationWarning: The default of the `iid` parameter will change from True to False in version 0.22 and will be removed in 0.24. This will change numeric results when test-set sizes are unequal.\n",
      "  DeprecationWarning)\n"
     ]
    },
    {
     "name": "stdout",
     "output_type": "stream",
     "text": [
      "Actual OPS_plus [103.1677]\n",
      "Predicted OPS_plus [95.65439316]\n",
      "Score: 0.565\n",
      "Mean squared error: 56.450\n",
      "Mean Absolute error: 7.513\n",
      "Variance score: 0.000\n",
      "\n",
      "Otis Nixon\n"
     ]
    },
    {
     "name": "stderr",
     "output_type": "stream",
     "text": [
      "/Users/StephanieBrito/anaconda3/lib/python3.7/site-packages/sklearn/model_selection/_search.py:841: DeprecationWarning: The default of the `iid` parameter will change from True to False in version 0.22 and will be removed in 0.24. This will change numeric results when test-set sizes are unequal.\n",
      "  DeprecationWarning)\n"
     ]
    },
    {
     "name": "stdout",
     "output_type": "stream",
     "text": [
      "Actual OPS_plus [84.7658]\n",
      "Predicted OPS_plus [79.84993203]\n",
      "Score: 0.235\n",
      "Mean squared error: 24.166\n",
      "Mean Absolute error: 4.916\n",
      "Variance score: 0.000\n",
      "\n",
      "Lance Parrish\n"
     ]
    },
    {
     "name": "stderr",
     "output_type": "stream",
     "text": [
      "/Users/StephanieBrito/anaconda3/lib/python3.7/site-packages/sklearn/model_selection/_search.py:841: DeprecationWarning: The default of the `iid` parameter will change from True to False in version 0.22 and will be removed in 0.24. This will change numeric results when test-set sizes are unequal.\n",
      "  DeprecationWarning)\n"
     ]
    },
    {
     "name": "stdout",
     "output_type": "stream",
     "text": [
      "Actual OPS_plus [85.8606]\n",
      "Predicted OPS_plus [109.99345]\n",
      "Score: -0.045\n",
      "Mean squared error: 582.394\n",
      "Mean Absolute error: 24.133\n",
      "Variance score: 0.000\n",
      "\n",
      "Orlando Cabrera\n"
     ]
    },
    {
     "name": "stderr",
     "output_type": "stream",
     "text": [
      "/Users/StephanieBrito/anaconda3/lib/python3.7/site-packages/sklearn/model_selection/_search.py:841: DeprecationWarning: The default of the `iid` parameter will change from True to False in version 0.22 and will be removed in 0.24. This will change numeric results when test-set sizes are unequal.\n",
      "  DeprecationWarning)\n"
     ]
    },
    {
     "name": "stdout",
     "output_type": "stream",
     "text": [
      "Actual OPS_plus [75.5204]\n",
      "Predicted OPS_plus [87.16575]\n",
      "Score: 0.775\n",
      "Mean squared error: 135.614\n",
      "Mean Absolute error: 11.645\n",
      "Variance score: 0.000\n",
      "\n",
      "Ellis Burks\n"
     ]
    },
    {
     "name": "stderr",
     "output_type": "stream",
     "text": [
      "/Users/StephanieBrito/anaconda3/lib/python3.7/site-packages/sklearn/model_selection/_search.py:841: DeprecationWarning: The default of the `iid` parameter will change from True to False in version 0.22 and will be removed in 0.24. This will change numeric results when test-set sizes are unequal.\n",
      "  DeprecationWarning)\n"
     ]
    },
    {
     "name": "stdout",
     "output_type": "stream",
     "text": [
      "Actual OPS_plus [162.9992]\n",
      "Predicted OPS_plus [137.25972142]\n",
      "Score: -0.142\n",
      "Mean squared error: 662.521\n",
      "Mean Absolute error: 25.739\n",
      "Variance score: 0.000\n",
      "\n",
      "Ken Griffey Jr.\n"
     ]
    },
    {
     "name": "stderr",
     "output_type": "stream",
     "text": [
      "/Users/StephanieBrito/anaconda3/lib/python3.7/site-packages/sklearn/model_selection/_search.py:841: DeprecationWarning: The default of the `iid` parameter will change from True to False in version 0.22 and will be removed in 0.24. This will change numeric results when test-set sizes are unequal.\n",
      "  DeprecationWarning)\n"
     ]
    },
    {
     "name": "stdout",
     "output_type": "stream",
     "text": [
      "Actual OPS_plus [145.3193]\n",
      "Predicted OPS_plus [107.65332006]\n",
      "Score: 0.576\n",
      "Mean squared error: 1418.726\n",
      "Mean Absolute error: 37.666\n",
      "Variance score: 0.000\n",
      "\n",
      "Ray Durham\n"
     ]
    },
    {
     "name": "stderr",
     "output_type": "stream",
     "text": [
      "/Users/StephanieBrito/anaconda3/lib/python3.7/site-packages/sklearn/model_selection/_search.py:841: DeprecationWarning: The default of the `iid` parameter will change from True to False in version 0.22 and will be removed in 0.24. This will change numeric results when test-set sizes are unequal.\n",
      "  DeprecationWarning)\n"
     ]
    },
    {
     "name": "stdout",
     "output_type": "stream",
     "text": [
      "Actual OPS_plus [122.4334]\n",
      "Predicted OPS_plus [90.84482996]\n",
      "Score: 0.395\n",
      "Mean squared error: 997.838\n",
      "Mean Absolute error: 31.589\n",
      "Variance score: 0.000\n",
      "\n",
      "Tim Wallach\n"
     ]
    },
    {
     "name": "stderr",
     "output_type": "stream",
     "text": [
      "/Users/StephanieBrito/anaconda3/lib/python3.7/site-packages/sklearn/model_selection/_search.py:841: DeprecationWarning: The default of the `iid` parameter will change from True to False in version 0.22 and will be removed in 0.24. This will change numeric results when test-set sizes are unequal.\n",
      "  DeprecationWarning)\n"
     ]
    },
    {
     "name": "stdout",
     "output_type": "stream",
     "text": [
      "Actual OPS_plus [105.5058]\n",
      "Predicted OPS_plus [106.18096]\n",
      "Score: 0.619\n",
      "Mean squared error: 0.456\n",
      "Mean Absolute error: 0.675\n",
      "Variance score: 0.000\n",
      "\n",
      "Miguel Cabrera\n"
     ]
    },
    {
     "name": "stderr",
     "output_type": "stream",
     "text": [
      "/Users/StephanieBrito/anaconda3/lib/python3.7/site-packages/sklearn/model_selection/_search.py:841: DeprecationWarning: The default of the `iid` parameter will change from True to False in version 0.22 and will be removed in 0.24. This will change numeric results when test-set sizes are unequal.\n",
      "  DeprecationWarning)\n"
     ]
    },
    {
     "name": "stdout",
     "output_type": "stream",
     "text": [
      "Actual OPS_plus [93.2978]\n",
      "Predicted OPS_plus [151.13238702]\n",
      "Score: 0.533\n",
      "Mean squared error: 3344.839\n",
      "Mean Absolute error: 57.835\n",
      "Variance score: 0.000\n",
      "\n",
      "Brad Ausmus\n"
     ]
    },
    {
     "name": "stderr",
     "output_type": "stream",
     "text": [
      "/Users/StephanieBrito/anaconda3/lib/python3.7/site-packages/sklearn/model_selection/_search.py:841: DeprecationWarning: The default of the `iid` parameter will change from True to False in version 0.22 and will be removed in 0.24. This will change numeric results when test-set sizes are unequal.\n",
      "  DeprecationWarning)\n"
     ]
    },
    {
     "name": "stdout",
     "output_type": "stream",
     "text": [
      "Actual OPS_plus [54.2939]\n",
      "Predicted OPS_plus [69.26235]\n",
      "Score: -0.139\n",
      "Mean squared error: 224.054\n",
      "Mean Absolute error: 14.968\n",
      "Variance score: 0.000\n",
      "\n",
      "Asdrubal Cabrera\n"
     ]
    },
    {
     "name": "stderr",
     "output_type": "stream",
     "text": [
      "/Users/StephanieBrito/anaconda3/lib/python3.7/site-packages/sklearn/model_selection/_search.py:841: DeprecationWarning: The default of the `iid` parameter will change from True to False in version 0.22 and will be removed in 0.24. This will change numeric results when test-set sizes are unequal.\n",
      "  DeprecationWarning)\n"
     ]
    },
    {
     "name": "stdout",
     "output_type": "stream",
     "text": [
      "Actual OPS_plus [79.6514]\n",
      "Predicted OPS_plus [102.83295]\n",
      "Score: -0.005\n",
      "Mean squared error: 537.384\n",
      "Mean Absolute error: 23.182\n",
      "Variance score: 0.000\n",
      "\n",
      "Jack Clark\n"
     ]
    },
    {
     "name": "stderr",
     "output_type": "stream",
     "text": [
      "/Users/StephanieBrito/anaconda3/lib/python3.7/site-packages/sklearn/model_selection/_search.py:841: DeprecationWarning: The default of the `iid` parameter will change from True to False in version 0.22 and will be removed in 0.24. This will change numeric results when test-set sizes are unequal.\n",
      "  DeprecationWarning)\n"
     ]
    },
    {
     "name": "stdout",
     "output_type": "stream",
     "text": [
      "Actual OPS_plus [166.5522]\n",
      "Predicted OPS_plus [145.59449513]\n",
      "Score: 0.309\n",
      "Mean squared error: 439.225\n",
      "Mean Absolute error: 20.958\n",
      "Variance score: 0.000\n",
      "\n",
      "Victor Martinez\n"
     ]
    },
    {
     "name": "stderr",
     "output_type": "stream",
     "text": [
      "/Users/StephanieBrito/anaconda3/lib/python3.7/site-packages/sklearn/model_selection/_search.py:841: DeprecationWarning: The default of the `iid` parameter will change from True to False in version 0.22 and will be removed in 0.24. This will change numeric results when test-set sizes are unequal.\n",
      "  DeprecationWarning)\n"
     ]
    },
    {
     "name": "stdout",
     "output_type": "stream",
     "text": [
      "Actual OPS_plus [85.7446]\n",
      "Predicted OPS_plus [119.81389286]\n",
      "Score: 1.000\n",
      "Mean squared error: 1160.717\n",
      "Mean Absolute error: 34.069\n",
      "Variance score: 0.000\n",
      "\n",
      "Willie Wilson\n"
     ]
    },
    {
     "name": "stderr",
     "output_type": "stream",
     "text": [
      "/Users/StephanieBrito/anaconda3/lib/python3.7/site-packages/sklearn/model_selection/_search.py:841: DeprecationWarning: The default of the `iid` parameter will change from True to False in version 0.22 and will be removed in 0.24. This will change numeric results when test-set sizes are unequal.\n",
      "  DeprecationWarning)\n"
     ]
    },
    {
     "name": "stdout",
     "output_type": "stream",
     "text": [
      "Actual OPS_plus [91.6493]\n",
      "Predicted OPS_plus [87.4932]\n",
      "Score: -0.073\n",
      "Mean squared error: 17.273\n",
      "Mean Absolute error: 4.156\n",
      "Variance score: 0.000\n",
      "\n",
      "Lou Whitaker\n"
     ]
    },
    {
     "name": "stderr",
     "output_type": "stream",
     "text": [
      "/Users/StephanieBrito/anaconda3/lib/python3.7/site-packages/sklearn/model_selection/_search.py:841: DeprecationWarning: The default of the `iid` parameter will change from True to False in version 0.22 and will be removed in 0.24. This will change numeric results when test-set sizes are unequal.\n",
      "  DeprecationWarning)\n"
     ]
    },
    {
     "name": "stdout",
     "output_type": "stream",
     "text": [
      "Actual OPS_plus [137.3807]\n",
      "Predicted OPS_plus [138.10508638]\n",
      "Score: 0.283\n",
      "Mean squared error: 0.525\n",
      "Mean Absolute error: 0.724\n",
      "Variance score: 0.000\n",
      "\n",
      "Bill Madlock\n"
     ]
    },
    {
     "name": "stderr",
     "output_type": "stream",
     "text": [
      "/Users/StephanieBrito/anaconda3/lib/python3.7/site-packages/sklearn/model_selection/_search.py:841: DeprecationWarning: The default of the `iid` parameter will change from True to False in version 0.22 and will be removed in 0.24. This will change numeric results when test-set sizes are unequal.\n",
      "  DeprecationWarning)\n"
     ]
    },
    {
     "name": "stdout",
     "output_type": "stream",
     "text": [
      "Actual OPS_plus [116.9769]\n",
      "Predicted OPS_plus [123.18287143]\n",
      "Score: 1.000\n",
      "Mean squared error: 38.514\n",
      "Mean Absolute error: 6.206\n",
      "Variance score: 0.000\n",
      "\n",
      "Chase Utley\n"
     ]
    },
    {
     "name": "stderr",
     "output_type": "stream",
     "text": [
      "/Users/StephanieBrito/anaconda3/lib/python3.7/site-packages/sklearn/model_selection/_search.py:841: DeprecationWarning: The default of the `iid` parameter will change from True to False in version 0.22 and will be removed in 0.24. This will change numeric results when test-set sizes are unequal.\n",
      "  DeprecationWarning)\n"
     ]
    },
    {
     "name": "stdout",
     "output_type": "stream",
     "text": [
      "Actual OPS_plus [92.307]\n",
      "Predicted OPS_plus [100.69355996]\n",
      "Score: 0.626\n",
      "Mean squared error: 70.334\n",
      "Mean Absolute error: 8.387\n",
      "Variance score: 0.000\n",
      "\n",
      "Gary Sheffield\n"
     ]
    },
    {
     "name": "stderr",
     "output_type": "stream",
     "text": [
      "/Users/StephanieBrito/anaconda3/lib/python3.7/site-packages/sklearn/model_selection/_search.py:841: DeprecationWarning: The default of the `iid` parameter will change from True to False in version 0.22 and will be removed in 0.24. This will change numeric results when test-set sizes are unequal.\n",
      "  DeprecationWarning)\n"
     ]
    },
    {
     "name": "stdout",
     "output_type": "stream",
     "text": [
      "Actual OPS_plus [175.855]\n",
      "Predicted OPS_plus [145.35588083]\n",
      "Score: 0.278\n",
      "Mean squared error: 930.196\n",
      "Mean Absolute error: 30.499\n",
      "Variance score: 0.000\n",
      "\n",
      "Gary Gaetti\n"
     ]
    },
    {
     "name": "stderr",
     "output_type": "stream",
     "text": [
      "/Users/StephanieBrito/anaconda3/lib/python3.7/site-packages/sklearn/model_selection/_search.py:841: DeprecationWarning: The default of the `iid` parameter will change from True to False in version 0.22 and will be removed in 0.24. This will change numeric results when test-set sizes are unequal.\n",
      "  DeprecationWarning)\n"
     ]
    },
    {
     "name": "stdout",
     "output_type": "stream",
     "text": [
      "Actual OPS_plus [115.796]\n",
      "Predicted OPS_plus [102.10557901]\n",
      "Score: 0.332\n",
      "Mean squared error: 187.428\n",
      "Mean Absolute error: 13.690\n",
      "Variance score: 0.000\n",
      "\n",
      "Mark McLemore\n"
     ]
    },
    {
     "name": "stderr",
     "output_type": "stream",
     "text": [
      "/Users/StephanieBrito/anaconda3/lib/python3.7/site-packages/sklearn/model_selection/_search.py:841: DeprecationWarning: The default of the `iid` parameter will change from True to False in version 0.22 and will be removed in 0.24. This will change numeric results when test-set sizes are unequal.\n",
      "  DeprecationWarning)\n"
     ]
    },
    {
     "name": "stdout",
     "output_type": "stream",
     "text": [
      "Actual OPS_plus [115.0963]\n",
      "Predicted OPS_plus [80.46848245]\n",
      "Score: 0.090\n",
      "Mean squared error: 1199.086\n",
      "Mean Absolute error: 34.628\n",
      "Variance score: 0.000\n",
      "\n",
      "Ron Gant\n"
     ]
    },
    {
     "name": "stderr",
     "output_type": "stream",
     "text": [
      "/Users/StephanieBrito/anaconda3/lib/python3.7/site-packages/sklearn/model_selection/_search.py:841: DeprecationWarning: The default of the `iid` parameter will change from True to False in version 0.22 and will be removed in 0.24. This will change numeric results when test-set sizes are unequal.\n",
      "  DeprecationWarning)\n"
     ]
    },
    {
     "name": "stdout",
     "output_type": "stream",
     "text": [
      "Actual OPS_plus [91.5094]\n",
      "Predicted OPS_plus [108.8653]\n",
      "Score: 1.000\n",
      "Mean squared error: 301.227\n",
      "Mean Absolute error: 17.356\n",
      "Variance score: 0.000\n",
      "\n",
      "Garret Anderson\n"
     ]
    },
    {
     "name": "stderr",
     "output_type": "stream",
     "text": [
      "/Users/StephanieBrito/anaconda3/lib/python3.7/site-packages/sklearn/model_selection/_search.py:841: DeprecationWarning: The default of the `iid` parameter will change from True to False in version 0.22 and will be removed in 0.24. This will change numeric results when test-set sizes are unequal.\n",
      "  DeprecationWarning)\n"
     ]
    },
    {
     "name": "stdout",
     "output_type": "stream",
     "text": [
      "Actual OPS_plus [85.3684]\n",
      "Predicted OPS_plus [99.26306138]\n",
      "Score: 0.240\n",
      "Mean squared error: 193.062\n",
      "Mean Absolute error: 13.895\n",
      "Variance score: 0.000\n",
      "\n",
      "Marlon Byrd\n"
     ]
    },
    {
     "name": "stderr",
     "output_type": "stream",
     "text": [
      "/Users/StephanieBrito/anaconda3/lib/python3.7/site-packages/sklearn/model_selection/_search.py:841: DeprecationWarning: The default of the `iid` parameter will change from True to False in version 0.22 and will be removed in 0.24. This will change numeric results when test-set sizes are unequal.\n",
      "  DeprecationWarning)\n"
     ]
    },
    {
     "name": "stdout",
     "output_type": "stream",
     "text": [
      "Actual OPS_plus [106.7123]\n",
      "Predicted OPS_plus [110.70893889]\n",
      "Score: 0.064\n",
      "Mean squared error: 15.973\n",
      "Mean Absolute error: 3.997\n",
      "Variance score: 0.000\n",
      "\n",
      "Alfonso Soriano\n"
     ]
    },
    {
     "name": "stderr",
     "output_type": "stream",
     "text": [
      "/Users/StephanieBrito/anaconda3/lib/python3.7/site-packages/sklearn/model_selection/_search.py:841: DeprecationWarning: The default of the `iid` parameter will change from True to False in version 0.22 and will be removed in 0.24. This will change numeric results when test-set sizes are unequal.\n",
      "  DeprecationWarning)\n"
     ]
    },
    {
     "name": "stdout",
     "output_type": "stream",
     "text": [
      "Actual OPS_plus [130.7768]\n",
      "Predicted OPS_plus [111.39191667]\n",
      "Score: 0.397\n",
      "Mean squared error: 375.774\n",
      "Mean Absolute error: 19.385\n",
      "Variance score: 0.000\n",
      "\n",
      "Albert Pujols\n"
     ]
    },
    {
     "name": "stderr",
     "output_type": "stream",
     "text": [
      "/Users/StephanieBrito/anaconda3/lib/python3.7/site-packages/sklearn/model_selection/_search.py:841: DeprecationWarning: The default of the `iid` parameter will change from True to False in version 0.22 and will be removed in 0.24. This will change numeric results when test-set sizes are unequal.\n",
      "  DeprecationWarning)\n"
     ]
    },
    {
     "name": "stdout",
     "output_type": "stream",
     "text": [
      "Actual OPS_plus [118.2985]\n",
      "Predicted OPS_plus [137.85883128]\n",
      "Score: 0.817\n",
      "Mean squared error: 382.607\n",
      "Mean Absolute error: 19.560\n",
      "Variance score: 0.000\n",
      "\n",
      "Royce Clayton\n"
     ]
    },
    {
     "name": "stderr",
     "output_type": "stream",
     "text": [
      "/Users/StephanieBrito/anaconda3/lib/python3.7/site-packages/sklearn/model_selection/_search.py:841: DeprecationWarning: The default of the `iid` parameter will change from True to False in version 0.22 and will be removed in 0.24. This will change numeric results when test-set sizes are unequal.\n",
      "  DeprecationWarning)\n"
     ]
    },
    {
     "name": "stdout",
     "output_type": "stream",
     "text": [
      "Actual OPS_plus [74.1741]\n",
      "Predicted OPS_plus [78.05642737]\n",
      "Score: 0.141\n",
      "Mean squared error: 15.072\n",
      "Mean Absolute error: 3.882\n",
      "Variance score: 0.000\n",
      "\n",
      "Ichiro Suzuki\n"
     ]
    },
    {
     "name": "stderr",
     "output_type": "stream",
     "text": [
      "/Users/StephanieBrito/anaconda3/lib/python3.7/site-packages/sklearn/model_selection/_search.py:841: DeprecationWarning: The default of the `iid` parameter will change from True to False in version 0.22 and will be removed in 0.24. This will change numeric results when test-set sizes are unequal.\n",
      "  DeprecationWarning)\n"
     ]
    },
    {
     "name": "stdout",
     "output_type": "stream",
     "text": [
      "Actual OPS_plus [89.1181]\n",
      "Predicted OPS_plus [73.40502471]\n",
      "Score: 0.349\n",
      "Mean squared error: 246.901\n",
      "Mean Absolute error: 15.713\n",
      "Variance score: 0.000\n",
      "\n",
      "Paul Molitor\n"
     ]
    },
    {
     "name": "stderr",
     "output_type": "stream",
     "text": [
      "/Users/StephanieBrito/anaconda3/lib/python3.7/site-packages/sklearn/model_selection/_search.py:841: DeprecationWarning: The default of the `iid` parameter will change from True to False in version 0.22 and will be removed in 0.24. This will change numeric results when test-set sizes are unequal.\n",
      "  DeprecationWarning)\n"
     ]
    },
    {
     "name": "stdout",
     "output_type": "stream",
     "text": [
      "Actual OPS_plus [143.1087]\n",
      "Predicted OPS_plus [141.59663366]\n",
      "Score: 0.279\n",
      "Mean squared error: 2.286\n",
      "Mean Absolute error: 1.512\n",
      "Variance score: 0.000\n",
      "\n",
      "Eddie Murray\n"
     ]
    },
    {
     "name": "stderr",
     "output_type": "stream",
     "text": [
      "/Users/StephanieBrito/anaconda3/lib/python3.7/site-packages/sklearn/model_selection/_search.py:841: DeprecationWarning: The default of the `iid` parameter will change from True to False in version 0.22 and will be removed in 0.24. This will change numeric results when test-set sizes are unequal.\n",
      "  DeprecationWarning)\n"
     ]
    },
    {
     "name": "stdout",
     "output_type": "stream",
     "text": [
      "Actual OPS_plus [104.6893]\n",
      "Predicted OPS_plus [136.36605]\n",
      "Score: -0.082\n",
      "Mean squared error: 1003.416\n",
      "Mean Absolute error: 31.677\n",
      "Variance score: 0.000\n",
      "\n",
      "Larry Walker\n"
     ]
    },
    {
     "name": "stderr",
     "output_type": "stream",
     "text": [
      "/Users/StephanieBrito/anaconda3/lib/python3.7/site-packages/sklearn/model_selection/_search.py:841: DeprecationWarning: The default of the `iid` parameter will change from True to False in version 0.22 and will be removed in 0.24. This will change numeric results when test-set sizes are unequal.\n",
      "  DeprecationWarning)\n"
     ]
    },
    {
     "name": "stdout",
     "output_type": "stream",
     "text": [
      "Actual OPS_plus [121.196]\n",
      "Predicted OPS_plus [147.03738702]\n",
      "Score: 0.378\n",
      "Mean squared error: 667.777\n",
      "Mean Absolute error: 25.841\n",
      "Variance score: 0.000\n",
      "\n",
      "Edgar Renteria\n"
     ]
    },
    {
     "name": "stderr",
     "output_type": "stream",
     "text": [
      "/Users/StephanieBrito/anaconda3/lib/python3.7/site-packages/sklearn/model_selection/_search.py:841: DeprecationWarning: The default of the `iid` parameter will change from True to False in version 0.22 and will be removed in 0.24. This will change numeric results when test-set sizes are unequal.\n",
      "  DeprecationWarning)\n"
     ]
    },
    {
     "name": "stdout",
     "output_type": "stream",
     "text": [
      "Actual OPS_plus [93.2385]\n",
      "Predicted OPS_plus [87.00637622]\n",
      "Score: -0.096\n",
      "Mean squared error: 38.839\n",
      "Mean Absolute error: 6.232\n",
      "Variance score: 0.000\n",
      "\n",
      "Placido Polanco\n"
     ]
    },
    {
     "name": "stderr",
     "output_type": "stream",
     "text": [
      "/Users/StephanieBrito/anaconda3/lib/python3.7/site-packages/sklearn/model_selection/_search.py:841: DeprecationWarning: The default of the `iid` parameter will change from True to False in version 0.22 and will be removed in 0.24. This will change numeric results when test-set sizes are unequal.\n",
      "  DeprecationWarning)\n"
     ]
    },
    {
     "name": "stdout",
     "output_type": "stream",
     "text": [
      "Actual OPS_plus [94.2114]\n",
      "Predicted OPS_plus [88.27433562]\n",
      "Score: 0.468\n",
      "Mean squared error: 35.249\n",
      "Mean Absolute error: 5.937\n",
      "Variance score: 0.000\n",
      "\n",
      "Roberto Kelly\n"
     ]
    },
    {
     "name": "stderr",
     "output_type": "stream",
     "text": [
      "/Users/StephanieBrito/anaconda3/lib/python3.7/site-packages/sklearn/model_selection/_search.py:841: DeprecationWarning: The default of the `iid` parameter will change from True to False in version 0.22 and will be removed in 0.24. This will change numeric results when test-set sizes are unequal.\n",
      "  DeprecationWarning)\n"
     ]
    },
    {
     "name": "stdout",
     "output_type": "stream",
     "text": [
      "Actual OPS_plus [128.4556]\n",
      "Predicted OPS_plus [105.88564968]\n",
      "Score: 0.403\n",
      "Mean squared error: 509.403\n",
      "Mean Absolute error: 22.570\n",
      "Variance score: 0.000\n",
      "\n",
      "Robin Yount\n"
     ]
    },
    {
     "name": "stderr",
     "output_type": "stream",
     "text": [
      "/Users/StephanieBrito/anaconda3/lib/python3.7/site-packages/sklearn/model_selection/_search.py:841: DeprecationWarning: The default of the `iid` parameter will change from True to False in version 0.22 and will be removed in 0.24. This will change numeric results when test-set sizes are unequal.\n",
      "  DeprecationWarning)\n"
     ]
    },
    {
     "name": "stdout",
     "output_type": "stream",
     "text": [
      "Actual OPS_plus [152.2981]\n",
      "Predicted OPS_plus [125.36290679]\n",
      "Score: 0.205\n",
      "Mean squared error: 725.505\n",
      "Mean Absolute error: 26.935\n",
      "Variance score: 0.000\n",
      "\n",
      "Rafael Palmeiro\n"
     ]
    },
    {
     "name": "stderr",
     "output_type": "stream",
     "text": [
      "/Users/StephanieBrito/anaconda3/lib/python3.7/site-packages/sklearn/model_selection/_search.py:841: DeprecationWarning: The default of the `iid` parameter will change from True to False in version 0.22 and will be removed in 0.24. This will change numeric results when test-set sizes are unequal.\n",
      "  DeprecationWarning)\n"
     ]
    },
    {
     "name": "stdout",
     "output_type": "stream",
     "text": [
      "Actual OPS_plus [138.0575]\n",
      "Predicted OPS_plus [125.38245]\n",
      "Score: -0.079\n",
      "Mean squared error: 160.657\n",
      "Mean Absolute error: 12.675\n",
      "Variance score: 0.000\n",
      "\n",
      "Carlos Delgado\n"
     ]
    },
    {
     "name": "stderr",
     "output_type": "stream",
     "text": [
      "/Users/StephanieBrito/anaconda3/lib/python3.7/site-packages/sklearn/model_selection/_search.py:841: DeprecationWarning: The default of the `iid` parameter will change from True to False in version 0.22 and will be removed in 0.24. This will change numeric results when test-set sizes are unequal.\n",
      "  DeprecationWarning)\n"
     ]
    },
    {
     "name": "stdout",
     "output_type": "stream",
     "text": [
      "Actual OPS_plus [127.5341]\n",
      "Predicted OPS_plus [116.75764047]\n",
      "Score: 0.452\n",
      "Mean squared error: 116.132\n",
      "Mean Absolute error: 10.776\n",
      "Variance score: 0.000\n",
      "\n",
      "Dave Parker\n"
     ]
    },
    {
     "name": "stderr",
     "output_type": "stream",
     "text": [
      "/Users/StephanieBrito/anaconda3/lib/python3.7/site-packages/sklearn/model_selection/_search.py:841: DeprecationWarning: The default of the `iid` parameter will change from True to False in version 0.22 and will be removed in 0.24. This will change numeric results when test-set sizes are unequal.\n",
      "  DeprecationWarning)\n"
     ]
    },
    {
     "name": "stdout",
     "output_type": "stream",
     "text": [
      "Actual OPS_plus [109.9992]\n",
      "Predicted OPS_plus [128.79725]\n",
      "Score: -0.058\n",
      "Mean squared error: 353.367\n",
      "Mean Absolute error: 18.798\n",
      "Variance score: 0.000\n",
      "\n",
      "Bill Buckner\n"
     ]
    },
    {
     "name": "stderr",
     "output_type": "stream",
     "text": [
      "/Users/StephanieBrito/anaconda3/lib/python3.7/site-packages/sklearn/model_selection/_search.py:841: DeprecationWarning: The default of the `iid` parameter will change from True to False in version 0.22 and will be removed in 0.24. This will change numeric results when test-set sizes are unequal.\n",
      "  DeprecationWarning)\n"
     ]
    },
    {
     "name": "stdout",
     "output_type": "stream",
     "text": [
      "Actual OPS_plus [78.442]\n",
      "Predicted OPS_plus [109.66067725]\n",
      "Score: 0.393\n",
      "Mean squared error: 974.606\n",
      "Mean Absolute error: 31.219\n",
      "Variance score: 0.000\n",
      "\n",
      "Mark Grudzielanek\n"
     ]
    },
    {
     "name": "stderr",
     "output_type": "stream",
     "text": [
      "/Users/StephanieBrito/anaconda3/lib/python3.7/site-packages/sklearn/model_selection/_search.py:841: DeprecationWarning: The default of the `iid` parameter will change from True to False in version 0.22 and will be removed in 0.24. This will change numeric results when test-set sizes are unequal.\n",
      "  DeprecationWarning)\n"
     ]
    },
    {
     "name": "stdout",
     "output_type": "stream",
     "text": [
      "Actual OPS_plus [98.9054]\n",
      "Predicted OPS_plus [101.47509018]\n",
      "Score: 0.320\n",
      "Mean squared error: 6.603\n",
      "Mean Absolute error: 2.570\n",
      "Variance score: 0.000\n",
      "\n",
      "Buddy Bell\n"
     ]
    },
    {
     "name": "stderr",
     "output_type": "stream",
     "text": [
      "/Users/StephanieBrito/anaconda3/lib/python3.7/site-packages/sklearn/model_selection/_search.py:841: DeprecationWarning: The default of the `iid` parameter will change from True to False in version 0.22 and will be removed in 0.24. This will change numeric results when test-set sizes are unequal.\n",
      "  DeprecationWarning)\n"
     ]
    },
    {
     "name": "stdout",
     "output_type": "stream",
     "text": [
      "Actual OPS_plus [31.3807]\n",
      "Predicted OPS_plus [111.70782143]\n",
      "Score: 1.000\n",
      "Mean squared error: 6452.446\n",
      "Mean Absolute error: 80.327\n",
      "Variance score: 0.000\n",
      "\n",
      "Andruw Jones\n"
     ]
    },
    {
     "name": "stderr",
     "output_type": "stream",
     "text": [
      "/Users/StephanieBrito/anaconda3/lib/python3.7/site-packages/sklearn/model_selection/_search.py:841: DeprecationWarning: The default of the `iid` parameter will change from True to False in version 0.22 and will be removed in 0.24. This will change numeric results when test-set sizes are unequal.\n",
      "  DeprecationWarning)\n"
     ]
    },
    {
     "name": "stdout",
     "output_type": "stream",
     "text": [
      "Actual OPS_plus [120.4032]\n",
      "Predicted OPS_plus [97.02822391]\n",
      "Score: 0.219\n",
      "Mean squared error: 546.390\n",
      "Mean Absolute error: 23.375\n",
      "Variance score: 0.000\n",
      "\n",
      "Juan Uribe\n",
      "Actual OPS_plus [124.9981]\n",
      "Predicted OPS_plus [85.3207]\n",
      "Score: -0.002\n",
      "Mean squared error: 1574.296\n",
      "Mean Absolute error: 39.677\n",
      "Variance score: 0.000\n",
      "\n"
     ]
    },
    {
     "name": "stderr",
     "output_type": "stream",
     "text": [
      "/Users/StephanieBrito/anaconda3/lib/python3.7/site-packages/sklearn/model_selection/_search.py:841: DeprecationWarning: The default of the `iid` parameter will change from True to False in version 0.22 and will be removed in 0.24. This will change numeric results when test-set sizes are unequal.\n",
      "  DeprecationWarning)\n"
     ]
    }
   ],
   "source": [
    "# let's try this again but better...\n",
    "from collections import defaultdict\n",
    "loss_dict = defaultdict(float)\n",
    "tot_mse_loss = 0\n",
    "tot_mae_loss = 0\n",
    "y_true = []\n",
    "y_pred = []\n",
    "\n",
    "for player in players_with_more_than_20_years:\n",
    "    print(player)\n",
    "    player_rows = df_probably_not_pitchers[df_probably_not_pitchers['name_common'] == player]\n",
    "    data = prepare_rows(player_rows)\n",
    "    data_tuple = prepare_test_train(data[0], data[1])\n",
    "    results = run_svr(data_tuple)\n",
    "    loss_dict[player] = results\n",
    "    y_true.append(results[0][0])\n",
    "    y_pred.append(results[1][0])\n",
    "    tot_mse_loss += loss_dict[player][-1]\n",
    "    tot_mae_loss += loss_dict[player][-2]"
   ]
  },
  {
   "cell_type": "code",
   "execution_count": 607,
   "metadata": {},
   "outputs": [
    {
     "name": "stdout",
     "output_type": "stream",
     "text": [
      "Average mean squared error:  812.355\n",
      "Average absolute error: 21.287\n"
     ]
    }
   ],
   "source": [
    "from sklearn.metrics import r2_score\n",
    "avg_mse_loss = tot_mse_loss/ len(loss_dict)\n",
    "avg_mae_loss = tot_mae_loss/ len(loss_dict)\n",
    "print(\"Average mean squared error:  %.3f\" % avg_mse_loss)\n",
    "print(\"Average absolute error: %.3f\" % avg_mae_loss)"
   ]
  },
  {
   "cell_type": "code",
   "execution_count": 608,
   "metadata": {},
   "outputs": [],
   "source": [
    "from operator import itemgetter\n",
    "\n",
    "# sort dictionary by lowest loss\n",
    "sorted_loss = [(k, loss_dict[k]) for k in sorted(loss_dict.keys(), key=lambda x: loss_dict[x][-1])]\n",
    "\n",
    "# find average loss:\n",
    "\n",
    "\n",
    "# top 10 lowest loss:\n",
    "best_ten = sorted_loss[:15]\n",
    "\n",
    "# top 10 worst loss:\n",
    "worst_ten = sorted_loss[-15:]"
   ]
  },
  {
   "cell_type": "code",
   "execution_count": 612,
   "metadata": {},
   "outputs": [
    {
     "name": "stderr",
     "output_type": "stream",
     "text": [
      "/Users/StephanieBrito/anaconda3/lib/python3.7/site-packages/sklearn/model_selection/_search.py:841: DeprecationWarning: The default of the `iid` parameter will change from True to False in version 0.22 and will be removed in 0.24. This will change numeric results when test-set sizes are unequal.\n",
      "  DeprecationWarning)\n"
     ]
    },
    {
     "name": "stdout",
     "output_type": "stream",
     "text": [
      "Variance score for SVR: 0.252\n",
      "Variance score for LR: 0.002\n"
     ]
    },
    {
     "data": {
      "image/png": "[encoded data removed]",
      "text/plain": [
       "<Figure size 432x288 with 1 Axes>"
      ]
     },
     "metadata": {
      "needs_background": "light"
     },
     "output_type": "display_data"
    },
    {
     "name": "stderr",
     "output_type": "stream",
     "text": [
      "/Users/StephanieBrito/anaconda3/lib/python3.7/site-packages/sklearn/model_selection/_search.py:841: DeprecationWarning: The default of the `iid` parameter will change from True to False in version 0.22 and will be removed in 0.24. This will change numeric results when test-set sizes are unequal.\n",
      "  DeprecationWarning)\n"
     ]
    },
    {
     "name": "stdout",
     "output_type": "stream",
     "text": [
      "Variance score for SVR: 0.619\n",
      "Variance score for LR: 0.024\n"
     ]
    },
    {
     "data": {
      "image/png": "[encoded data removed]",
      "text/plain": [
       "<Figure size 432x288 with 1 Axes>"
      ]
     },
     "metadata": {
      "needs_background": "light"
     },
     "output_type": "display_data"
    },
    {
     "name": "stderr",
     "output_type": "stream",
     "text": [
      "/Users/StephanieBrito/anaconda3/lib/python3.7/site-packages/sklearn/model_selection/_search.py:841: DeprecationWarning: The default of the `iid` parameter will change from True to False in version 0.22 and will be removed in 0.24. This will change numeric results when test-set sizes are unequal.\n",
      "  DeprecationWarning)\n"
     ]
    },
    {
     "name": "stdout",
     "output_type": "stream",
     "text": [
      "Variance score for SVR: 0.286\n",
      "Variance score for LR: 0.353\n"
     ]
    },
    {
     "data": {
      "image/png": "[encoded data removed]",
      "text/plain": [
       "<Figure size 432x288 with 1 Axes>"
      ]
     },
     "metadata": {
      "needs_background": "light"
     },
     "output_type": "display_data"
    },
    {
     "name": "stderr",
     "output_type": "stream",
     "text": [
      "/Users/StephanieBrito/anaconda3/lib/python3.7/site-packages/sklearn/model_selection/_search.py:841: DeprecationWarning: The default of the `iid` parameter will change from True to False in version 0.22 and will be removed in 0.24. This will change numeric results when test-set sizes are unequal.\n",
      "  DeprecationWarning)\n"
     ]
    },
    {
     "name": "stdout",
     "output_type": "stream",
     "text": [
      "Variance score for SVR: 0.861\n",
      "Variance score for LR: 0.187\n"
     ]
    },
    {
     "data": {
      "image/png": "[encoded data removed]",
      "text/plain": [
       "<Figure size 432x288 with 1 Axes>"
      ]
     },
     "metadata": {
      "needs_background": "light"
     },
     "output_type": "display_data"
    },
    {
     "name": "stderr",
     "output_type": "stream",
     "text": [
      "/Users/StephanieBrito/anaconda3/lib/python3.7/site-packages/sklearn/model_selection/_search.py:841: DeprecationWarning: The default of the `iid` parameter will change from True to False in version 0.22 and will be removed in 0.24. This will change numeric results when test-set sizes are unequal.\n",
      "  DeprecationWarning)\n"
     ]
    },
    {
     "name": "stdout",
     "output_type": "stream",
     "text": [
      "Variance score for SVR: 0.708\n",
      "Variance score for LR: 0.001\n"
     ]
    },
    {
     "data": {
      "image/png": "[encoded data removed]",
      "text/plain": [
       "<Figure size 432x288 with 1 Axes>"
      ]
     },
     "metadata": {
      "needs_background": "light"
     },
     "output_type": "display_data"
    },
    {
     "name": "stderr",
     "output_type": "stream",
     "text": [
      "/Users/StephanieBrito/anaconda3/lib/python3.7/site-packages/sklearn/model_selection/_search.py:841: DeprecationWarning: The default of the `iid` parameter will change from True to False in version 0.22 and will be removed in 0.24. This will change numeric results when test-set sizes are unequal.\n",
      "  DeprecationWarning)\n"
     ]
    },
    {
     "name": "stdout",
     "output_type": "stream",
     "text": [
      "Variance score for SVR: 0.128\n",
      "Variance score for LR: 0.140\n"
     ]
    },
    {
     "data": {
      "image/png": "[encoded data removed]",
      "text/plain": [
       "<Figure size 432x288 with 1 Axes>"
      ]
     },
     "metadata": {
      "needs_background": "light"
     },
     "output_type": "display_data"
    },
    {
     "name": "stderr",
     "output_type": "stream",
     "text": [
      "/Users/StephanieBrito/anaconda3/lib/python3.7/site-packages/sklearn/model_selection/_search.py:841: DeprecationWarning: The default of the `iid` parameter will change from True to False in version 0.22 and will be removed in 0.24. This will change numeric results when test-set sizes are unequal.\n",
      "  DeprecationWarning)\n"
     ]
    },
    {
     "name": "stdout",
     "output_type": "stream",
     "text": [
      "Variance score for SVR: 0.003\n",
      "Variance score for LR: 0.138\n"
     ]
    },
    {
     "data": {
      "image/png": "[encoded data removed]",
      "text/plain": [
       "<Figure size 432x288 with 1 Axes>"
      ]
     },
     "metadata": {
      "needs_background": "light"
     },
     "output_type": "display_data"
    },
    {
     "name": "stderr",
     "output_type": "stream",
     "text": [
      "/Users/StephanieBrito/anaconda3/lib/python3.7/site-packages/sklearn/model_selection/_search.py:841: DeprecationWarning: The default of the `iid` parameter will change from True to False in version 0.22 and will be removed in 0.24. This will change numeric results when test-set sizes are unequal.\n",
      "  DeprecationWarning)\n"
     ]
    },
    {
     "name": "stdout",
     "output_type": "stream",
     "text": [
      "Variance score for SVR: 0.382\n",
      "Variance score for LR: 0.030\n"
     ]
    },
    {
     "data": {
      "image/png": "[encoded data removed]",
      "text/plain": [
       "<Figure size 432x288 with 1 Axes>"
      ]
     },
     "metadata": {
      "needs_background": "light"
     },
     "output_type": "display_data"
    },
    {
     "name": "stderr",
     "output_type": "stream",
     "text": [
      "/Users/StephanieBrito/anaconda3/lib/python3.7/site-packages/sklearn/model_selection/_search.py:841: DeprecationWarning: The default of the `iid` parameter will change from True to False in version 0.22 and will be removed in 0.24. This will change numeric results when test-set sizes are unequal.\n",
      "  DeprecationWarning)\n"
     ]
    },
    {
     "name": "stdout",
     "output_type": "stream",
     "text": [
      "Variance score for SVR: -0.027\n",
      "Variance score for LR: 0.034\n"
     ]
    },
    {
     "data": {
      "image/png": "[encoded data removed]",
      "text/plain": [
       "<Figure size 432x288 with 1 Axes>"
      ]
     },
     "metadata": {
      "needs_background": "light"
     },
     "output_type": "display_data"
    },
    {
     "name": "stderr",
     "output_type": "stream",
     "text": [
      "/Users/StephanieBrito/anaconda3/lib/python3.7/site-packages/sklearn/model_selection/_search.py:841: DeprecationWarning: The default of the `iid` parameter will change from True to False in version 0.22 and will be removed in 0.24. This will change numeric results when test-set sizes are unequal.\n",
      "  DeprecationWarning)\n"
     ]
    },
    {
     "name": "stdout",
     "output_type": "stream",
     "text": [
      "Variance score for SVR: 0.280\n",
      "Variance score for LR: 0.375\n"
     ]
    },
    {
     "data": {
      "image/png": "[encoded data removed]",
      "text/plain": [
       "<Figure size 432x288 with 1 Axes>"
      ]
     },
     "metadata": {
      "needs_background": "light"
     },
     "output_type": "display_data"
    },
    {
     "name": "stderr",
     "output_type": "stream",
     "text": [
      "/Users/StephanieBrito/anaconda3/lib/python3.7/site-packages/sklearn/model_selection/_search.py:841: DeprecationWarning: The default of the `iid` parameter will change from True to False in version 0.22 and will be removed in 0.24. This will change numeric results when test-set sizes are unequal.\n",
      "  DeprecationWarning)\n"
     ]
    },
    {
     "name": "stdout",
     "output_type": "stream",
     "text": [
      "Variance score for SVR: 0.250\n",
      "Variance score for LR: 0.064\n"
     ]
    },
    {
     "data": {
      "image/png": "[encoded data removed]",
      "text/plain": [
       "<Figure size 432x288 with 1 Axes>"
      ]
     },
     "metadata": {
      "needs_background": "light"
     },
     "output_type": "display_data"
    },
    {
     "name": "stderr",
     "output_type": "stream",
     "text": [
      "/Users/StephanieBrito/anaconda3/lib/python3.7/site-packages/sklearn/model_selection/_search.py:841: DeprecationWarning: The default of the `iid` parameter will change from True to False in version 0.22 and will be removed in 0.24. This will change numeric results when test-set sizes are unequal.\n",
      "  DeprecationWarning)\n"
     ]
    },
    {
     "name": "stdout",
     "output_type": "stream",
     "text": [
      "Variance score for SVR: 0.198\n",
      "Variance score for LR: 0.259\n"
     ]
    },
    {
     "data": {
      "image/png": "[encoded data removed]",
      "text/plain": [
       "<Figure size 432x288 with 1 Axes>"
      ]
     },
     "metadata": {
      "needs_background": "light"
     },
     "output_type": "display_data"
    },
    {
     "name": "stderr",
     "output_type": "stream",
     "text": [
      "/Users/StephanieBrito/anaconda3/lib/python3.7/site-packages/sklearn/model_selection/_search.py:841: DeprecationWarning: The default of the `iid` parameter will change from True to False in version 0.22 and will be removed in 0.24. This will change numeric results when test-set sizes are unequal.\n",
      "  DeprecationWarning)\n"
     ]
    },
    {
     "name": "stdout",
     "output_type": "stream",
     "text": [
      "Variance score for SVR: 0.526\n",
      "Variance score for LR: 0.511\n"
     ]
    },
    {
     "data": {
      "image/png": "[encoded data removed]",
      "text/plain": [
       "<Figure size 432x288 with 1 Axes>"
      ]
     },
     "metadata": {
      "needs_background": "light"
     },
     "output_type": "display_data"
    },
    {
     "name": "stderr",
     "output_type": "stream",
     "text": [
      "/Users/StephanieBrito/anaconda3/lib/python3.7/site-packages/sklearn/model_selection/_search.py:841: DeprecationWarning: The default of the `iid` parameter will change from True to False in version 0.22 and will be removed in 0.24. This will change numeric results when test-set sizes are unequal.\n",
      "  DeprecationWarning)\n"
     ]
    },
    {
     "name": "stdout",
     "output_type": "stream",
     "text": [
      "Variance score for SVR: 0.001\n",
      "Variance score for LR: 0.091\n"
     ]
    },
    {
     "data": {
      "image/png": "[encoded data removed]",
      "text/plain": [
       "<Figure size 432x288 with 1 Axes>"
      ]
     },
     "metadata": {
      "needs_background": "light"
     },
     "output_type": "display_data"
    },
    {
     "name": "stderr",
     "output_type": "stream",
     "text": [
      "/Users/StephanieBrito/anaconda3/lib/python3.7/site-packages/sklearn/model_selection/_search.py:841: DeprecationWarning: The default of the `iid` parameter will change from True to False in version 0.22 and will be removed in 0.24. This will change numeric results when test-set sizes are unequal.\n",
      "  DeprecationWarning)\n"
     ]
    },
    {
     "name": "stdout",
     "output_type": "stream",
     "text": [
      "Variance score for SVR: 0.662\n",
      "Variance score for LR: 0.288\n"
     ]
    },
    {
     "data": {
      "image/png": "[encoded data removed]",
      "text/plain": [
       "<Figure size 432x288 with 1 Axes>"
      ]
     },
     "metadata": {
      "needs_background": "light"
     },
     "output_type": "display_data"
    }
   ],
   "source": [
    "from sklearn.linear_model import LinearRegression, Lasso, Ridge\n",
    "# analysis on best 10 with just OPS_plus:\n",
    "\n",
    "for player in best_ten:\n",
    "    player_name = player[0]\n",
    "    player_rows = df_probably_not_pitchers[df_probably_not_pitchers['name_common'] == player_name]\n",
    "    data = prepare_rows(player_rows)\n",
    "    data_tuple = prepare_test_train(data[0], data[1])\n",
    "    x_train, y_train, x_test, y_test = data_tuple\n",
    "\n",
    "    parameters = {\n",
    "        \"kernel\": [\"rbf\"],\n",
    "        \"C\": [1,10,10,100,150,1000],\n",
    "        \"gamma\": [1e-8, 1e-7, 1e-6, 1e-5, 1e-4, 1e-3, 1e-2, 1e-1, 1e8],\n",
    "        \"epsilon\": [0.1, 0.01]\n",
    "        }\n",
    "\n",
    "    svr = GridSearchCV(SVR(), parameters, cv=3)\n",
    "    svr.fit(x_train, y_train.ravel())\n",
    "    y_svr_pred = svr.predict(x_test)\n",
    "    linearRegressor = Ridge(alpha=0.1)  # ditto for alpha\n",
    "    linearRegressor.fit(x_train, y_train)  \n",
    "    plt.plot(x_train, linearRegressor.predict(x_train), color = 'blue')\n",
    "\n",
    "    plt.plot(svr.predict(x_train), color = 'red')\n",
    "    plt.scatter(x_train,y_train, color = 'black')\n",
    "\n",
    "\n",
    "    plt.scatter(len(y_train) + 1, y_svr_pred, color = 'green')\n",
    "    plt.scatter(len(y_train) + 1, y_test, color = 'purple')\n",
    "    plt.legend(('Ridge Linear Regression','Predicted Training', 'Expected Training', 'Predicted Test','Actual Test'))\n",
    "    print('Variance score for SVR: %.3f' % r2_score(y_train, svr.predict(x_train)))\n",
    "    print('Variance score for LR: %.3f' % r2_score(y_train, linearRegressor.predict(x_train)))\n",
    "\n",
    "\n",
    "\n",
    "\n",
    "    plt.title('Expected OPS_plus vs Predicted for %s' % player_name)\n",
    "    plt.xlabel('Year')\n",
    "    plt.ylabel('OPS_plus')\n",
    "    plt.show()"
   ]
  },
  {
   "cell_type": "code",
   "execution_count": 599,
   "metadata": {},
   "outputs": [
    {
     "data": {
      "image/png": "[encoded data removed]",
      "text/plain": [
       "<Figure size 432x288 with 1 Axes>"
      ]
     },
     "metadata": {
      "needs_background": "light"
     },
     "output_type": "display_data"
    },
    {
     "data": {
      "image/png": "[encoded data removed]",
      "text/plain": [
       "<Figure size 432x288 with 1 Axes>"
      ]
     },
     "metadata": {
      "needs_background": "light"
     },
     "output_type": "display_data"
    },
    {
     "data": {
      "image/png": "[encoded data removed]",
      "text/plain": [
       "<Figure size 432x288 with 1 Axes>"
      ]
     },
     "metadata": {
      "needs_background": "light"
     },
     "output_type": "display_data"
    },
    {
     "data": {
      "image/png": "[encoded data removed]",
      "text/plain": [
       "<Figure size 432x288 with 1 Axes>"
      ]
     },
     "metadata": {
      "needs_background": "light"
     },
     "output_type": "display_data"
    },
    {
     "data": {
      "image/png": "[encoded data removed]",
      "text/plain": [
       "<Figure size 432x288 with 1 Axes>"
      ]
     },
     "metadata": {
      "needs_background": "light"
     },
     "output_type": "display_data"
    },
    {
     "data": {
      "image/png": "[encoded data removed]",
      "text/plain": [
       "<Figure size 432x288 with 1 Axes>"
      ]
     },
     "metadata": {
      "needs_background": "light"
     },
     "output_type": "display_data"
    },
    {
     "data": {
      "image/png": "[encoded data removed]",
      "text/plain": [
       "<Figure size 432x288 with 1 Axes>"
      ]
     },
     "metadata": {
      "needs_background": "light"
     },
     "output_type": "display_data"
    },
    {
     "data": {
      "image/png": "[encoded data removed]",
      "text/plain": [
       "<Figure size 432x288 with 1 Axes>"
      ]
     },
     "metadata": {
      "needs_background": "light"
     },
     "output_type": "display_data"
    },
    {
     "data": {
      "image/png": "[encoded data removed]",
      "text/plain": [
       "<Figure size 432x288 with 1 Axes>"
      ]
     },
     "metadata": {
      "needs_background": "light"
     },
     "output_type": "display_data"
    },
    {
     "data": {
      "image/png": "[encoded data removed]",
      "text/plain": [
       "<Figure size 432x288 with 1 Axes>"
      ]
     },
     "metadata": {
      "needs_background": "light"
     },
     "output_type": "display_data"
    }
   ],
   "source": [
    "for player in worst_ten:\n",
    "    player_name = player[0]\n",
    "    player_rows = df_probably_not_pitchers[df_probably_not_pitchers['name_common'] == player_name]\n",
    "    data = prepare_rows(player_rows)\n",
    "    data_tuple = prepare_test_train(data[0], data[1])\n",
    "    x_train, y_train, x_test, y_test = data_tuple\n",
    "\n",
    "    parameters = {\n",
    "        \"kernel\": [\"rbf\"],\n",
    "        \"C\": [1,10,10,100,150,1000],\n",
    "        \"gamma\": [1e-8, 1e-7, 1e-6, 1e-5, 1e-4, 1e-3, 1e-2, 1e-1, 1e8],\n",
    "        \"epsilon\": [0.1, 0.01]\n",
    "        }\n",
    "\n",
    "    svr = GridSearchCV(SVR(), parameters, cv=3)\n",
    "    svr.fit(x_train, y_train.ravel())\n",
    "    y_svr_pred = svr.predict(x_test)\n",
    "\n",
    "\n",
    "    X_grid = np.arange(min(x_train[:,:1]), max(x_train[:,:1]), 0.1)\n",
    "    X_grid = X_grid.reshape((len(X_grid), 1))\n",
    "\n",
    "    plt.plot(svr.predict(x_train), color = 'red')\n",
    "    plt.scatter(x_train,y_train, color = 'blue')\n",
    "\n",
    "\n",
    "    plt.scatter(len(y_train) + 1, y_svr_pred, color = 'green')\n",
    "    plt.scatter(len(y_train) + 1, y_test, color = 'purple')\n",
    "    plt.legend(('Predicted Training', 'Expected Training', 'Year to Predict From', 'Predicted Test','Actual Test'))\n",
    "\n",
    "    plt.title('Expected OPS_plus vs Predicted for %s' % player_name)\n",
    "    plt.xlabel('Year')\n",
    "    plt.ylabel('OPS_plus')\n",
    "    plt.show()"
   ]
  },
  {
   "cell_type": "code",
   "execution_count": 469,
   "metadata": {},
   "outputs": [
    {
     "data": {
      "text/html": [
       "<div>\n",
       "<style scoped>\n",
       "    .dataframe tbody tr th:only-of-type {\n",
       "        vertical-align: middle;\n",
       "    }\n",
       "\n",
       "    .dataframe tbody tr th {\n",
       "        vertical-align: top;\n",
       "    }\n",
       "\n",
       "    .dataframe thead th {\n",
       "        text-align: right;\n",
       "    }\n",
       "</style>\n",
       "<table border=\"1\" class=\"dataframe\">\n",
       "  <thead>\n",
       "    <tr style=\"text-align: right;\">\n",
       "      <th></th>\n",
       "      <th>name_common</th>\n",
       "      <th>age</th>\n",
       "      <th>mlb_ID</th>\n",
       "      <th>player_ID</th>\n",
       "      <th>year_ID</th>\n",
       "      <th>team_ID</th>\n",
       "      <th>stint_ID</th>\n",
       "      <th>lg_ID</th>\n",
       "      <th>PA</th>\n",
       "      <th>G</th>\n",
       "      <th>...</th>\n",
       "      <th>oppRpG_rep</th>\n",
       "      <th>pyth_exponent</th>\n",
       "      <th>pyth_exponent_rep</th>\n",
       "      <th>waa_win_perc</th>\n",
       "      <th>waa_win_perc_off</th>\n",
       "      <th>waa_win_perc_def</th>\n",
       "      <th>waa_win_perc_rep</th>\n",
       "      <th>OPS_plus</th>\n",
       "      <th>TOB_lg</th>\n",
       "      <th>TB_lg</th>\n",
       "    </tr>\n",
       "  </thead>\n",
       "  <tbody>\n",
       "    <tr>\n",
       "      <th>76207</th>\n",
       "      <td>Tony Phillips</td>\n",
       "      <td>23.0</td>\n",
       "      <td>120522.0</td>\n",
       "      <td>phillto02</td>\n",
       "      <td>1982</td>\n",
       "      <td>OAK</td>\n",
       "      <td>1</td>\n",
       "      <td>AL</td>\n",
       "      <td>100.0</td>\n",
       "      <td>40</td>\n",
       "      <td>...</td>\n",
       "      <td>4.39585</td>\n",
       "      <td>1.869</td>\n",
       "      <td>1.863</td>\n",
       "      <td>0.5052</td>\n",
       "      <td>0.5007</td>\n",
       "      <td>0.5092</td>\n",
       "      <td>0.4910</td>\n",
       "      <td>74.5133</td>\n",
       "      <td>30.391</td>\n",
       "      <td>31.720</td>\n",
       "    </tr>\n",
       "    <tr>\n",
       "      <th>76208</th>\n",
       "      <td>Tony Phillips</td>\n",
       "      <td>24.0</td>\n",
       "      <td>120522.0</td>\n",
       "      <td>phillto02</td>\n",
       "      <td>1983</td>\n",
       "      <td>OAK</td>\n",
       "      <td>1</td>\n",
       "      <td>AL</td>\n",
       "      <td>476.0</td>\n",
       "      <td>148</td>\n",
       "      <td>...</td>\n",
       "      <td>4.38778</td>\n",
       "      <td>1.872</td>\n",
       "      <td>1.864</td>\n",
       "      <td>0.4982</td>\n",
       "      <td>0.5036</td>\n",
       "      <td>0.5006</td>\n",
       "      <td>0.4885</td>\n",
       "      <td>85.3142</td>\n",
       "      <td>147.916</td>\n",
       "      <td>159.897</td>\n",
       "    </tr>\n",
       "    <tr>\n",
       "      <th>76209</th>\n",
       "      <td>Tony Phillips</td>\n",
       "      <td>25.0</td>\n",
       "      <td>120522.0</td>\n",
       "      <td>phillto02</td>\n",
       "      <td>1984</td>\n",
       "      <td>OAK</td>\n",
       "      <td>1</td>\n",
       "      <td>AL</td>\n",
       "      <td>505.0</td>\n",
       "      <td>154</td>\n",
       "      <td>...</td>\n",
       "      <td>4.31999</td>\n",
       "      <td>1.864</td>\n",
       "      <td>1.856</td>\n",
       "      <td>0.5015</td>\n",
       "      <td>0.5036</td>\n",
       "      <td>0.5038</td>\n",
       "      <td>0.4881</td>\n",
       "      <td>96.7953</td>\n",
       "      <td>157.119</td>\n",
       "      <td>172.913</td>\n",
       "    </tr>\n",
       "    <tr>\n",
       "      <th>76210</th>\n",
       "      <td>Tony Phillips</td>\n",
       "      <td>26.0</td>\n",
       "      <td>120522.0</td>\n",
       "      <td>phillto02</td>\n",
       "      <td>1985</td>\n",
       "      <td>OAK</td>\n",
       "      <td>1</td>\n",
       "      <td>AL</td>\n",
       "      <td>178.0</td>\n",
       "      <td>42</td>\n",
       "      <td>...</td>\n",
       "      <td>4.43841</td>\n",
       "      <td>1.890</td>\n",
       "      <td>1.872</td>\n",
       "      <td>0.5288</td>\n",
       "      <td>0.5163</td>\n",
       "      <td>0.5157</td>\n",
       "      <td>0.4850</td>\n",
       "      <td>120.7747</td>\n",
       "      <td>55.353</td>\n",
       "      <td>62.935</td>\n",
       "    </tr>\n",
       "    <tr>\n",
       "      <th>76211</th>\n",
       "      <td>Tony Phillips</td>\n",
       "      <td>27.0</td>\n",
       "      <td>120522.0</td>\n",
       "      <td>phillto02</td>\n",
       "      <td>1986</td>\n",
       "      <td>OAK</td>\n",
       "      <td>1</td>\n",
       "      <td>AL</td>\n",
       "      <td>532.0</td>\n",
       "      <td>118</td>\n",
       "      <td>...</td>\n",
       "      <td>4.49203</td>\n",
       "      <td>1.893</td>\n",
       "      <td>1.878</td>\n",
       "      <td>0.5235</td>\n",
       "      <td>0.5113</td>\n",
       "      <td>0.5154</td>\n",
       "      <td>0.4850</td>\n",
       "      <td>102.9071</td>\n",
       "      <td>166.628</td>\n",
       "      <td>173.357</td>\n",
       "    </tr>\n",
       "    <tr>\n",
       "      <th>76212</th>\n",
       "      <td>Tony Phillips</td>\n",
       "      <td>28.0</td>\n",
       "      <td>120522.0</td>\n",
       "      <td>phillto02</td>\n",
       "      <td>1987</td>\n",
       "      <td>OAK</td>\n",
       "      <td>1</td>\n",
       "      <td>AL</td>\n",
       "      <td>441.0</td>\n",
       "      <td>111</td>\n",
       "      <td>...</td>\n",
       "      <td>4.79824</td>\n",
       "      <td>1.920</td>\n",
       "      <td>1.913</td>\n",
       "      <td>0.5041</td>\n",
       "      <td>0.5002</td>\n",
       "      <td>0.5071</td>\n",
       "      <td>0.4867</td>\n",
       "      <td>94.3616</td>\n",
       "      <td>142.192</td>\n",
       "      <td>156.186</td>\n",
       "    </tr>\n",
       "    <tr>\n",
       "      <th>76213</th>\n",
       "      <td>Tony Phillips</td>\n",
       "      <td>29.0</td>\n",
       "      <td>120522.0</td>\n",
       "      <td>phillto02</td>\n",
       "      <td>1988</td>\n",
       "      <td>OAK</td>\n",
       "      <td>1</td>\n",
       "      <td>AL</td>\n",
       "      <td>251.0</td>\n",
       "      <td>79</td>\n",
       "      <td>...</td>\n",
       "      <td>4.27049</td>\n",
       "      <td>1.853</td>\n",
       "      <td>1.849</td>\n",
       "      <td>0.4850</td>\n",
       "      <td>0.4953</td>\n",
       "      <td>0.4902</td>\n",
       "      <td>0.4884</td>\n",
       "      <td>79.4297</td>\n",
       "      <td>80.100</td>\n",
       "      <td>81.705</td>\n",
       "    </tr>\n",
       "    <tr>\n",
       "      <th>76214</th>\n",
       "      <td>Tony Phillips</td>\n",
       "      <td>30.0</td>\n",
       "      <td>120522.0</td>\n",
       "      <td>phillto02</td>\n",
       "      <td>1989</td>\n",
       "      <td>OAK</td>\n",
       "      <td>1</td>\n",
       "      <td>AL</td>\n",
       "      <td>524.0</td>\n",
       "      <td>143</td>\n",
       "      <td>...</td>\n",
       "      <td>4.19154</td>\n",
       "      <td>1.851</td>\n",
       "      <td>1.841</td>\n",
       "      <td>0.5039</td>\n",
       "      <td>0.5027</td>\n",
       "      <td>0.5039</td>\n",
       "      <td>0.4858</td>\n",
       "      <td>99.1579</td>\n",
       "      <td>166.962</td>\n",
       "      <td>170.749</td>\n",
       "    </tr>\n",
       "    <tr>\n",
       "      <th>76215</th>\n",
       "      <td>Tony Phillips</td>\n",
       "      <td>31.0</td>\n",
       "      <td>120522.0</td>\n",
       "      <td>phillto02</td>\n",
       "      <td>1990</td>\n",
       "      <td>DET</td>\n",
       "      <td>1</td>\n",
       "      <td>AL</td>\n",
       "      <td>687.0</td>\n",
       "      <td>152</td>\n",
       "      <td>...</td>\n",
       "      <td>4.17735</td>\n",
       "      <td>1.855</td>\n",
       "      <td>1.841</td>\n",
       "      <td>0.5169</td>\n",
       "      <td>0.5081</td>\n",
       "      <td>0.5110</td>\n",
       "      <td>0.4836</td>\n",
       "      <td>100.9057</td>\n",
       "      <td>222.926</td>\n",
       "      <td>223.069</td>\n",
       "    </tr>\n",
       "    <tr>\n",
       "      <th>76216</th>\n",
       "      <td>Tony Phillips</td>\n",
       "      <td>32.0</td>\n",
       "      <td>120522.0</td>\n",
       "      <td>phillto02</td>\n",
       "      <td>1991</td>\n",
       "      <td>DET</td>\n",
       "      <td>1</td>\n",
       "      <td>AL</td>\n",
       "      <td>655.0</td>\n",
       "      <td>146</td>\n",
       "      <td>...</td>\n",
       "      <td>4.32211</td>\n",
       "      <td>1.876</td>\n",
       "      <td>1.858</td>\n",
       "      <td>0.5206</td>\n",
       "      <td>0.5140</td>\n",
       "      <td>0.5061</td>\n",
       "      <td>0.4838</td>\n",
       "      <td>121.9524</td>\n",
       "      <td>216.073</td>\n",
       "      <td>224.641</td>\n",
       "    </tr>\n",
       "    <tr>\n",
       "      <th>76217</th>\n",
       "      <td>Tony Phillips</td>\n",
       "      <td>33.0</td>\n",
       "      <td>120522.0</td>\n",
       "      <td>phillto02</td>\n",
       "      <td>1992</td>\n",
       "      <td>DET</td>\n",
       "      <td>1</td>\n",
       "      <td>AL</td>\n",
       "      <td>733.0</td>\n",
       "      <td>159</td>\n",
       "      <td>...</td>\n",
       "      <td>4.16373</td>\n",
       "      <td>1.856</td>\n",
       "      <td>1.839</td>\n",
       "      <td>0.5162</td>\n",
       "      <td>0.5111</td>\n",
       "      <td>0.5034</td>\n",
       "      <td>0.4827</td>\n",
       "      <td>118.7150</td>\n",
       "      <td>239.002</td>\n",
       "      <td>233.310</td>\n",
       "    </tr>\n",
       "    <tr>\n",
       "      <th>76218</th>\n",
       "      <td>Tony Phillips</td>\n",
       "      <td>34.0</td>\n",
       "      <td>120522.0</td>\n",
       "      <td>phillto02</td>\n",
       "      <td>1993</td>\n",
       "      <td>DET</td>\n",
       "      <td>1</td>\n",
       "      <td>AL</td>\n",
       "      <td>707.0</td>\n",
       "      <td>151</td>\n",
       "      <td>...</td>\n",
       "      <td>4.57187</td>\n",
       "      <td>1.909</td>\n",
       "      <td>1.888</td>\n",
       "      <td>0.5219</td>\n",
       "      <td>0.5200</td>\n",
       "      <td>0.5002</td>\n",
       "      <td>0.4837</td>\n",
       "      <td>129.9240</td>\n",
       "      <td>237.145</td>\n",
       "      <td>229.739</td>\n",
       "    </tr>\n",
       "    <tr>\n",
       "      <th>76219</th>\n",
       "      <td>Tony Phillips</td>\n",
       "      <td>35.0</td>\n",
       "      <td>120522.0</td>\n",
       "      <td>phillto02</td>\n",
       "      <td>1994</td>\n",
       "      <td>DET</td>\n",
       "      <td>1</td>\n",
       "      <td>AL</td>\n",
       "      <td>538.0</td>\n",
       "      <td>114</td>\n",
       "      <td>...</td>\n",
       "      <td>5.08630</td>\n",
       "      <td>1.965</td>\n",
       "      <td>1.946</td>\n",
       "      <td>0.5258</td>\n",
       "      <td>0.5175</td>\n",
       "      <td>0.5048</td>\n",
       "      <td>0.4846</td>\n",
       "      <td>126.4147</td>\n",
       "      <td>185.502</td>\n",
       "      <td>190.136</td>\n",
       "    </tr>\n",
       "    <tr>\n",
       "      <th>76220</th>\n",
       "      <td>Tony Phillips</td>\n",
       "      <td>36.0</td>\n",
       "      <td>120522.0</td>\n",
       "      <td>phillto02</td>\n",
       "      <td>1995</td>\n",
       "      <td>CAL</td>\n",
       "      <td>1</td>\n",
       "      <td>AL</td>\n",
       "      <td>643.0</td>\n",
       "      <td>139</td>\n",
       "      <td>...</td>\n",
       "      <td>4.93792</td>\n",
       "      <td>1.948</td>\n",
       "      <td>1.930</td>\n",
       "      <td>0.5159</td>\n",
       "      <td>0.5158</td>\n",
       "      <td>0.4999</td>\n",
       "      <td>0.4843</td>\n",
       "      <td>122.9453</td>\n",
       "      <td>220.078</td>\n",
       "      <td>223.177</td>\n",
       "    </tr>\n",
       "    <tr>\n",
       "      <th>76221</th>\n",
       "      <td>Tony Phillips</td>\n",
       "      <td>37.0</td>\n",
       "      <td>120522.0</td>\n",
       "      <td>phillto02</td>\n",
       "      <td>1996</td>\n",
       "      <td>CHW</td>\n",
       "      <td>1</td>\n",
       "      <td>AL</td>\n",
       "      <td>719.0</td>\n",
       "      <td>153</td>\n",
       "      <td>...</td>\n",
       "      <td>5.23287</td>\n",
       "      <td>1.971</td>\n",
       "      <td>1.961</td>\n",
       "      <td>0.5043</td>\n",
       "      <td>0.5023</td>\n",
       "      <td>0.4987</td>\n",
       "      <td>0.4848</td>\n",
       "      <td>109.4060</td>\n",
       "      <td>246.489</td>\n",
       "      <td>252.851</td>\n",
       "    </tr>\n",
       "    <tr>\n",
       "      <th>76222</th>\n",
       "      <td>Tony Phillips</td>\n",
       "      <td>38.0</td>\n",
       "      <td>120522.0</td>\n",
       "      <td>phillto02</td>\n",
       "      <td>1997</td>\n",
       "      <td>ANA</td>\n",
       "      <td>2</td>\n",
       "      <td>AL</td>\n",
       "      <td>487.0</td>\n",
       "      <td>105</td>\n",
       "      <td>...</td>\n",
       "      <td>4.79852</td>\n",
       "      <td>1.921</td>\n",
       "      <td>1.914</td>\n",
       "      <td>0.4919</td>\n",
       "      <td>0.4961</td>\n",
       "      <td>0.4935</td>\n",
       "      <td>0.4840</td>\n",
       "      <td>99.1130</td>\n",
       "      <td>166.206</td>\n",
       "      <td>175.203</td>\n",
       "    </tr>\n",
       "    <tr>\n",
       "      <th>76223</th>\n",
       "      <td>Tony Phillips</td>\n",
       "      <td>38.0</td>\n",
       "      <td>120522.0</td>\n",
       "      <td>phillto02</td>\n",
       "      <td>1997</td>\n",
       "      <td>CHW</td>\n",
       "      <td>1</td>\n",
       "      <td>AL</td>\n",
       "      <td>161.0</td>\n",
       "      <td>36</td>\n",
       "      <td>...</td>\n",
       "      <td>4.79852</td>\n",
       "      <td>1.935</td>\n",
       "      <td>1.914</td>\n",
       "      <td>0.5130</td>\n",
       "      <td>0.5207</td>\n",
       "      <td>0.4897</td>\n",
       "      <td>0.4840</td>\n",
       "      <td>127.0026</td>\n",
       "      <td>53.313</td>\n",
       "      <td>54.335</td>\n",
       "    </tr>\n",
       "    <tr>\n",
       "      <th>76224</th>\n",
       "      <td>Tony Phillips</td>\n",
       "      <td>39.0</td>\n",
       "      <td>120522.0</td>\n",
       "      <td>phillto02</td>\n",
       "      <td>1998</td>\n",
       "      <td>NYM</td>\n",
       "      <td>2</td>\n",
       "      <td>NL</td>\n",
       "      <td>229.0</td>\n",
       "      <td>52</td>\n",
       "      <td>...</td>\n",
       "      <td>4.47436</td>\n",
       "      <td>1.876</td>\n",
       "      <td>1.875</td>\n",
       "      <td>0.4822</td>\n",
       "      <td>0.4867</td>\n",
       "      <td>0.4910</td>\n",
       "      <td>0.4862</td>\n",
       "      <td>81.7931</td>\n",
       "      <td>77.132</td>\n",
       "      <td>79.411</td>\n",
       "    </tr>\n",
       "    <tr>\n",
       "      <th>76225</th>\n",
       "      <td>Tony Phillips</td>\n",
       "      <td>39.0</td>\n",
       "      <td>120522.0</td>\n",
       "      <td>phillto02</td>\n",
       "      <td>1998</td>\n",
       "      <td>TOR</td>\n",
       "      <td>1</td>\n",
       "      <td>AL</td>\n",
       "      <td>60.0</td>\n",
       "      <td>13</td>\n",
       "      <td>...</td>\n",
       "      <td>4.87948</td>\n",
       "      <td>1.950</td>\n",
       "      <td>1.923</td>\n",
       "      <td>0.5438</td>\n",
       "      <td>0.5305</td>\n",
       "      <td>0.5090</td>\n",
       "      <td>0.4843</td>\n",
       "      <td>158.6431</td>\n",
       "      <td>20.340</td>\n",
       "      <td>20.664</td>\n",
       "    </tr>\n",
       "    <tr>\n",
       "      <th>76226</th>\n",
       "      <td>Tony Phillips</td>\n",
       "      <td>40.0</td>\n",
       "      <td>120522.0</td>\n",
       "      <td>phillto02</td>\n",
       "      <td>1999</td>\n",
       "      <td>OAK</td>\n",
       "      <td>1</td>\n",
       "      <td>AL</td>\n",
       "      <td>484.0</td>\n",
       "      <td>106</td>\n",
       "      <td>...</td>\n",
       "      <td>5.12948</td>\n",
       "      <td>1.962</td>\n",
       "      <td>1.950</td>\n",
       "      <td>0.5003</td>\n",
       "      <td>0.5054</td>\n",
       "      <td>0.4955</td>\n",
       "      <td>0.4846</td>\n",
       "      <td>107.7771</td>\n",
       "      <td>164.221</td>\n",
       "      <td>173.890</td>\n",
       "    </tr>\n",
       "  </tbody>\n",
       "</table>\n",
       "<p>20 rows × 49 columns</p>\n",
       "</div>"
      ],
      "text/plain": [
       "         name_common   age    mlb_ID  player_ID  year_ID team_ID  stint_ID  \\\n",
       "76207  Tony Phillips  23.0  120522.0  phillto02     1982     OAK         1   \n",
       "76208  Tony Phillips  24.0  120522.0  phillto02     1983     OAK         1   \n",
       "76209  Tony Phillips  25.0  120522.0  phillto02     1984     OAK         1   \n",
       "76210  Tony Phillips  26.0  120522.0  phillto02     1985     OAK         1   \n",
       "76211  Tony Phillips  27.0  120522.0  phillto02     1986     OAK         1   \n",
       "76212  Tony Phillips  28.0  120522.0  phillto02     1987     OAK         1   \n",
       "76213  Tony Phillips  29.0  120522.0  phillto02     1988     OAK         1   \n",
       "76214  Tony Phillips  30.0  120522.0  phillto02     1989     OAK         1   \n",
       "76215  Tony Phillips  31.0  120522.0  phillto02     1990     DET         1   \n",
       "76216  Tony Phillips  32.0  120522.0  phillto02     1991     DET         1   \n",
       "76217  Tony Phillips  33.0  120522.0  phillto02     1992     DET         1   \n",
       "76218  Tony Phillips  34.0  120522.0  phillto02     1993     DET         1   \n",
       "76219  Tony Phillips  35.0  120522.0  phillto02     1994     DET         1   \n",
       "76220  Tony Phillips  36.0  120522.0  phillto02     1995     CAL         1   \n",
       "76221  Tony Phillips  37.0  120522.0  phillto02     1996     CHW         1   \n",
       "76222  Tony Phillips  38.0  120522.0  phillto02     1997     ANA         2   \n",
       "76223  Tony Phillips  38.0  120522.0  phillto02     1997     CHW         1   \n",
       "76224  Tony Phillips  39.0  120522.0  phillto02     1998     NYM         2   \n",
       "76225  Tony Phillips  39.0  120522.0  phillto02     1998     TOR         1   \n",
       "76226  Tony Phillips  40.0  120522.0  phillto02     1999     OAK         1   \n",
       "\n",
       "      lg_ID     PA    G   ...     oppRpG_rep  pyth_exponent  \\\n",
       "76207    AL  100.0   40   ...        4.39585          1.869   \n",
       "76208    AL  476.0  148   ...        4.38778          1.872   \n",
       "76209    AL  505.0  154   ...        4.31999          1.864   \n",
       "76210    AL  178.0   42   ...        4.43841          1.890   \n",
       "76211    AL  532.0  118   ...        4.49203          1.893   \n",
       "76212    AL  441.0  111   ...        4.79824          1.920   \n",
       "76213    AL  251.0   79   ...        4.27049          1.853   \n",
       "76214    AL  524.0  143   ...        4.19154          1.851   \n",
       "76215    AL  687.0  152   ...        4.17735          1.855   \n",
       "76216    AL  655.0  146   ...        4.32211          1.876   \n",
       "76217    AL  733.0  159   ...        4.16373          1.856   \n",
       "76218    AL  707.0  151   ...        4.57187          1.909   \n",
       "76219    AL  538.0  114   ...        5.08630          1.965   \n",
       "76220    AL  643.0  139   ...        4.93792          1.948   \n",
       "76221    AL  719.0  153   ...        5.23287          1.971   \n",
       "76222    AL  487.0  105   ...        4.79852          1.921   \n",
       "76223    AL  161.0   36   ...        4.79852          1.935   \n",
       "76224    NL  229.0   52   ...        4.47436          1.876   \n",
       "76225    AL   60.0   13   ...        4.87948          1.950   \n",
       "76226    AL  484.0  106   ...        5.12948          1.962   \n",
       "\n",
       "       pyth_exponent_rep  waa_win_perc  waa_win_perc_off  waa_win_perc_def  \\\n",
       "76207              1.863        0.5052            0.5007            0.5092   \n",
       "76208              1.864        0.4982            0.5036            0.5006   \n",
       "76209              1.856        0.5015            0.5036            0.5038   \n",
       "76210              1.872        0.5288            0.5163            0.5157   \n",
       "76211              1.878        0.5235            0.5113            0.5154   \n",
       "76212              1.913        0.5041            0.5002            0.5071   \n",
       "76213              1.849        0.4850            0.4953            0.4902   \n",
       "76214              1.841        0.5039            0.5027            0.5039   \n",
       "76215              1.841        0.5169            0.5081            0.5110   \n",
       "76216              1.858        0.5206            0.5140            0.5061   \n",
       "76217              1.839        0.5162            0.5111            0.5034   \n",
       "76218              1.888        0.5219            0.5200            0.5002   \n",
       "76219              1.946        0.5258            0.5175            0.5048   \n",
       "76220              1.930        0.5159            0.5158            0.4999   \n",
       "76221              1.961        0.5043            0.5023            0.4987   \n",
       "76222              1.914        0.4919            0.4961            0.4935   \n",
       "76223              1.914        0.5130            0.5207            0.4897   \n",
       "76224              1.875        0.4822            0.4867            0.4910   \n",
       "76225              1.923        0.5438            0.5305            0.5090   \n",
       "76226              1.950        0.5003            0.5054            0.4955   \n",
       "\n",
       "       waa_win_perc_rep  OPS_plus   TOB_lg    TB_lg  \n",
       "76207            0.4910   74.5133   30.391   31.720  \n",
       "76208            0.4885   85.3142  147.916  159.897  \n",
       "76209            0.4881   96.7953  157.119  172.913  \n",
       "76210            0.4850  120.7747   55.353   62.935  \n",
       "76211            0.4850  102.9071  166.628  173.357  \n",
       "76212            0.4867   94.3616  142.192  156.186  \n",
       "76213            0.4884   79.4297   80.100   81.705  \n",
       "76214            0.4858   99.1579  166.962  170.749  \n",
       "76215            0.4836  100.9057  222.926  223.069  \n",
       "76216            0.4838  121.9524  216.073  224.641  \n",
       "76217            0.4827  118.7150  239.002  233.310  \n",
       "76218            0.4837  129.9240  237.145  229.739  \n",
       "76219            0.4846  126.4147  185.502  190.136  \n",
       "76220            0.4843  122.9453  220.078  223.177  \n",
       "76221            0.4848  109.4060  246.489  252.851  \n",
       "76222            0.4840   99.1130  166.206  175.203  \n",
       "76223            0.4840  127.0026   53.313   54.335  \n",
       "76224            0.4862   81.7931   77.132   79.411  \n",
       "76225            0.4843  158.6431   20.340   20.664  \n",
       "76226            0.4846  107.7771  164.221  173.890  \n",
       "\n",
       "[20 rows x 49 columns]"
      ]
     },
     "execution_count": 469,
     "metadata": {},
     "output_type": "execute_result"
    }
   ],
   "source": [
    "df_probably_not_pitchers[df_probably_not_pitchers['name_common'] == 'Tony Phillips']"
   ]
  },
  {
   "cell_type": "code",
   "execution_count": null,
   "metadata": {},
   "outputs": [],
   "source": [
    "## OLD CODE -- doing the analysis with all features\n",
    "\n",
    "# for the player specific SVR, I will choose players with at least 20 years of activity. \n",
    "# the data will be split as follows:\n",
    "# x_train: year 0-5 data. the shape is: (num_samples, num_features) -> (6, num_features)\n",
    "# y_train: year 6-12 OPS_plus. the shape is: (num_samples, 1) -> (6,1)\n",
    "\n",
    "# x_test: year 13-14 data\n",
    "# y_test: year 14-15 data\n",
    "\n"
   ]
  },
  {
   "cell_type": "code",
   "execution_count": null,
   "metadata": {},
   "outputs": [],
   "source": [
    "def prepare_test_train(player_x_data, player_y_data):\n",
    "    i_0, i_1, i_2, i_3 = 6, 12, 13, 14 # hardcoded for now. these are just the ranges described above\n",
    "    x_train = player_x_data[:i_0,:]\n",
    "    y_train = player_y_data[i_0:i_1]\n",
    "    x_test = player_x_data[i_1:i_2]\n",
    "    y_test = player_y_data[i_2: i_3]\n",
    "    return (x_train, y_train, x_test, y_test)"
   ]
  },
  {
   "cell_type": "code",
   "execution_count": null,
   "metadata": {},
   "outputs": [],
   "source": [
    "from sklearn import preprocessing\n",
    "\n",
    "def prepare_rows(player_rows):\n",
    "    player_x_data =player_rows[['age', 'PA', 'G', 'Inn', 'runs_bat', 'runs_br', 'runs_dp', 'runs_field',\n",
    "                                       'WAA', 'WAA_off', 'WAA_def', 'WAR']].values\n",
    "    player_y_data = player_rows[['OPS_plus']].values\n",
    "    return (preprocessing.scale(player_x_data), preprocessing.scale(player_y_data))"
   ]
  },
  {
   "cell_type": "code",
   "execution_count": null,
   "metadata": {},
   "outputs": [],
   "source": [
    "from collections import defaultdict\n",
    "loss_dict = defaultdict(float)\n",
    "tot_mse_loss = 0\n",
    "tot_mae_loss = 0\n",
    "y_true = []\n",
    "y_pred = []\n",
    "\n",
    "for player in players_with_more_than_20_years:\n",
    "    print(player)\n",
    "    player_rows = df_probably_not_pitchers[df_probably_not_pitchers['name_common'] == player]\n",
    "    data = prepare_rows_new(player_rows)\n",
    "    data_tuple = prepare_test_train_new(data[0], data[1])\n",
    "    results = run_svr(data_tuple)\n",
    "    loss_dict[player] = results\n",
    "    y_true.append(results[0][0])\n",
    "    y_pred.append(results[1][0])\n",
    "    tot_mse_loss += loss_dict[player][-1]\n",
    "    tot_mae_loss += loss_dict[player][-2]"
   ]
  },
  {
   "cell_type": "code",
   "execution_count": null,
   "metadata": {},
   "outputs": [],
   "source": [
    "\n",
    "# analysis on best 10:\n",
    "\n",
    "for player in best_ten:\n",
    "    player_name = player[0]\n",
    "    player_rows = df_probably_not_pitchers[df_probably_not_pitchers['name_common'] == player_name]\n",
    "    data = prepare_rows(player_rows)\n",
    "    data_tuple = prepare_test_train(data[0], data[1])\n",
    "    x_train, y_train, x_test, y_test = data_tuple\n",
    "\n",
    "    parameters = {\n",
    "        \"kernel\": [\"rbf\"],\n",
    "        \"C\": [1,10,10,100,150,1000],\n",
    "        \"gamma\": [1e-8, 1e-7, 1e-6, 1e-5, 1e-4, 1e-3, 1e-2, 1e-1, 1e8],\n",
    "        \"epsilon\": [0.1, 0.01]\n",
    "        }\n",
    "\n",
    "    svr = GridSearchCV(SVR(), parameters, cv=3)\n",
    "    svr.fit(x_train, y_train.ravel())\n",
    "    y_svr_pred = svr.predict(x_test)\n",
    "    \n",
    "    \n",
    "\n",
    "    X_grid = np.arange(min(x_train[:,:1]), max(x_train[:,:1]), 0.1)\n",
    "    X_grid = X_grid.reshape((len(X_grid), 1))\n",
    "\n",
    "    plt.plot(svr.predict(x_train), color = 'red')\n",
    "    plt.plot(y_train, color = 'blue')\n",
    "\n",
    "\n",
    "    plt.scatter(len(y_train),  x_test[0][-1], color = 'black')\n",
    "    plt.scatter(len(y_train) + 1, y_svr_pred, color = 'green')\n",
    "    plt.scatter(len(y_train) + 1, y_test, color = 'purple')\n",
    "    plt.legend(('Predicted Training', 'Expected Training', 'Year to Predict From', 'Predicted Test','Actual Test'))\n",
    "\n",
    "    plt.title('Expected OPS_plus vs Predicted for %s' % player_name)\n",
    "    plt.xlabel('Year')\n",
    "    plt.ylabel('OPS_plus')\n",
    "    plt.show()"
   ]
  },
  {
   "cell_type": "code",
   "execution_count": null,
   "metadata": {},
   "outputs": [],
   "source": []
  }
 ],
 "metadata": {
  "kernelspec": {
   "display_name": "Python 3",
   "language": "python",
   "name": "python3"
  },
  "language_info": {
   "codemirror_mode": {
    "name": "ipython",
    "version": 3
   },
   "file_extension": ".py",
   "mimetype": "text/x-python",
   "name": "python",
   "nbconvert_exporter": "python",
   "pygments_lexer": "ipython3",
   "version": "3.7.1"
  }
 },
 "nbformat": 4,
 "nbformat_minor": 2
}
