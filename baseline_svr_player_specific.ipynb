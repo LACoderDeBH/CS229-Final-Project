{
 "cells": [
  {
   "cell_type": "code",
   "execution_count": 3,
   "metadata": {},
   "outputs": [],
   "source": [
    "import numpy as np\n",
    "from sklearn.svm import SVR\n",
    "import pandas as pd\n",
    "import matplotlib.pyplot as plt"
   ]
  },
  {
   "cell_type": "code",
   "execution_count": 4,
   "metadata": {},
   "outputs": [
    {
     "data": {
      "text/html": [
       "<div>\n",
       "<style scoped>\n",
       "    .dataframe tbody tr th:only-of-type {\n",
       "        vertical-align: middle;\n",
       "    }\n",
       "\n",
       "    .dataframe tbody tr th {\n",
       "        vertical-align: top;\n",
       "    }\n",
       "\n",
       "    .dataframe thead th {\n",
       "        text-align: right;\n",
       "    }\n",
       "</style>\n",
       "<table border=\"1\" class=\"dataframe\">\n",
       "  <thead>\n",
       "    <tr style=\"text-align: right;\">\n",
       "      <th></th>\n",
       "      <th>name_common</th>\n",
       "      <th>age</th>\n",
       "      <th>mlb_ID</th>\n",
       "      <th>player_ID</th>\n",
       "      <th>year_ID</th>\n",
       "      <th>team_ID</th>\n",
       "      <th>stint_ID</th>\n",
       "      <th>lg_ID</th>\n",
       "      <th>PA</th>\n",
       "      <th>G</th>\n",
       "      <th>...</th>\n",
       "      <th>oppRpG_rep</th>\n",
       "      <th>pyth_exponent</th>\n",
       "      <th>pyth_exponent_rep</th>\n",
       "      <th>waa_win_perc</th>\n",
       "      <th>waa_win_perc_off</th>\n",
       "      <th>waa_win_perc_def</th>\n",
       "      <th>waa_win_perc_rep</th>\n",
       "      <th>OPS_plus</th>\n",
       "      <th>TOB_lg</th>\n",
       "      <th>TB_lg</th>\n",
       "    </tr>\n",
       "  </thead>\n",
       "  <tbody>\n",
       "  </tbody>\n",
       "</table>\n",
       "<p>0 rows × 49 columns</p>\n",
       "</div>"
      ],
      "text/plain": [
       "Empty DataFrame\n",
       "Columns: [name_common, age, mlb_ID, player_ID, year_ID, team_ID, stint_ID, lg_ID, PA, G, Inn, runs_bat, runs_br, runs_dp, runs_field, runs_infield, runs_outfield, runs_catcher, runs_good_plays, runs_defense, runs_position, runs_position_p, runs_replacement, runs_above_rep, runs_above_avg, runs_above_avg_off, runs_above_avg_def, WAA, WAA_off, WAA_def, WAR, WAR_def, WAR_off, WAR_rep, salary, pitcher, teamRpG, oppRpG, oppRpPA_rep, oppRpG_rep, pyth_exponent, pyth_exponent_rep, waa_win_perc, waa_win_perc_off, waa_win_perc_def, waa_win_perc_rep, OPS_plus, TOB_lg, TB_lg]\n",
       "Index: []\n",
       "\n",
       "[0 rows x 49 columns]"
      ]
     },
     "execution_count": 4,
     "metadata": {},
     "output_type": "execute_result"
    }
   ],
   "source": [
    "# first, we will attempt with our favorite player who's actually a hitter Ted Williams\n",
    "batting_data_path = 'bsb_ref.csv'\n",
    "# INFO:\n",
    "# 101,332 Players with up to 20 features each (exluding year, including team)\n",
    "# if metric not reported for player, set to 0.0 by default\n",
    "\n",
    "df = pd.read_csv(batting_data_path)\n",
    "df = df.fillna(0)\n",
    "df_recent_players = df[df.year_ID >= 1975] #48k players\n",
    "ted_williams = df_recent_players.loc[df_recent_players['name_common'] == 'Ted Williams']\n",
    "\n",
    "ted_williams"
   ]
  },
  {
   "cell_type": "code",
   "execution_count": null,
   "metadata": {},
   "outputs": [],
   "source": []
  }
 ],
 "metadata": {
  "kernelspec": {
   "display_name": "Python 3",
   "language": "python",
   "name": "python3"
  },
  "language_info": {
   "codemirror_mode": {
    "name": "ipython",
    "version": 3
   },
   "file_extension": ".py",
   "mimetype": "text/x-python",
   "name": "python",
   "nbconvert_exporter": "python",
   "pygments_lexer": "ipython3",
   "version": "3.7.1"
  }
 },
 "nbformat": 4,
 "nbformat_minor": 2
}
