{
 "cells": [
  {
   "cell_type": "code",
   "execution_count": 3,
   "metadata": {},
   "outputs": [],
   "source": [
    "import numpy as np\n",
    "from sklearn.svm import SVR\n",
    "import pandas as pd\n",
    "import matplotlib.pyplot as plt"
   ]
  },
  {
   "cell_type": "code",
   "execution_count": 9,
   "metadata": {},
   "outputs": [
    {
     "name": "stdout",
     "output_type": "stream",
     "text": [
      "1322\n"
     ]
    }
   ],
   "source": [
    "# first, we will attempt with our favorite player who's actually a hitter Ted Williams\n",
    "batting_data_path = 'bsb_ref.csv'\n",
    "# INFO:\n",
    "# 101,332 Players with up to 20 features each (exluding year, including team)\n",
    "# if metric not reported for player, set to 0.0 by default\n",
    "\n",
    "df = pd.read_csv(batting_data_path)\n",
    "df = df.fillna(0)\n",
    "df_recent_players = df[df.year_ID >= 1975] #48k players\n",
    "df_probably_not_pitchers = df_recent_players[df_recent_players['PA'] >= 50]\n",
    "\n",
    "players = list(set(df_probably_not_pitchers['name_common'])) # just a set of all players\n",
    "\n",
    "\n",
    "players_with_more_than_10 = [player for player in players if len(df_recent_players[df_recent_players['name_common'] == player]) > 10]\n",
    "\n",
    "print(len(sorted_players))\n",
    "\n",
    "# ted_williams = df_recent_players.loc[df_recent_players['name_common'] == 'Ted Williams']"
   ]
  },
  {
   "cell_type": "code",
   "execution_count": null,
   "metadata": {},
   "outputs": [],
   "source": [
    "df_recent_players[df_recent_players['name_common'] == players_with_more_than_10[0]]"
   ]
  }
 ],
 "metadata": {
  "kernelspec": {
   "display_name": "Python 3",
   "language": "python",
   "name": "python3"
  },
  "language_info": {
   "codemirror_mode": {
    "name": "ipython",
    "version": 3
   },
   "file_extension": ".py",
   "mimetype": "text/x-python",
   "name": "python",
   "nbconvert_exporter": "python",
   "pygments_lexer": "ipython3",
   "version": "3.7.1"
  }
 },
 "nbformat": 4,
 "nbformat_minor": 2
}
