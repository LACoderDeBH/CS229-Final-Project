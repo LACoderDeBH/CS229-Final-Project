{
 "cells": [
  {
   "cell_type": "markdown",
   "metadata": {},
   "source": []
  },
  {
   "cell_type": "code",
   "execution_count": 17,
   "metadata": {},
   "outputs": [],
   "source": [
    "import csv\n",
    "import argparse\n",
    "import pandas as pd\n",
    "import numpy as np\n",
    "import os\n",
    "\n",
    "from sklearn.preprocessing import OneHotEncoder"
   ]
  },
  {
   "cell_type": "code",
   "execution_count": 18,
   "metadata": {},
   "outputs": [],
   "source": [
    "batting_data_path = 'data/Batting.csv'\n",
    "# INFO:\n",
    "# 101,332 Players with up to 20 features each (exluding year, including team)\n",
    "# if metric not reported for player, set to 0.0 by default\n",
    "\n",
    "df = pd.read_csv(batting_data_path)\n",
    "df = df.fillna(0)"
   ]
  },
  {
   "cell_type": "code",
   "execution_count": 19,
   "metadata": {},
   "outputs": [],
   "source": [
    "df_recent_players = df[df.yearID >= 1975] #48k players\n",
    "team_set = set(df_recent_players.teamID)\n",
    "\n",
    "#  NOTE: Potentially create one-hot encoding of teams...\n",
    "## I chose to leave it off for now because I think it may\n",
    "## create Data leakage in our model\n"
   ]
  },
  {
   "cell_type": "code",
   "execution_count": 30,
   "metadata": {},
   "outputs": [
    {
     "data": {
      "text/plain": [
       "18659"
      ]
     },
     "execution_count": 30,
     "metadata": {},
     "output_type": "execute_result"
    }
   ],
   "source": [
    "#  Randomly shuffle by player year\n",
    "## NOTE: This may be an inaccurate assumption to make.\n",
    "## We're implicitly assuming that training on players from 1975\n",
    "## won't impact prediction accuracy for modern day players.\n",
    "\n",
    "## If this is an incorrect assumption, consider data augmentation,\n",
    "## taking into account differences between current-day MLB players\n",
    "\n",
    "df_recent_players = df.sample(frac=1) #randomly permute by year\n",
    "player_ids = set(df_recent_players.playerID) #List of all player ids\n",
    "# len(player_ids)\n",
    "# df_recent_players"
   ]
  },
  {
   "cell_type": "code",
   "execution_count": 26,
   "metadata": {},
   "outputs": [
    {
     "data": {
      "text/plain": [
       "0         0.0\n",
       "1         0.0\n",
       "2         0.0\n",
       "3         0.0\n",
       "4         0.0\n",
       "         ... \n",
       "101327    0.0\n",
       "101328    5.0\n",
       "101329    3.0\n",
       "101330    6.0\n",
       "101331    0.0\n",
       "Name: GIDP, Length: 101332, dtype: float64"
      ]
     },
     "execution_count": 26,
     "metadata": {},
     "output_type": "execute_result"
    }
   ],
   "source": []
  },
  {
   "cell_type": "code",
   "execution_count": null,
   "metadata": {},
   "outputs": [],
   "source": []
  }
 ],
 "metadata": {
  "kernelspec": {
   "display_name": "Python 3",
   "language": "python",
   "name": "python3"
  },
  "language_info": {
   "codemirror_mode": {
    "name": "ipython",
    "version": 3
   },
   "file_extension": ".py",
   "mimetype": "text/x-python",
   "name": "python",
   "nbconvert_exporter": "python",
   "pygments_lexer": "ipython3",
   "version": "3.7.4"
  }
 },
 "nbformat": 4,
 "nbformat_minor": 2
}
